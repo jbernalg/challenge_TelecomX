{
 "cells": [
  {
   "cell_type": "markdown",
   "id": "1d3fcb8d",
   "metadata": {},
   "source": [
    "# __Analisis de Evasion de Clientes__"
   ]
  },
  {
   "cell_type": "markdown",
   "id": "3f82470c",
   "metadata": {},
   "source": [
    "## Librerias"
   ]
  },
  {
   "cell_type": "code",
   "execution_count": 137,
   "id": "fc29a7b2",
   "metadata": {},
   "outputs": [],
   "source": [
    "import pandas as pd\n",
    "import numpy as np \n",
    "import matplotlib.pyplot as plt\n",
    "from IPython.display import Image, display"
   ]
  },
  {
   "cell_type": "code",
   "execution_count": 2,
   "id": "f9571b5c",
   "metadata": {},
   "outputs": [
    {
     "name": "stdout",
     "output_type": "stream",
     "text": [
      "2.11.0\n"
     ]
    }
   ],
   "source": [
    "import numexpr\n",
    "print(numexpr.__version__)"
   ]
  },
  {
   "cell_type": "markdown",
   "id": "de858c2d",
   "metadata": {},
   "source": [
    "## Extraccion de datos"
   ]
  },
  {
   "cell_type": "markdown",
   "id": "8b35f6aa",
   "metadata": {},
   "source": [
    "### Importar Datos"
   ]
  },
  {
   "cell_type": "code",
   "execution_count": 3,
   "id": "87156f56",
   "metadata": {},
   "outputs": [
    {
     "data": {
      "text/html": [
       "<div>\n",
       "<style scoped>\n",
       "    .dataframe tbody tr th:only-of-type {\n",
       "        vertical-align: middle;\n",
       "    }\n",
       "\n",
       "    .dataframe tbody tr th {\n",
       "        vertical-align: top;\n",
       "    }\n",
       "\n",
       "    .dataframe thead th {\n",
       "        text-align: right;\n",
       "    }\n",
       "</style>\n",
       "<table border=\"1\" class=\"dataframe\">\n",
       "  <thead>\n",
       "    <tr style=\"text-align: right;\">\n",
       "      <th></th>\n",
       "      <th>customerID</th>\n",
       "      <th>Churn</th>\n",
       "      <th>customer</th>\n",
       "      <th>phone</th>\n",
       "      <th>internet</th>\n",
       "      <th>account</th>\n",
       "    </tr>\n",
       "  </thead>\n",
       "  <tbody>\n",
       "    <tr>\n",
       "      <th>0</th>\n",
       "      <td>0002-ORFBO</td>\n",
       "      <td>No</td>\n",
       "      <td>{'gender': 'Female', 'SeniorCitizen': 0, 'Part...</td>\n",
       "      <td>{'PhoneService': 'Yes', 'MultipleLines': 'No'}</td>\n",
       "      <td>{'InternetService': 'DSL', 'OnlineSecurity': '...</td>\n",
       "      <td>{'Contract': 'One year', 'PaperlessBilling': '...</td>\n",
       "    </tr>\n",
       "    <tr>\n",
       "      <th>1</th>\n",
       "      <td>0003-MKNFE</td>\n",
       "      <td>No</td>\n",
       "      <td>{'gender': 'Male', 'SeniorCitizen': 0, 'Partne...</td>\n",
       "      <td>{'PhoneService': 'Yes', 'MultipleLines': 'Yes'}</td>\n",
       "      <td>{'InternetService': 'DSL', 'OnlineSecurity': '...</td>\n",
       "      <td>{'Contract': 'Month-to-month', 'PaperlessBilli...</td>\n",
       "    </tr>\n",
       "    <tr>\n",
       "      <th>2</th>\n",
       "      <td>0004-TLHLJ</td>\n",
       "      <td>Yes</td>\n",
       "      <td>{'gender': 'Male', 'SeniorCitizen': 0, 'Partne...</td>\n",
       "      <td>{'PhoneService': 'Yes', 'MultipleLines': 'No'}</td>\n",
       "      <td>{'InternetService': 'Fiber optic', 'OnlineSecu...</td>\n",
       "      <td>{'Contract': 'Month-to-month', 'PaperlessBilli...</td>\n",
       "    </tr>\n",
       "    <tr>\n",
       "      <th>3</th>\n",
       "      <td>0011-IGKFF</td>\n",
       "      <td>Yes</td>\n",
       "      <td>{'gender': 'Male', 'SeniorCitizen': 1, 'Partne...</td>\n",
       "      <td>{'PhoneService': 'Yes', 'MultipleLines': 'No'}</td>\n",
       "      <td>{'InternetService': 'Fiber optic', 'OnlineSecu...</td>\n",
       "      <td>{'Contract': 'Month-to-month', 'PaperlessBilli...</td>\n",
       "    </tr>\n",
       "    <tr>\n",
       "      <th>4</th>\n",
       "      <td>0013-EXCHZ</td>\n",
       "      <td>Yes</td>\n",
       "      <td>{'gender': 'Female', 'SeniorCitizen': 1, 'Part...</td>\n",
       "      <td>{'PhoneService': 'Yes', 'MultipleLines': 'No'}</td>\n",
       "      <td>{'InternetService': 'Fiber optic', 'OnlineSecu...</td>\n",
       "      <td>{'Contract': 'Month-to-month', 'PaperlessBilli...</td>\n",
       "    </tr>\n",
       "  </tbody>\n",
       "</table>\n",
       "</div>"
      ],
      "text/plain": [
       "   customerID Churn                                           customer  \\\n",
       "0  0002-ORFBO    No  {'gender': 'Female', 'SeniorCitizen': 0, 'Part...   \n",
       "1  0003-MKNFE    No  {'gender': 'Male', 'SeniorCitizen': 0, 'Partne...   \n",
       "2  0004-TLHLJ   Yes  {'gender': 'Male', 'SeniorCitizen': 0, 'Partne...   \n",
       "3  0011-IGKFF   Yes  {'gender': 'Male', 'SeniorCitizen': 1, 'Partne...   \n",
       "4  0013-EXCHZ   Yes  {'gender': 'Female', 'SeniorCitizen': 1, 'Part...   \n",
       "\n",
       "                                             phone  \\\n",
       "0   {'PhoneService': 'Yes', 'MultipleLines': 'No'}   \n",
       "1  {'PhoneService': 'Yes', 'MultipleLines': 'Yes'}   \n",
       "2   {'PhoneService': 'Yes', 'MultipleLines': 'No'}   \n",
       "3   {'PhoneService': 'Yes', 'MultipleLines': 'No'}   \n",
       "4   {'PhoneService': 'Yes', 'MultipleLines': 'No'}   \n",
       "\n",
       "                                            internet  \\\n",
       "0  {'InternetService': 'DSL', 'OnlineSecurity': '...   \n",
       "1  {'InternetService': 'DSL', 'OnlineSecurity': '...   \n",
       "2  {'InternetService': 'Fiber optic', 'OnlineSecu...   \n",
       "3  {'InternetService': 'Fiber optic', 'OnlineSecu...   \n",
       "4  {'InternetService': 'Fiber optic', 'OnlineSecu...   \n",
       "\n",
       "                                             account  \n",
       "0  {'Contract': 'One year', 'PaperlessBilling': '...  \n",
       "1  {'Contract': 'Month-to-month', 'PaperlessBilli...  \n",
       "2  {'Contract': 'Month-to-month', 'PaperlessBilli...  \n",
       "3  {'Contract': 'Month-to-month', 'PaperlessBilli...  \n",
       "4  {'Contract': 'Month-to-month', 'PaperlessBilli...  "
      ]
     },
     "execution_count": 3,
     "metadata": {},
     "output_type": "execute_result"
    }
   ],
   "source": [
    "url = 'https://raw.githubusercontent.com/ingridcristh/challenge2-data-science-LATAM/refs/heads/main/TelecomX_Data.json'\n",
    "\n",
    "df = pd.read_json(url)\n",
    "df.head()"
   ]
  },
  {
   "cell_type": "markdown",
   "id": "a0fe9ebf",
   "metadata": {},
   "source": [
    "Como vemos, hay varias variables que contienen diccionarios en sus valores. Por tanto, debemos expandirlas"
   ]
  },
  {
   "cell_type": "code",
   "execution_count": 4,
   "id": "6c7fe8e6",
   "metadata": {},
   "outputs": [],
   "source": [
    "# expandir cada variable\n",
    "df_customer = pd.json_normalize(df['customer'])\n",
    "df_phone = pd.json_normalize(df['phone'])\n",
    "df_internet = pd.json_normalize(df['internet'])\n",
    "df_account = pd.json_normalize(df['account'])"
   ]
  },
  {
   "cell_type": "code",
   "execution_count": 5,
   "id": "5dee2b8e",
   "metadata": {},
   "outputs": [],
   "source": [
    "# seleccionar variables no expandidas de df\n",
    "df = df[['customerID', 'Churn']]"
   ]
  },
  {
   "cell_type": "code",
   "execution_count": 6,
   "id": "dce81907",
   "metadata": {},
   "outputs": [
    {
     "data": {
      "text/html": [
       "<div>\n",
       "<style scoped>\n",
       "    .dataframe tbody tr th:only-of-type {\n",
       "        vertical-align: middle;\n",
       "    }\n",
       "\n",
       "    .dataframe tbody tr th {\n",
       "        vertical-align: top;\n",
       "    }\n",
       "\n",
       "    .dataframe thead th {\n",
       "        text-align: right;\n",
       "    }\n",
       "</style>\n",
       "<table border=\"1\" class=\"dataframe\">\n",
       "  <thead>\n",
       "    <tr style=\"text-align: right;\">\n",
       "      <th></th>\n",
       "      <th>customerID</th>\n",
       "      <th>Churn</th>\n",
       "      <th>gender</th>\n",
       "      <th>SeniorCitizen</th>\n",
       "      <th>Partner</th>\n",
       "      <th>Dependents</th>\n",
       "      <th>tenure</th>\n",
       "      <th>PhoneService</th>\n",
       "      <th>MultipleLines</th>\n",
       "      <th>InternetService</th>\n",
       "      <th>...</th>\n",
       "      <th>OnlineBackup</th>\n",
       "      <th>DeviceProtection</th>\n",
       "      <th>TechSupport</th>\n",
       "      <th>StreamingTV</th>\n",
       "      <th>StreamingMovies</th>\n",
       "      <th>Contract</th>\n",
       "      <th>PaperlessBilling</th>\n",
       "      <th>PaymentMethod</th>\n",
       "      <th>Charges.Monthly</th>\n",
       "      <th>Charges.Total</th>\n",
       "    </tr>\n",
       "  </thead>\n",
       "  <tbody>\n",
       "    <tr>\n",
       "      <th>0</th>\n",
       "      <td>0002-ORFBO</td>\n",
       "      <td>No</td>\n",
       "      <td>Female</td>\n",
       "      <td>0</td>\n",
       "      <td>Yes</td>\n",
       "      <td>Yes</td>\n",
       "      <td>9</td>\n",
       "      <td>Yes</td>\n",
       "      <td>No</td>\n",
       "      <td>DSL</td>\n",
       "      <td>...</td>\n",
       "      <td>Yes</td>\n",
       "      <td>No</td>\n",
       "      <td>Yes</td>\n",
       "      <td>Yes</td>\n",
       "      <td>No</td>\n",
       "      <td>One year</td>\n",
       "      <td>Yes</td>\n",
       "      <td>Mailed check</td>\n",
       "      <td>65.6</td>\n",
       "      <td>593.3</td>\n",
       "    </tr>\n",
       "    <tr>\n",
       "      <th>1</th>\n",
       "      <td>0003-MKNFE</td>\n",
       "      <td>No</td>\n",
       "      <td>Male</td>\n",
       "      <td>0</td>\n",
       "      <td>No</td>\n",
       "      <td>No</td>\n",
       "      <td>9</td>\n",
       "      <td>Yes</td>\n",
       "      <td>Yes</td>\n",
       "      <td>DSL</td>\n",
       "      <td>...</td>\n",
       "      <td>No</td>\n",
       "      <td>No</td>\n",
       "      <td>No</td>\n",
       "      <td>No</td>\n",
       "      <td>Yes</td>\n",
       "      <td>Month-to-month</td>\n",
       "      <td>No</td>\n",
       "      <td>Mailed check</td>\n",
       "      <td>59.9</td>\n",
       "      <td>542.4</td>\n",
       "    </tr>\n",
       "    <tr>\n",
       "      <th>2</th>\n",
       "      <td>0004-TLHLJ</td>\n",
       "      <td>Yes</td>\n",
       "      <td>Male</td>\n",
       "      <td>0</td>\n",
       "      <td>No</td>\n",
       "      <td>No</td>\n",
       "      <td>4</td>\n",
       "      <td>Yes</td>\n",
       "      <td>No</td>\n",
       "      <td>Fiber optic</td>\n",
       "      <td>...</td>\n",
       "      <td>No</td>\n",
       "      <td>Yes</td>\n",
       "      <td>No</td>\n",
       "      <td>No</td>\n",
       "      <td>No</td>\n",
       "      <td>Month-to-month</td>\n",
       "      <td>Yes</td>\n",
       "      <td>Electronic check</td>\n",
       "      <td>73.9</td>\n",
       "      <td>280.85</td>\n",
       "    </tr>\n",
       "    <tr>\n",
       "      <th>3</th>\n",
       "      <td>0011-IGKFF</td>\n",
       "      <td>Yes</td>\n",
       "      <td>Male</td>\n",
       "      <td>1</td>\n",
       "      <td>Yes</td>\n",
       "      <td>No</td>\n",
       "      <td>13</td>\n",
       "      <td>Yes</td>\n",
       "      <td>No</td>\n",
       "      <td>Fiber optic</td>\n",
       "      <td>...</td>\n",
       "      <td>Yes</td>\n",
       "      <td>Yes</td>\n",
       "      <td>No</td>\n",
       "      <td>Yes</td>\n",
       "      <td>Yes</td>\n",
       "      <td>Month-to-month</td>\n",
       "      <td>Yes</td>\n",
       "      <td>Electronic check</td>\n",
       "      <td>98.0</td>\n",
       "      <td>1237.85</td>\n",
       "    </tr>\n",
       "    <tr>\n",
       "      <th>4</th>\n",
       "      <td>0013-EXCHZ</td>\n",
       "      <td>Yes</td>\n",
       "      <td>Female</td>\n",
       "      <td>1</td>\n",
       "      <td>Yes</td>\n",
       "      <td>No</td>\n",
       "      <td>3</td>\n",
       "      <td>Yes</td>\n",
       "      <td>No</td>\n",
       "      <td>Fiber optic</td>\n",
       "      <td>...</td>\n",
       "      <td>No</td>\n",
       "      <td>No</td>\n",
       "      <td>Yes</td>\n",
       "      <td>Yes</td>\n",
       "      <td>No</td>\n",
       "      <td>Month-to-month</td>\n",
       "      <td>Yes</td>\n",
       "      <td>Mailed check</td>\n",
       "      <td>83.9</td>\n",
       "      <td>267.4</td>\n",
       "    </tr>\n",
       "  </tbody>\n",
       "</table>\n",
       "<p>5 rows × 21 columns</p>\n",
       "</div>"
      ],
      "text/plain": [
       "   customerID Churn  gender  SeniorCitizen Partner Dependents  tenure  \\\n",
       "0  0002-ORFBO    No  Female              0     Yes        Yes       9   \n",
       "1  0003-MKNFE    No    Male              0      No         No       9   \n",
       "2  0004-TLHLJ   Yes    Male              0      No         No       4   \n",
       "3  0011-IGKFF   Yes    Male              1     Yes         No      13   \n",
       "4  0013-EXCHZ   Yes  Female              1     Yes         No       3   \n",
       "\n",
       "  PhoneService MultipleLines InternetService  ... OnlineBackup  \\\n",
       "0          Yes            No             DSL  ...          Yes   \n",
       "1          Yes           Yes             DSL  ...           No   \n",
       "2          Yes            No     Fiber optic  ...           No   \n",
       "3          Yes            No     Fiber optic  ...          Yes   \n",
       "4          Yes            No     Fiber optic  ...           No   \n",
       "\n",
       "  DeviceProtection TechSupport StreamingTV StreamingMovies        Contract  \\\n",
       "0               No         Yes         Yes              No        One year   \n",
       "1               No          No          No             Yes  Month-to-month   \n",
       "2              Yes          No          No              No  Month-to-month   \n",
       "3              Yes          No         Yes             Yes  Month-to-month   \n",
       "4               No         Yes         Yes              No  Month-to-month   \n",
       "\n",
       "  PaperlessBilling     PaymentMethod Charges.Monthly  Charges.Total  \n",
       "0              Yes      Mailed check            65.6          593.3  \n",
       "1               No      Mailed check            59.9          542.4  \n",
       "2              Yes  Electronic check            73.9         280.85  \n",
       "3              Yes  Electronic check            98.0        1237.85  \n",
       "4              Yes      Mailed check            83.9          267.4  \n",
       "\n",
       "[5 rows x 21 columns]"
      ]
     },
     "execution_count": 6,
     "metadata": {},
     "output_type": "execute_result"
    }
   ],
   "source": [
    "# unir todos los dfs en uno\n",
    "df_exp = pd.concat([df, df_customer, df_phone, df_internet, df_account], axis=1)\n",
    "df_exp.head(5)"
   ]
  },
  {
   "cell_type": "markdown",
   "id": "6b1795b7",
   "metadata": {},
   "source": [
    "### Contexto de los datos"
   ]
  },
  {
   "cell_type": "markdown",
   "id": "9b55029b",
   "metadata": {},
   "source": [
    "Se tratan de datos de los clientes de una empresa cuya informacion de cada variable se interpreta como:\n",
    "\n",
    "- _customerID_: número de identificación único de cada cliente\n",
    "- _Churn_: si el cliente dejó o no la empresa\n",
    "- _gender_: género (masculino y femenino)\n",
    "- _SeniorCitizen_: información sobre si un cliente tiene o no una edad igual o mayor a 65 años\n",
    "- _Partner_: si el cliente tiene o no una pareja\n",
    "- _Dependents_: si el cliente tiene o no dependientes\n",
    "- _tenure_: meses de contrato del cliente\n",
    "- _PhoneService_: suscripción al servicio telefónico\n",
    "- _MultipleLines_: suscripción a más de una línea telefónica\n",
    "- _InternetService_: suscripción a un proveedor de internet\n",
    "- _OnlineSecurity_: suscripción adicional de seguridad en línea\n",
    "- _OnlineBackup_: suscripción adicional de respaldo en línea\n",
    "- _DeviceProtection_: suscripción adicional de protección del dispositivo\n",
    "- _TechSupport_: suscripción adicional de soporte técnico, menor tiempo de espera\n",
    "- _StreamingTV_: suscripción de televisión por cable\n",
    "- _StreamingMovies_: suscripción de streaming de películas\n",
    "- _Contract_: tipo de contrato\n",
    "- _PaperlessBilling_: si el cliente prefiere recibir la factura en línea\n",
    "- _PaymentMethod_: forma de pago\n",
    "- _Charges.Monthly_: total de todos los servicios del cliente por mes\n",
    "- _Charges.Total_: total gastado por el cliente"
   ]
  },
  {
   "cell_type": "markdown",
   "id": "4e781488",
   "metadata": {},
   "source": [
    "### Tipo de datos"
   ]
  },
  {
   "cell_type": "code",
   "execution_count": 7,
   "id": "a5a1df3f",
   "metadata": {},
   "outputs": [
    {
     "name": "stdout",
     "output_type": "stream",
     "text": [
      "<class 'pandas.core.frame.DataFrame'>\n",
      "RangeIndex: 7267 entries, 0 to 7266\n",
      "Data columns (total 21 columns):\n",
      " #   Column            Non-Null Count  Dtype  \n",
      "---  ------            --------------  -----  \n",
      " 0   customerID        7267 non-null   object \n",
      " 1   Churn             7267 non-null   object \n",
      " 2   gender            7267 non-null   object \n",
      " 3   SeniorCitizen     7267 non-null   int64  \n",
      " 4   Partner           7267 non-null   object \n",
      " 5   Dependents        7267 non-null   object \n",
      " 6   tenure            7267 non-null   int64  \n",
      " 7   PhoneService      7267 non-null   object \n",
      " 8   MultipleLines     7267 non-null   object \n",
      " 9   InternetService   7267 non-null   object \n",
      " 10  OnlineSecurity    7267 non-null   object \n",
      " 11  OnlineBackup      7267 non-null   object \n",
      " 12  DeviceProtection  7267 non-null   object \n",
      " 13  TechSupport       7267 non-null   object \n",
      " 14  StreamingTV       7267 non-null   object \n",
      " 15  StreamingMovies   7267 non-null   object \n",
      " 16  Contract          7267 non-null   object \n",
      " 17  PaperlessBilling  7267 non-null   object \n",
      " 18  PaymentMethod     7267 non-null   object \n",
      " 19  Charges.Monthly   7267 non-null   float64\n",
      " 20  Charges.Total     7267 non-null   object \n",
      "dtypes: float64(1), int64(2), object(18)\n",
      "memory usage: 1.2+ MB\n"
     ]
    }
   ],
   "source": [
    "df_exp.info()"
   ]
  },
  {
   "cell_type": "markdown",
   "id": "c4835abe",
   "metadata": {},
   "source": [
    "> El conjunto de datos esta conformado por 7267 registros y 21 variables.\n",
    "\n",
    "> Todas las variables tienen 7267 registros lo que indica la ausencia de valores faltantes.\n",
    "\n",
    "> Las variables 'SeniorCitizen' y 'tenure' son de tipo entero, la variable 'Charges.Monthly' es de tipo float y el resto de variables son de tipo object.\n",
    "\n",
    "> La variable 'Charges.Total' y 'Churn' en la practica son de tipo numerico. Sin embargo, Pandas las detecta de tipo object lo que sugiere un problema con la consistencia de los datos."
   ]
  },
  {
   "cell_type": "markdown",
   "id": "b4838283",
   "metadata": {},
   "source": [
    "## Consistencia de los datos"
   ]
  },
  {
   "cell_type": "markdown",
   "id": "f89d0810",
   "metadata": {},
   "source": [
    "### Registros duplicados"
   ]
  },
  {
   "cell_type": "code",
   "execution_count": 8,
   "id": "8f8c32d2",
   "metadata": {},
   "outputs": [
    {
     "data": {
      "text/plain": [
       "0"
      ]
     },
     "execution_count": 8,
     "metadata": {},
     "output_type": "execute_result"
    }
   ],
   "source": [
    "# verificar registros duplicados\n",
    "df_exp.duplicated().sum()"
   ]
  },
  {
   "cell_type": "markdown",
   "id": "6dbdec84",
   "metadata": {},
   "source": [
    "> No hay registros duplicados en el dataframe."
   ]
  },
  {
   "cell_type": "markdown",
   "id": "8bf1a20b",
   "metadata": {},
   "source": [
    "### Tratar valores vacios"
   ]
  },
  {
   "cell_type": "markdown",
   "id": "d1c499f9",
   "metadata": {},
   "source": [
    "Verificamos los valores de 'Churn' y 'Charges.Total'"
   ]
  },
  {
   "cell_type": "code",
   "execution_count": 9,
   "id": "876e0e08",
   "metadata": {},
   "outputs": [
    {
     "name": "stdout",
     "output_type": "stream",
     "text": [
      "Charges.Total:  ['593.3' '542.4' '280.85' ... '742.9' '4627.65' '3707.6']\n",
      "Churn:  ['No' 'Yes' '']\n"
     ]
    }
   ],
   "source": [
    "print('Charges.Total: ',df_exp['Charges.Total'].unique())\n",
    "print('Churn: ',df_exp.Churn.unique())"
   ]
  },
  {
   "cell_type": "markdown",
   "id": "00932870",
   "metadata": {},
   "source": [
    "> Los valores de _Churn_ y _Charges.Total_ presentan valores vacios por lo que procedemos a tratarlos\n",
    "\n",
    "__Churn__"
   ]
  },
  {
   "cell_type": "code",
   "execution_count": 10,
   "id": "4ae5577b",
   "metadata": {},
   "outputs": [
    {
     "data": {
      "text/plain": [
       "(224, 21)"
      ]
     },
     "execution_count": 10,
     "metadata": {},
     "output_type": "execute_result"
    }
   ],
   "source": [
    "# registros con valores vacios en _Churn_\n",
    "df_exp[df_exp['Churn'] == ''].shape"
   ]
  },
  {
   "cell_type": "markdown",
   "id": "af530dc7",
   "metadata": {},
   "source": [
    "> Hay 224 registros con valores vacios en _Churn_ lo que representa el 3% de los registros totales. Como la variable objetivo es _Churn_, sin esta informacion tales registros no aportan al analisis por tanto los eliminamos."
   ]
  },
  {
   "cell_type": "code",
   "execution_count": 11,
   "id": "28d84ef7",
   "metadata": {},
   "outputs": [
    {
     "data": {
      "text/plain": [
       "(7043, 21)"
      ]
     },
     "execution_count": 11,
     "metadata": {},
     "output_type": "execute_result"
    }
   ],
   "source": [
    "# elimina registros con Churn vacios\n",
    "df_exp = df_exp[df_exp['Churn'] != '']\n",
    "df_exp.shape"
   ]
  },
  {
   "cell_type": "code",
   "execution_count": 12,
   "id": "aab3ec7b",
   "metadata": {},
   "outputs": [
    {
     "name": "stdout",
     "output_type": "stream",
     "text": [
      "['No' 'Yes']\n"
     ]
    }
   ],
   "source": [
    "# verificar que Churn este libre de valores vacios\n",
    "print(df_exp.Churn.unique())"
   ]
  },
  {
   "cell_type": "markdown",
   "id": "c8d7dabd",
   "metadata": {},
   "source": [
    "__Charges.Total__"
   ]
  },
  {
   "cell_type": "code",
   "execution_count": 13,
   "id": "ee8cee6e",
   "metadata": {},
   "outputs": [
    {
     "data": {
      "text/html": [
       "<div>\n",
       "<style scoped>\n",
       "    .dataframe tbody tr th:only-of-type {\n",
       "        vertical-align: middle;\n",
       "    }\n",
       "\n",
       "    .dataframe tbody tr th {\n",
       "        vertical-align: top;\n",
       "    }\n",
       "\n",
       "    .dataframe thead th {\n",
       "        text-align: right;\n",
       "    }\n",
       "</style>\n",
       "<table border=\"1\" class=\"dataframe\">\n",
       "  <thead>\n",
       "    <tr style=\"text-align: right;\">\n",
       "      <th></th>\n",
       "      <th>customerID</th>\n",
       "      <th>Churn</th>\n",
       "      <th>gender</th>\n",
       "      <th>SeniorCitizen</th>\n",
       "      <th>Partner</th>\n",
       "      <th>Dependents</th>\n",
       "      <th>tenure</th>\n",
       "      <th>PhoneService</th>\n",
       "      <th>MultipleLines</th>\n",
       "      <th>InternetService</th>\n",
       "      <th>...</th>\n",
       "      <th>OnlineBackup</th>\n",
       "      <th>DeviceProtection</th>\n",
       "      <th>TechSupport</th>\n",
       "      <th>StreamingTV</th>\n",
       "      <th>StreamingMovies</th>\n",
       "      <th>Contract</th>\n",
       "      <th>PaperlessBilling</th>\n",
       "      <th>PaymentMethod</th>\n",
       "      <th>Charges.Monthly</th>\n",
       "      <th>Charges.Total</th>\n",
       "    </tr>\n",
       "  </thead>\n",
       "  <tbody>\n",
       "    <tr>\n",
       "      <th>975</th>\n",
       "      <td>1371-DWPAZ</td>\n",
       "      <td>No</td>\n",
       "      <td>Female</td>\n",
       "      <td>0</td>\n",
       "      <td>Yes</td>\n",
       "      <td>Yes</td>\n",
       "      <td>0</td>\n",
       "      <td>No</td>\n",
       "      <td>No phone service</td>\n",
       "      <td>DSL</td>\n",
       "      <td>...</td>\n",
       "      <td>Yes</td>\n",
       "      <td>Yes</td>\n",
       "      <td>Yes</td>\n",
       "      <td>Yes</td>\n",
       "      <td>No</td>\n",
       "      <td>Two year</td>\n",
       "      <td>No</td>\n",
       "      <td>Credit card (automatic)</td>\n",
       "      <td>56.05</td>\n",
       "      <td></td>\n",
       "    </tr>\n",
       "    <tr>\n",
       "      <th>1775</th>\n",
       "      <td>2520-SGTTA</td>\n",
       "      <td>No</td>\n",
       "      <td>Female</td>\n",
       "      <td>0</td>\n",
       "      <td>Yes</td>\n",
       "      <td>Yes</td>\n",
       "      <td>0</td>\n",
       "      <td>Yes</td>\n",
       "      <td>No</td>\n",
       "      <td>No</td>\n",
       "      <td>...</td>\n",
       "      <td>No internet service</td>\n",
       "      <td>No internet service</td>\n",
       "      <td>No internet service</td>\n",
       "      <td>No internet service</td>\n",
       "      <td>No internet service</td>\n",
       "      <td>Two year</td>\n",
       "      <td>No</td>\n",
       "      <td>Mailed check</td>\n",
       "      <td>20.00</td>\n",
       "      <td></td>\n",
       "    </tr>\n",
       "    <tr>\n",
       "      <th>1955</th>\n",
       "      <td>2775-SEFEE</td>\n",
       "      <td>No</td>\n",
       "      <td>Male</td>\n",
       "      <td>0</td>\n",
       "      <td>No</td>\n",
       "      <td>Yes</td>\n",
       "      <td>0</td>\n",
       "      <td>Yes</td>\n",
       "      <td>Yes</td>\n",
       "      <td>DSL</td>\n",
       "      <td>...</td>\n",
       "      <td>Yes</td>\n",
       "      <td>No</td>\n",
       "      <td>Yes</td>\n",
       "      <td>No</td>\n",
       "      <td>No</td>\n",
       "      <td>Two year</td>\n",
       "      <td>Yes</td>\n",
       "      <td>Bank transfer (automatic)</td>\n",
       "      <td>61.90</td>\n",
       "      <td></td>\n",
       "    </tr>\n",
       "    <tr>\n",
       "      <th>2075</th>\n",
       "      <td>2923-ARZLG</td>\n",
       "      <td>No</td>\n",
       "      <td>Male</td>\n",
       "      <td>0</td>\n",
       "      <td>Yes</td>\n",
       "      <td>Yes</td>\n",
       "      <td>0</td>\n",
       "      <td>Yes</td>\n",
       "      <td>No</td>\n",
       "      <td>No</td>\n",
       "      <td>...</td>\n",
       "      <td>No internet service</td>\n",
       "      <td>No internet service</td>\n",
       "      <td>No internet service</td>\n",
       "      <td>No internet service</td>\n",
       "      <td>No internet service</td>\n",
       "      <td>One year</td>\n",
       "      <td>Yes</td>\n",
       "      <td>Mailed check</td>\n",
       "      <td>19.70</td>\n",
       "      <td></td>\n",
       "    </tr>\n",
       "    <tr>\n",
       "      <th>2232</th>\n",
       "      <td>3115-CZMZD</td>\n",
       "      <td>No</td>\n",
       "      <td>Male</td>\n",
       "      <td>0</td>\n",
       "      <td>No</td>\n",
       "      <td>Yes</td>\n",
       "      <td>0</td>\n",
       "      <td>Yes</td>\n",
       "      <td>No</td>\n",
       "      <td>No</td>\n",
       "      <td>...</td>\n",
       "      <td>No internet service</td>\n",
       "      <td>No internet service</td>\n",
       "      <td>No internet service</td>\n",
       "      <td>No internet service</td>\n",
       "      <td>No internet service</td>\n",
       "      <td>Two year</td>\n",
       "      <td>No</td>\n",
       "      <td>Mailed check</td>\n",
       "      <td>20.25</td>\n",
       "      <td></td>\n",
       "    </tr>\n",
       "    <tr>\n",
       "      <th>2308</th>\n",
       "      <td>3213-VVOLG</td>\n",
       "      <td>No</td>\n",
       "      <td>Male</td>\n",
       "      <td>0</td>\n",
       "      <td>Yes</td>\n",
       "      <td>Yes</td>\n",
       "      <td>0</td>\n",
       "      <td>Yes</td>\n",
       "      <td>Yes</td>\n",
       "      <td>No</td>\n",
       "      <td>...</td>\n",
       "      <td>No internet service</td>\n",
       "      <td>No internet service</td>\n",
       "      <td>No internet service</td>\n",
       "      <td>No internet service</td>\n",
       "      <td>No internet service</td>\n",
       "      <td>Two year</td>\n",
       "      <td>No</td>\n",
       "      <td>Mailed check</td>\n",
       "      <td>25.35</td>\n",
       "      <td></td>\n",
       "    </tr>\n",
       "    <tr>\n",
       "      <th>2930</th>\n",
       "      <td>4075-WKNIU</td>\n",
       "      <td>No</td>\n",
       "      <td>Female</td>\n",
       "      <td>0</td>\n",
       "      <td>Yes</td>\n",
       "      <td>Yes</td>\n",
       "      <td>0</td>\n",
       "      <td>Yes</td>\n",
       "      <td>Yes</td>\n",
       "      <td>DSL</td>\n",
       "      <td>...</td>\n",
       "      <td>Yes</td>\n",
       "      <td>Yes</td>\n",
       "      <td>Yes</td>\n",
       "      <td>Yes</td>\n",
       "      <td>No</td>\n",
       "      <td>Two year</td>\n",
       "      <td>No</td>\n",
       "      <td>Mailed check</td>\n",
       "      <td>73.35</td>\n",
       "      <td></td>\n",
       "    </tr>\n",
       "    <tr>\n",
       "      <th>3134</th>\n",
       "      <td>4367-NUYAO</td>\n",
       "      <td>No</td>\n",
       "      <td>Male</td>\n",
       "      <td>0</td>\n",
       "      <td>Yes</td>\n",
       "      <td>Yes</td>\n",
       "      <td>0</td>\n",
       "      <td>Yes</td>\n",
       "      <td>Yes</td>\n",
       "      <td>No</td>\n",
       "      <td>...</td>\n",
       "      <td>No internet service</td>\n",
       "      <td>No internet service</td>\n",
       "      <td>No internet service</td>\n",
       "      <td>No internet service</td>\n",
       "      <td>No internet service</td>\n",
       "      <td>Two year</td>\n",
       "      <td>No</td>\n",
       "      <td>Mailed check</td>\n",
       "      <td>25.75</td>\n",
       "      <td></td>\n",
       "    </tr>\n",
       "    <tr>\n",
       "      <th>3203</th>\n",
       "      <td>4472-LVYGI</td>\n",
       "      <td>No</td>\n",
       "      <td>Female</td>\n",
       "      <td>0</td>\n",
       "      <td>Yes</td>\n",
       "      <td>Yes</td>\n",
       "      <td>0</td>\n",
       "      <td>No</td>\n",
       "      <td>No phone service</td>\n",
       "      <td>DSL</td>\n",
       "      <td>...</td>\n",
       "      <td>No</td>\n",
       "      <td>Yes</td>\n",
       "      <td>Yes</td>\n",
       "      <td>Yes</td>\n",
       "      <td>No</td>\n",
       "      <td>Two year</td>\n",
       "      <td>Yes</td>\n",
       "      <td>Bank transfer (automatic)</td>\n",
       "      <td>52.55</td>\n",
       "      <td></td>\n",
       "    </tr>\n",
       "    <tr>\n",
       "      <th>4169</th>\n",
       "      <td>5709-LVOEQ</td>\n",
       "      <td>No</td>\n",
       "      <td>Female</td>\n",
       "      <td>0</td>\n",
       "      <td>Yes</td>\n",
       "      <td>Yes</td>\n",
       "      <td>0</td>\n",
       "      <td>Yes</td>\n",
       "      <td>No</td>\n",
       "      <td>DSL</td>\n",
       "      <td>...</td>\n",
       "      <td>Yes</td>\n",
       "      <td>Yes</td>\n",
       "      <td>No</td>\n",
       "      <td>Yes</td>\n",
       "      <td>Yes</td>\n",
       "      <td>Two year</td>\n",
       "      <td>No</td>\n",
       "      <td>Mailed check</td>\n",
       "      <td>80.85</td>\n",
       "      <td></td>\n",
       "    </tr>\n",
       "    <tr>\n",
       "      <th>5599</th>\n",
       "      <td>7644-OMVMY</td>\n",
       "      <td>No</td>\n",
       "      <td>Male</td>\n",
       "      <td>0</td>\n",
       "      <td>Yes</td>\n",
       "      <td>Yes</td>\n",
       "      <td>0</td>\n",
       "      <td>Yes</td>\n",
       "      <td>No</td>\n",
       "      <td>No</td>\n",
       "      <td>...</td>\n",
       "      <td>No internet service</td>\n",
       "      <td>No internet service</td>\n",
       "      <td>No internet service</td>\n",
       "      <td>No internet service</td>\n",
       "      <td>No internet service</td>\n",
       "      <td>Two year</td>\n",
       "      <td>No</td>\n",
       "      <td>Mailed check</td>\n",
       "      <td>19.85</td>\n",
       "      <td></td>\n",
       "    </tr>\n",
       "  </tbody>\n",
       "</table>\n",
       "<p>11 rows × 21 columns</p>\n",
       "</div>"
      ],
      "text/plain": [
       "      customerID Churn  gender  SeniorCitizen Partner Dependents  tenure  \\\n",
       "975   1371-DWPAZ    No  Female              0     Yes        Yes       0   \n",
       "1775  2520-SGTTA    No  Female              0     Yes        Yes       0   \n",
       "1955  2775-SEFEE    No    Male              0      No        Yes       0   \n",
       "2075  2923-ARZLG    No    Male              0     Yes        Yes       0   \n",
       "2232  3115-CZMZD    No    Male              0      No        Yes       0   \n",
       "2308  3213-VVOLG    No    Male              0     Yes        Yes       0   \n",
       "2930  4075-WKNIU    No  Female              0     Yes        Yes       0   \n",
       "3134  4367-NUYAO    No    Male              0     Yes        Yes       0   \n",
       "3203  4472-LVYGI    No  Female              0     Yes        Yes       0   \n",
       "4169  5709-LVOEQ    No  Female              0     Yes        Yes       0   \n",
       "5599  7644-OMVMY    No    Male              0     Yes        Yes       0   \n",
       "\n",
       "     PhoneService     MultipleLines InternetService  ...         OnlineBackup  \\\n",
       "975            No  No phone service             DSL  ...                  Yes   \n",
       "1775          Yes                No              No  ...  No internet service   \n",
       "1955          Yes               Yes             DSL  ...                  Yes   \n",
       "2075          Yes                No              No  ...  No internet service   \n",
       "2232          Yes                No              No  ...  No internet service   \n",
       "2308          Yes               Yes              No  ...  No internet service   \n",
       "2930          Yes               Yes             DSL  ...                  Yes   \n",
       "3134          Yes               Yes              No  ...  No internet service   \n",
       "3203           No  No phone service             DSL  ...                   No   \n",
       "4169          Yes                No             DSL  ...                  Yes   \n",
       "5599          Yes                No              No  ...  No internet service   \n",
       "\n",
       "         DeviceProtection          TechSupport          StreamingTV  \\\n",
       "975                   Yes                  Yes                  Yes   \n",
       "1775  No internet service  No internet service  No internet service   \n",
       "1955                   No                  Yes                   No   \n",
       "2075  No internet service  No internet service  No internet service   \n",
       "2232  No internet service  No internet service  No internet service   \n",
       "2308  No internet service  No internet service  No internet service   \n",
       "2930                  Yes                  Yes                  Yes   \n",
       "3134  No internet service  No internet service  No internet service   \n",
       "3203                  Yes                  Yes                  Yes   \n",
       "4169                  Yes                   No                  Yes   \n",
       "5599  No internet service  No internet service  No internet service   \n",
       "\n",
       "          StreamingMovies  Contract PaperlessBilling  \\\n",
       "975                    No  Two year               No   \n",
       "1775  No internet service  Two year               No   \n",
       "1955                   No  Two year              Yes   \n",
       "2075  No internet service  One year              Yes   \n",
       "2232  No internet service  Two year               No   \n",
       "2308  No internet service  Two year               No   \n",
       "2930                   No  Two year               No   \n",
       "3134  No internet service  Two year               No   \n",
       "3203                   No  Two year              Yes   \n",
       "4169                  Yes  Two year               No   \n",
       "5599  No internet service  Two year               No   \n",
       "\n",
       "                  PaymentMethod Charges.Monthly  Charges.Total  \n",
       "975     Credit card (automatic)           56.05                 \n",
       "1775               Mailed check           20.00                 \n",
       "1955  Bank transfer (automatic)           61.90                 \n",
       "2075               Mailed check           19.70                 \n",
       "2232               Mailed check           20.25                 \n",
       "2308               Mailed check           25.35                 \n",
       "2930               Mailed check           73.35                 \n",
       "3134               Mailed check           25.75                 \n",
       "3203  Bank transfer (automatic)           52.55                 \n",
       "4169               Mailed check           80.85                 \n",
       "5599               Mailed check           19.85                 \n",
       "\n",
       "[11 rows x 21 columns]"
      ]
     },
     "execution_count": 13,
     "metadata": {},
     "output_type": "execute_result"
    }
   ],
   "source": [
    "# registros vacios en Charges.Total\n",
    "df_exp[df_exp['Charges.Total'] == ' ']"
   ]
  },
  {
   "cell_type": "markdown",
   "id": "727de4c6",
   "metadata": {},
   "source": [
    "> Hay 11 registros con valores vacios en Charges.Total lo que representa el 0.1% de los registros totales. Al visualizarlos, nos damos cuenta que corresponden a clientes con contratos largos pero que no tienen ni el primer mes cumplido por lo que no aportan informacion relevante al estudio. Los eliminamos"
   ]
  },
  {
   "cell_type": "code",
   "execution_count": 14,
   "id": "08fd58fe",
   "metadata": {},
   "outputs": [
    {
     "data": {
      "text/plain": [
       "(7032, 21)"
      ]
     },
     "execution_count": 14,
     "metadata": {},
     "output_type": "execute_result"
    }
   ],
   "source": [
    "# elimina registros con Charges.Total vacios\n",
    "df_exp = df_exp[df_exp['Charges.Total'] != ' ']\n",
    "df_exp.shape"
   ]
  },
  {
   "cell_type": "code",
   "execution_count": 15,
   "id": "73d4b94e",
   "metadata": {},
   "outputs": [
    {
     "name": "stdout",
     "output_type": "stream",
     "text": [
      "['593.3' '542.4' '280.85' ... '742.9' '4627.65' '3707.6']\n"
     ]
    }
   ],
   "source": [
    "# verificar que Churn este libre de valores vacios\n",
    "print(df_exp['Charges.Total'].unique())"
   ]
  },
  {
   "cell_type": "code",
   "execution_count": 16,
   "id": "213fc69f",
   "metadata": {},
   "outputs": [
    {
     "name": "stdout",
     "output_type": "stream",
     "text": [
      "<class 'pandas.core.frame.DataFrame'>\n",
      "Index: 7032 entries, 0 to 7266\n",
      "Data columns (total 21 columns):\n",
      " #   Column            Non-Null Count  Dtype  \n",
      "---  ------            --------------  -----  \n",
      " 0   customerID        7032 non-null   object \n",
      " 1   Churn             7032 non-null   object \n",
      " 2   gender            7032 non-null   object \n",
      " 3   SeniorCitizen     7032 non-null   int64  \n",
      " 4   Partner           7032 non-null   object \n",
      " 5   Dependents        7032 non-null   object \n",
      " 6   tenure            7032 non-null   int64  \n",
      " 7   PhoneService      7032 non-null   object \n",
      " 8   MultipleLines     7032 non-null   object \n",
      " 9   InternetService   7032 non-null   object \n",
      " 10  OnlineSecurity    7032 non-null   object \n",
      " 11  OnlineBackup      7032 non-null   object \n",
      " 12  DeviceProtection  7032 non-null   object \n",
      " 13  TechSupport       7032 non-null   object \n",
      " 14  StreamingTV       7032 non-null   object \n",
      " 15  StreamingMovies   7032 non-null   object \n",
      " 16  Contract          7032 non-null   object \n",
      " 17  PaperlessBilling  7032 non-null   object \n",
      " 18  PaymentMethod     7032 non-null   object \n",
      " 19  Charges.Monthly   7032 non-null   float64\n",
      " 20  Charges.Total     7032 non-null   float64\n",
      "dtypes: float64(2), int64(2), object(17)\n",
      "memory usage: 1.2+ MB\n"
     ]
    }
   ],
   "source": [
    "import numpy as np \n",
    "\n",
    "# convertir a tipo entero\n",
    "df_exp['Charges.Total'] = df_exp['Charges.Total'].astype(np.float64)\n",
    "\n",
    "# verificar tipo\n",
    "df_exp.info()"
   ]
  },
  {
   "cell_type": "markdown",
   "id": "92c75409",
   "metadata": {},
   "source": [
    "### Columna de cuentas diarias"
   ]
  },
  {
   "cell_type": "code",
   "execution_count": 17,
   "id": "2d0a303f",
   "metadata": {},
   "outputs": [
    {
     "data": {
      "text/html": [
       "<div>\n",
       "<style scoped>\n",
       "    .dataframe tbody tr th:only-of-type {\n",
       "        vertical-align: middle;\n",
       "    }\n",
       "\n",
       "    .dataframe tbody tr th {\n",
       "        vertical-align: top;\n",
       "    }\n",
       "\n",
       "    .dataframe thead th {\n",
       "        text-align: right;\n",
       "    }\n",
       "</style>\n",
       "<table border=\"1\" class=\"dataframe\">\n",
       "  <thead>\n",
       "    <tr style=\"text-align: right;\">\n",
       "      <th></th>\n",
       "      <th>customerID</th>\n",
       "      <th>Churn</th>\n",
       "      <th>gender</th>\n",
       "      <th>SeniorCitizen</th>\n",
       "      <th>Partner</th>\n",
       "      <th>Dependents</th>\n",
       "      <th>tenure</th>\n",
       "      <th>PhoneService</th>\n",
       "      <th>MultipleLines</th>\n",
       "      <th>InternetService</th>\n",
       "      <th>...</th>\n",
       "      <th>DeviceProtection</th>\n",
       "      <th>TechSupport</th>\n",
       "      <th>StreamingTV</th>\n",
       "      <th>StreamingMovies</th>\n",
       "      <th>Contract</th>\n",
       "      <th>PaperlessBilling</th>\n",
       "      <th>PaymentMethod</th>\n",
       "      <th>Charges.Monthly</th>\n",
       "      <th>Charges.Total</th>\n",
       "      <th>Cuentas_Diarias</th>\n",
       "    </tr>\n",
       "  </thead>\n",
       "  <tbody>\n",
       "    <tr>\n",
       "      <th>0</th>\n",
       "      <td>0002-ORFBO</td>\n",
       "      <td>No</td>\n",
       "      <td>Female</td>\n",
       "      <td>0</td>\n",
       "      <td>Yes</td>\n",
       "      <td>Yes</td>\n",
       "      <td>9</td>\n",
       "      <td>Yes</td>\n",
       "      <td>No</td>\n",
       "      <td>DSL</td>\n",
       "      <td>...</td>\n",
       "      <td>No</td>\n",
       "      <td>Yes</td>\n",
       "      <td>Yes</td>\n",
       "      <td>No</td>\n",
       "      <td>One year</td>\n",
       "      <td>Yes</td>\n",
       "      <td>Mailed check</td>\n",
       "      <td>65.6</td>\n",
       "      <td>593.30</td>\n",
       "      <td>0.242963</td>\n",
       "    </tr>\n",
       "    <tr>\n",
       "      <th>1</th>\n",
       "      <td>0003-MKNFE</td>\n",
       "      <td>No</td>\n",
       "      <td>Male</td>\n",
       "      <td>0</td>\n",
       "      <td>No</td>\n",
       "      <td>No</td>\n",
       "      <td>9</td>\n",
       "      <td>Yes</td>\n",
       "      <td>Yes</td>\n",
       "      <td>DSL</td>\n",
       "      <td>...</td>\n",
       "      <td>No</td>\n",
       "      <td>No</td>\n",
       "      <td>No</td>\n",
       "      <td>Yes</td>\n",
       "      <td>Month-to-month</td>\n",
       "      <td>No</td>\n",
       "      <td>Mailed check</td>\n",
       "      <td>59.9</td>\n",
       "      <td>542.40</td>\n",
       "      <td>0.221852</td>\n",
       "    </tr>\n",
       "    <tr>\n",
       "      <th>2</th>\n",
       "      <td>0004-TLHLJ</td>\n",
       "      <td>Yes</td>\n",
       "      <td>Male</td>\n",
       "      <td>0</td>\n",
       "      <td>No</td>\n",
       "      <td>No</td>\n",
       "      <td>4</td>\n",
       "      <td>Yes</td>\n",
       "      <td>No</td>\n",
       "      <td>Fiber optic</td>\n",
       "      <td>...</td>\n",
       "      <td>Yes</td>\n",
       "      <td>No</td>\n",
       "      <td>No</td>\n",
       "      <td>No</td>\n",
       "      <td>Month-to-month</td>\n",
       "      <td>Yes</td>\n",
       "      <td>Electronic check</td>\n",
       "      <td>73.9</td>\n",
       "      <td>280.85</td>\n",
       "      <td>0.615833</td>\n",
       "    </tr>\n",
       "    <tr>\n",
       "      <th>3</th>\n",
       "      <td>0011-IGKFF</td>\n",
       "      <td>Yes</td>\n",
       "      <td>Male</td>\n",
       "      <td>1</td>\n",
       "      <td>Yes</td>\n",
       "      <td>No</td>\n",
       "      <td>13</td>\n",
       "      <td>Yes</td>\n",
       "      <td>No</td>\n",
       "      <td>Fiber optic</td>\n",
       "      <td>...</td>\n",
       "      <td>Yes</td>\n",
       "      <td>No</td>\n",
       "      <td>Yes</td>\n",
       "      <td>Yes</td>\n",
       "      <td>Month-to-month</td>\n",
       "      <td>Yes</td>\n",
       "      <td>Electronic check</td>\n",
       "      <td>98.0</td>\n",
       "      <td>1237.85</td>\n",
       "      <td>0.251282</td>\n",
       "    </tr>\n",
       "    <tr>\n",
       "      <th>4</th>\n",
       "      <td>0013-EXCHZ</td>\n",
       "      <td>Yes</td>\n",
       "      <td>Female</td>\n",
       "      <td>1</td>\n",
       "      <td>Yes</td>\n",
       "      <td>No</td>\n",
       "      <td>3</td>\n",
       "      <td>Yes</td>\n",
       "      <td>No</td>\n",
       "      <td>Fiber optic</td>\n",
       "      <td>...</td>\n",
       "      <td>No</td>\n",
       "      <td>Yes</td>\n",
       "      <td>Yes</td>\n",
       "      <td>No</td>\n",
       "      <td>Month-to-month</td>\n",
       "      <td>Yes</td>\n",
       "      <td>Mailed check</td>\n",
       "      <td>83.9</td>\n",
       "      <td>267.40</td>\n",
       "      <td>0.932222</td>\n",
       "    </tr>\n",
       "  </tbody>\n",
       "</table>\n",
       "<p>5 rows × 22 columns</p>\n",
       "</div>"
      ],
      "text/plain": [
       "   customerID Churn  gender  SeniorCitizen Partner Dependents  tenure  \\\n",
       "0  0002-ORFBO    No  Female              0     Yes        Yes       9   \n",
       "1  0003-MKNFE    No    Male              0      No         No       9   \n",
       "2  0004-TLHLJ   Yes    Male              0      No         No       4   \n",
       "3  0011-IGKFF   Yes    Male              1     Yes         No      13   \n",
       "4  0013-EXCHZ   Yes  Female              1     Yes         No       3   \n",
       "\n",
       "  PhoneService MultipleLines InternetService  ... DeviceProtection  \\\n",
       "0          Yes            No             DSL  ...               No   \n",
       "1          Yes           Yes             DSL  ...               No   \n",
       "2          Yes            No     Fiber optic  ...              Yes   \n",
       "3          Yes            No     Fiber optic  ...              Yes   \n",
       "4          Yes            No     Fiber optic  ...               No   \n",
       "\n",
       "  TechSupport StreamingTV StreamingMovies        Contract PaperlessBilling  \\\n",
       "0         Yes         Yes              No        One year              Yes   \n",
       "1          No          No             Yes  Month-to-month               No   \n",
       "2          No          No              No  Month-to-month              Yes   \n",
       "3          No         Yes             Yes  Month-to-month              Yes   \n",
       "4         Yes         Yes              No  Month-to-month              Yes   \n",
       "\n",
       "      PaymentMethod Charges.Monthly Charges.Total  Cuentas_Diarias  \n",
       "0      Mailed check            65.6        593.30         0.242963  \n",
       "1      Mailed check            59.9        542.40         0.221852  \n",
       "2  Electronic check            73.9        280.85         0.615833  \n",
       "3  Electronic check            98.0       1237.85         0.251282  \n",
       "4      Mailed check            83.9        267.40         0.932222  \n",
       "\n",
       "[5 rows x 22 columns]"
      ]
     },
     "execution_count": 17,
     "metadata": {},
     "output_type": "execute_result"
    }
   ],
   "source": [
    "# crear columna de gasto diario de cada cliente\n",
    "df_exp['Cuentas_Diarias'] = (df_exp['Charges.Monthly'])/(df_exp['tenure']*30)\n",
    "df_exp.head()"
   ]
  },
  {
   "cell_type": "markdown",
   "id": "5aff3d0f",
   "metadata": {},
   "source": [
    "### Estandarizacion de los datos"
   ]
  },
  {
   "cell_type": "markdown",
   "id": "76ce1b12",
   "metadata": {},
   "source": [
    "Vamos a realizar las conversiones de los valores de las variables necesarias para mejorar la interpretacion de los resultados."
   ]
  },
  {
   "cell_type": "markdown",
   "id": "7f34883b",
   "metadata": {},
   "source": [
    "__Valores Unicos por variable__"
   ]
  },
  {
   "cell_type": "code",
   "execution_count": 18,
   "id": "234a84b1",
   "metadata": {},
   "outputs": [
    {
     "name": "stdout",
     "output_type": "stream",
     "text": [
      "gender:  ['Female' 'Male']\n",
      "SeniorCitizen:  [0 1]\n",
      "Partner:  ['Yes' 'No']\n"
     ]
    },
    {
     "name": "stdout",
     "output_type": "stream",
     "text": [
      "Dependents:  ['Yes' 'No']\n",
      "PhoneService:  ['Yes' 'No']\n",
      "MultipleLines:  ['No' 'Yes' 'No phone service']\n",
      "InternetService:  ['DSL' 'Fiber optic' 'No']\n",
      "OnlineSecurity:  ['No' 'Yes' 'No internet service']\n",
      "OnlineBackup:  ['Yes' 'No' 'No internet service']\n",
      "DeviceProtection:  ['No' 'Yes' 'No internet service']\n",
      "TechSupport:  ['Yes' 'No' 'No internet service']\n",
      "StreamingTV:  ['Yes' 'No' 'No internet service']\n",
      "StreamingMovies:  ['No' 'Yes' 'No internet service']\n",
      "Contract:  ['One year' 'Month-to-month' 'Two year']\n",
      "PaperlessBilling:  ['Yes' 'No']\n",
      "PaymentMethod:  ['Mailed check' 'Electronic check' 'Credit card (automatic)'\n",
      " 'Bank transfer (automatic)']\n",
      "Charges.Total:  [ 593.3   542.4   280.85 ...  742.9  4627.65 3707.6 ]\n",
      "Churn:  ['No' 'Yes']\n"
     ]
    }
   ],
   "source": [
    "# verificar valores de variables de tipo object\n",
    "print('gender: ',df_exp.gender.unique())\n",
    "print('SeniorCitizen: ',df_exp.SeniorCitizen.unique())\n",
    "print('Partner: ',df_exp.Partner.unique())\n",
    "print('Dependents: ',df_exp.Dependents.unique())\n",
    "print('PhoneService: ',df_exp.PhoneService.unique())\n",
    "print('MultipleLines: ',df_exp.MultipleLines.unique())\n",
    "print('InternetService: ',df_exp.InternetService.unique())\n",
    "print('OnlineSecurity: ',df_exp.OnlineSecurity.unique())\n",
    "print('OnlineBackup: ',df_exp.OnlineBackup.unique())\n",
    "print('DeviceProtection: ',df_exp.DeviceProtection.unique())\n",
    "print('TechSupport: ',df_exp.TechSupport.unique())\n",
    "print('StreamingTV: ',df_exp.StreamingTV.unique())\n",
    "print('StreamingMovies: ',df_exp.StreamingMovies.unique())\n",
    "print('Contract: ',df_exp.Contract.unique())\n",
    "print('PaperlessBilling: ',df_exp.PaperlessBilling.unique())\n",
    "print('PaymentMethod: ',df_exp.PaymentMethod.unique())\n",
    "print('Charges.Total: ',df_exp['Charges.Total'].unique())\n",
    "print('Churn: ',df_exp.Churn.unique())"
   ]
  },
  {
   "cell_type": "markdown",
   "id": "f06c3eff",
   "metadata": {},
   "source": [
    "__Cambiar nombre de las variables__"
   ]
  },
  {
   "cell_type": "code",
   "execution_count": 19,
   "id": "90d7bccd",
   "metadata": {},
   "outputs": [],
   "source": [
    "nombres_nuevos = {\n",
    "    'Churn': 'cancelacion',\n",
    "    'gender': 'genero',\n",
    "    'SeniorCitizen': 'jubilado',\n",
    "    'Partner': 'en_pareja',\n",
    "    'Dependents': 'dependientes',\n",
    "    'tenure': 'meses_contrato',\n",
    "    'PhoneService': 'servicio_telefonico',\n",
    "    'MultipleLines': 'multiples_lineas',\n",
    "    'InternetService': 'servicio_internet',\n",
    "    'OnlineSecurity': 'seguridad_online',\n",
    "    'OnlineBackup': 'respaldo_online',\n",
    "    'DeviceProtection': 'proteccion_dispositivo',\n",
    "    'TechSupport': 'soporte_efectivo',\n",
    "    'StreamingTV': 'streaming_TV',\n",
    "    'StreamingMovies': 'streaming_peliculas',\n",
    "    'Contract': 'tipo_contrato',\n",
    "    'PaperlessBilling': 'facturacion_electronica',\n",
    "    'Charges.Monthly': 'cuenta_mensual',\n",
    "    'Charges.Total': 'cuentas_total',\n",
    "    'PaymentMethod': 'metodo_pago',\n",
    "    'Cuentas_Diarias': 'cuentas_diarias'\n",
    "}\n",
    "\n",
    "df_exp.rename(columns=nombres_nuevos, inplace=True)"
   ]
  },
  {
   "cell_type": "markdown",
   "id": "c0e42fd4",
   "metadata": {},
   "source": [
    "__customerID__"
   ]
  },
  {
   "cell_type": "markdown",
   "id": "1374dc63",
   "metadata": {},
   "source": [
    "Vamos a omitir customer_ID ya que son identificadores de los clientes que a nivel general no aporta informacion relevante."
   ]
  },
  {
   "cell_type": "code",
   "execution_count": 20,
   "id": "fe0a5205",
   "metadata": {},
   "outputs": [],
   "source": [
    "# eliminar customerID\n",
    "df_exp = df_exp.drop('customerID', axis=1)"
   ]
  },
  {
   "cell_type": "markdown",
   "id": "bcb7a962",
   "metadata": {},
   "source": [
    "__genero__"
   ]
  },
  {
   "cell_type": "code",
   "execution_count": 21,
   "id": "65b1c5f5",
   "metadata": {},
   "outputs": [
    {
     "data": {
      "text/plain": [
       "array(['Femenino', 'Masculino'], dtype=object)"
      ]
     },
     "execution_count": 21,
     "metadata": {},
     "output_type": "execute_result"
    }
   ],
   "source": [
    "# renombrar valores de genero\n",
    "df_exp['genero'] = df_exp['genero'].apply(lambda x: x.replace('Female', 'Femenino').replace('Male', 'Masculino'))\n",
    "df_exp['genero'].unique()"
   ]
  },
  {
   "cell_type": "markdown",
   "id": "8f11ef48",
   "metadata": {},
   "source": [
    "__jubilado__"
   ]
  },
  {
   "cell_type": "code",
   "execution_count": 22,
   "id": "da48f9dc",
   "metadata": {},
   "outputs": [
    {
     "data": {
      "text/plain": [
       "array(['No', 'Si'], dtype=object)"
      ]
     },
     "execution_count": 22,
     "metadata": {},
     "output_type": "execute_result"
    }
   ],
   "source": [
    "df_exp['jubilado'] = df_exp['jubilado'].map({0:'No', 1:'Si'})\n",
    "df_exp['jubilado'].unique()"
   ]
  },
  {
   "cell_type": "markdown",
   "id": "9ce10c76",
   "metadata": {},
   "source": [
    "__cancelacion__"
   ]
  },
  {
   "cell_type": "code",
   "execution_count": 23,
   "id": "f7dc7f90",
   "metadata": {},
   "outputs": [
    {
     "data": {
      "text/plain": [
       "array([0, 1])"
      ]
     },
     "execution_count": 23,
     "metadata": {},
     "output_type": "execute_result"
    }
   ],
   "source": [
    "# convertir valores de churn a binario\n",
    "# 0:No esta con la empresa. 1: Sigue en la empresa\n",
    "df_exp['cancelacion'] = df_exp['cancelacion'].replace({'Yes':'1', 'No':'0'}).astype(np.int64)\n",
    "df_exp['cancelacion'].unique()"
   ]
  },
  {
   "cell_type": "markdown",
   "id": "b5ec08c2",
   "metadata": {},
   "source": [
    "__en_pareja__"
   ]
  },
  {
   "cell_type": "code",
   "execution_count": 24,
   "id": "ebb9a62b",
   "metadata": {},
   "outputs": [
    {
     "data": {
      "text/plain": [
       "array(['Si', 'No'], dtype=object)"
      ]
     },
     "execution_count": 24,
     "metadata": {},
     "output_type": "execute_result"
    }
   ],
   "source": [
    "df_exp['en_pareja'] = df_exp['en_pareja'].map({'Yes':'Si', 'No':'No'})\n",
    "df_exp.en_pareja.unique()"
   ]
  },
  {
   "cell_type": "markdown",
   "id": "857a9406",
   "metadata": {},
   "source": [
    "__dependientes__"
   ]
  },
  {
   "cell_type": "code",
   "execution_count": 25,
   "id": "bd260b0b",
   "metadata": {},
   "outputs": [
    {
     "name": "stdout",
     "output_type": "stream",
     "text": [
      "['Si' 'No']\n"
     ]
    }
   ],
   "source": [
    "df_exp['dependientes'] = df_exp['dependientes'].replace({'Yes':'Si', 'No':'No'})\n",
    "print(df_exp.dependientes.unique())"
   ]
  },
  {
   "cell_type": "markdown",
   "id": "34795d75",
   "metadata": {},
   "source": [
    "__facturacion_electronica__"
   ]
  },
  {
   "cell_type": "code",
   "execution_count": 26,
   "id": "5fe4dfc1",
   "metadata": {},
   "outputs": [
    {
     "name": "stdout",
     "output_type": "stream",
     "text": [
      "['Si' 'No']\n"
     ]
    }
   ],
   "source": [
    "df_exp['facturacion_electronica'] = df_exp['facturacion_electronica'].replace({'Yes':'Si', 'No':'No'})\n",
    "print(df_exp.facturacion_electronica.unique())"
   ]
  },
  {
   "cell_type": "markdown",
   "id": "efe5343d",
   "metadata": {},
   "source": [
    "__servicio_telefonico__"
   ]
  },
  {
   "cell_type": "code",
   "execution_count": 27,
   "id": "db162cd8",
   "metadata": {},
   "outputs": [
    {
     "name": "stdout",
     "output_type": "stream",
     "text": [
      "['Si' 'No']\n"
     ]
    }
   ],
   "source": [
    "df_exp['servicio_telefonico'] = df_exp['servicio_telefonico'].replace({'Yes':'Si', 'No':'No'})\n",
    "print(df_exp.servicio_telefonico.unique())"
   ]
  },
  {
   "cell_type": "markdown",
   "id": "e5336d26",
   "metadata": {},
   "source": [
    "__multiples_lineas__"
   ]
  },
  {
   "cell_type": "code",
   "execution_count": 28,
   "id": "6aba2ecf",
   "metadata": {},
   "outputs": [
    {
     "data": {
      "text/plain": [
       "servicio_telefonico  multiples_lineas\n",
       "No                   No phone service     680\n",
       "Si                   No                  3385\n",
       "                     Yes                 2967\n",
       "dtype: int64"
      ]
     },
     "execution_count": 28,
     "metadata": {},
     "output_type": "execute_result"
    }
   ],
   "source": [
    "# agrupamiento de los valores de servicio_telefonico y multiples_lineas\n",
    "df_exp.groupby(['servicio_telefonico', 'multiples_lineas']).size()"
   ]
  },
  {
   "cell_type": "markdown",
   "id": "125a1416",
   "metadata": {},
   "source": [
    "> Los clientes que tienen servicio telefonico necesariamente tienen al menos 1 linea. Los que no tienen servicio telefonico, no tienen linea telefonica. Por tanto, los datos son consistentes."
   ]
  },
  {
   "cell_type": "markdown",
   "id": "f0eefff4",
   "metadata": {},
   "source": [
    "__servicio_internet__"
   ]
  },
  {
   "cell_type": "code",
   "execution_count": 29,
   "id": "f9c22e63",
   "metadata": {},
   "outputs": [
    {
     "data": {
      "text/plain": [
       "array(['DSL', 'Fibra_optica', 'No'], dtype=object)"
      ]
     },
     "execution_count": 29,
     "metadata": {},
     "output_type": "execute_result"
    }
   ],
   "source": [
    "df_exp['servicio_internet'] = df_exp['servicio_internet'].replace({'Fiber optic':'Fibra_optica'})\n",
    "df_exp['servicio_internet'].unique()"
   ]
  },
  {
   "cell_type": "markdown",
   "id": "8b0ecdfb",
   "metadata": {},
   "source": [
    "__seguridad_online__"
   ]
  },
  {
   "cell_type": "code",
   "execution_count": 30,
   "id": "50dc86b3",
   "metadata": {},
   "outputs": [
    {
     "data": {
      "text/plain": [
       "array(['No', 'Si', 'Sin internet'], dtype=object)"
      ]
     },
     "execution_count": 30,
     "metadata": {},
     "output_type": "execute_result"
    }
   ],
   "source": [
    "df_exp['seguridad_online'] = df_exp['seguridad_online'].replace({'Yes': 'Si', 'No internet service': 'Sin internet'})\n",
    "df_exp.seguridad_online.unique()"
   ]
  },
  {
   "cell_type": "code",
   "execution_count": 31,
   "id": "fd3732a7",
   "metadata": {},
   "outputs": [
    {
     "data": {
      "text/plain": [
       "servicio_internet  seguridad_online\n",
       "DSL                No                  1240\n",
       "                   Si                  1176\n",
       "Fibra_optica       No                  2257\n",
       "                   Si                   839\n",
       "No                 Sin internet        1520\n",
       "dtype: int64"
      ]
     },
     "execution_count": 31,
     "metadata": {},
     "output_type": "execute_result"
    }
   ],
   "source": [
    "df_exp.groupby(['servicio_internet', 'seguridad_online']).size()"
   ]
  },
  {
   "cell_type": "markdown",
   "id": "1f48f77e",
   "metadata": {},
   "source": [
    "Los clientes que no tienen servicio de internet, no cuentan con seguridad online. Esto indica que los datos son consistentes."
   ]
  },
  {
   "cell_type": "markdown",
   "id": "1bc8a7ab",
   "metadata": {},
   "source": [
    "__respaldo_online__"
   ]
  },
  {
   "cell_type": "code",
   "execution_count": 32,
   "id": "67216f2e",
   "metadata": {},
   "outputs": [
    {
     "data": {
      "text/plain": [
       "array(['Si', 'No', 'Sin internet'], dtype=object)"
      ]
     },
     "execution_count": 32,
     "metadata": {},
     "output_type": "execute_result"
    }
   ],
   "source": [
    "df_exp['respaldo_online'] = df_exp['respaldo_online'].replace({'Yes': 'Si', 'No internet service': 'Sin internet'})\n",
    "df_exp.respaldo_online.unique()"
   ]
  },
  {
   "cell_type": "code",
   "execution_count": 33,
   "id": "30b9fa7d",
   "metadata": {},
   "outputs": [
    {
     "data": {
      "text/plain": [
       "servicio_internet  respaldo_online\n",
       "DSL                No                 1334\n",
       "                   Si                 1082\n",
       "Fibra_optica       No                 1753\n",
       "                   Si                 1343\n",
       "No                 Sin internet       1520\n",
       "dtype: int64"
      ]
     },
     "execution_count": 33,
     "metadata": {},
     "output_type": "execute_result"
    }
   ],
   "source": [
    "df_exp.groupby(['servicio_internet', 'respaldo_online']).size()"
   ]
  },
  {
   "cell_type": "markdown",
   "id": "6d47e2f4",
   "metadata": {},
   "source": [
    "Los clientes que no tienen internet, no cuentan con respaldo online lo que implica que ambas variables son consistentes."
   ]
  },
  {
   "cell_type": "markdown",
   "id": "65458eba",
   "metadata": {},
   "source": [
    "__proteccion_dispositivo, soporte_efectivo, streaming_tv, streaming_peliculas__"
   ]
  },
  {
   "cell_type": "markdown",
   "id": "31c317f3",
   "metadata": {},
   "source": [
    "__proteccion_dispositivo__"
   ]
  },
  {
   "cell_type": "code",
   "execution_count": 34,
   "id": "b880d6c0",
   "metadata": {},
   "outputs": [
    {
     "data": {
      "text/plain": [
       "array(['No', 'Si', 'Sin internet'], dtype=object)"
      ]
     },
     "execution_count": 34,
     "metadata": {},
     "output_type": "execute_result"
    }
   ],
   "source": [
    "df_exp['proteccion_dispositivo'] = df_exp['proteccion_dispositivo'].replace({'Yes': 'Si', 'No internet service': 'Sin internet'})\n",
    "df_exp.proteccion_dispositivo.unique()"
   ]
  },
  {
   "cell_type": "code",
   "execution_count": 35,
   "id": "f48f9598",
   "metadata": {},
   "outputs": [
    {
     "data": {
      "text/plain": [
       "servicio_internet  proteccion_dispositivo\n",
       "DSL                No                        1355\n",
       "                   Si                        1061\n",
       "Fibra_optica       No                        1739\n",
       "                   Si                        1357\n",
       "No                 Sin internet              1520\n",
       "dtype: int64"
      ]
     },
     "execution_count": 35,
     "metadata": {},
     "output_type": "execute_result"
    }
   ],
   "source": [
    "df_exp.groupby(['servicio_internet', 'proteccion_dispositivo']).size()"
   ]
  },
  {
   "cell_type": "markdown",
   "id": "b70e6174",
   "metadata": {},
   "source": [
    "Los clientes que no tienen internet, no cuentan con proteccion de dispositivo. Son consistentes los datos."
   ]
  },
  {
   "cell_type": "markdown",
   "id": "e3874b3a",
   "metadata": {},
   "source": [
    "__soporte_efectivo__"
   ]
  },
  {
   "cell_type": "code",
   "execution_count": 36,
   "id": "16a0b611",
   "metadata": {},
   "outputs": [
    {
     "data": {
      "text/plain": [
       "array(['Si', 'No', 'Sin internet'], dtype=object)"
      ]
     },
     "execution_count": 36,
     "metadata": {},
     "output_type": "execute_result"
    }
   ],
   "source": [
    "df_exp['soporte_efectivo'] = df_exp['soporte_efectivo'].replace({'Yes': 'Si', 'No internet service': 'Sin internet'})\n",
    "df_exp.soporte_efectivo.unique()"
   ]
  },
  {
   "cell_type": "code",
   "execution_count": 37,
   "id": "6296a911",
   "metadata": {},
   "outputs": [
    {
     "data": {
      "text/plain": [
       "servicio_internet  soporte_efectivo\n",
       "DSL                No                  1242\n",
       "                   Si                  1174\n",
       "Fibra_optica       No                  2230\n",
       "                   Si                   866\n",
       "No                 Sin internet        1520\n",
       "dtype: int64"
      ]
     },
     "execution_count": 37,
     "metadata": {},
     "output_type": "execute_result"
    }
   ],
   "source": [
    "df_exp.groupby(['servicio_internet', 'soporte_efectivo']).size()"
   ]
  },
  {
   "cell_type": "markdown",
   "id": "728ddb48",
   "metadata": {},
   "source": [
    "Clientes sin internet, no cuentan con soporte efectivo. Se comprueba la consistencia de los datos."
   ]
  },
  {
   "cell_type": "markdown",
   "id": "b2ad7897",
   "metadata": {},
   "source": [
    "__streaming_TV__"
   ]
  },
  {
   "cell_type": "code",
   "execution_count": 38,
   "id": "9de62165",
   "metadata": {},
   "outputs": [
    {
     "data": {
      "text/plain": [
       "array(['Si', 'No', 'Sin internet'], dtype=object)"
      ]
     },
     "execution_count": 38,
     "metadata": {},
     "output_type": "execute_result"
    }
   ],
   "source": [
    "df_exp['streaming_TV'] = df_exp['streaming_TV'].replace({'Yes': 'Si', 'No internet service': 'Sin internet'})\n",
    "df_exp.streaming_TV.unique()"
   ]
  },
  {
   "cell_type": "code",
   "execution_count": 39,
   "id": "a26d806f",
   "metadata": {},
   "outputs": [
    {
     "data": {
      "text/plain": [
       "servicio_internet  soporte_efectivo\n",
       "DSL                No                  1242\n",
       "                   Si                  1174\n",
       "Fibra_optica       No                  2230\n",
       "                   Si                   866\n",
       "No                 Sin internet        1520\n",
       "dtype: int64"
      ]
     },
     "execution_count": 39,
     "metadata": {},
     "output_type": "execute_result"
    }
   ],
   "source": [
    "df_exp.groupby(['servicio_internet', 'soporte_efectivo']).size()"
   ]
  },
  {
   "cell_type": "markdown",
   "id": "ae7ba7d5",
   "metadata": {},
   "source": [
    "Clientes sin internet, no cuentan con streaming de TV. Datos consistentes"
   ]
  },
  {
   "cell_type": "markdown",
   "id": "e484850c",
   "metadata": {},
   "source": [
    "__streaming_peliculas__"
   ]
  },
  {
   "cell_type": "code",
   "execution_count": 40,
   "id": "1eca2eff",
   "metadata": {},
   "outputs": [
    {
     "data": {
      "text/plain": [
       "array(['No', 'Si', 'Sin internet'], dtype=object)"
      ]
     },
     "execution_count": 40,
     "metadata": {},
     "output_type": "execute_result"
    }
   ],
   "source": [
    "\n",
    "\n",
    "df_exp['streaming_peliculas'] = df_exp['streaming_peliculas'].replace({'Yes': 'Si', 'No internet service': 'Sin internet'})\n",
    "df_exp.streaming_peliculas.unique()"
   ]
  },
  {
   "cell_type": "code",
   "execution_count": 41,
   "id": "77d5476e",
   "metadata": {},
   "outputs": [
    {
     "data": {
      "text/plain": [
       "servicio_internet  streaming_peliculas\n",
       "DSL                No                     1436\n",
       "                   Si                      980\n",
       "Fibra_optica       No                     1345\n",
       "                   Si                     1751\n",
       "No                 Sin internet           1520\n",
       "dtype: int64"
      ]
     },
     "execution_count": 41,
     "metadata": {},
     "output_type": "execute_result"
    }
   ],
   "source": [
    "df_exp.groupby(['servicio_internet', 'streaming_peliculas']).size()"
   ]
  },
  {
   "cell_type": "markdown",
   "id": "2f6671aa",
   "metadata": {},
   "source": [
    "Clientes sin internet, no cuentan con streaming de peliculas"
   ]
  },
  {
   "cell_type": "markdown",
   "id": "b0ca7f48",
   "metadata": {},
   "source": [
    "__tipo_contrato__"
   ]
  },
  {
   "cell_type": "code",
   "execution_count": 42,
   "id": "257f1075",
   "metadata": {},
   "outputs": [
    {
     "data": {
      "text/plain": [
       "array(['Un year', 'mes a mes', 'Dos years'], dtype=object)"
      ]
     },
     "execution_count": 42,
     "metadata": {},
     "output_type": "execute_result"
    }
   ],
   "source": [
    "df_exp['tipo_contrato'] = df_exp['tipo_contrato'].replace(\n",
    "    {'One year':'Un year',\n",
    "     'Month-to-month':'mes a mes',\n",
    "     'Two year':'Dos years'\n",
    "     }\n",
    ")\n",
    "\n",
    "df_exp.tipo_contrato.unique()"
   ]
  },
  {
   "cell_type": "markdown",
   "id": "ec51d007",
   "metadata": {},
   "source": [
    "__metodo_pago__"
   ]
  },
  {
   "cell_type": "code",
   "execution_count": 43,
   "id": "6f1e9011",
   "metadata": {},
   "outputs": [
    {
     "data": {
      "text/plain": [
       "array(['Cheque por correo', 'Cheque electronico', 'Tarjeta de credito',\n",
       "       'Transferencia'], dtype=object)"
      ]
     },
     "execution_count": 43,
     "metadata": {},
     "output_type": "execute_result"
    }
   ],
   "source": [
    "df_exp['metodo_pago'] = df_exp['metodo_pago'].replace(\n",
    "    {'Mailed check':'Cheque por correo',\n",
    "     'Electronic check': 'Cheque electronico',\n",
    "     'Credit card (automatic)':'Tarjeta de credito',\n",
    "     'Bank transfer (automatic)':'Transferencia'\n",
    "     }\n",
    "    )\n",
    "\n",
    "df_exp.metodo_pago.unique()"
   ]
  },
  {
   "cell_type": "code",
   "execution_count": 44,
   "id": "b56e1cb5",
   "metadata": {},
   "outputs": [
    {
     "data": {
      "text/html": [
       "<div>\n",
       "<style scoped>\n",
       "    .dataframe tbody tr th:only-of-type {\n",
       "        vertical-align: middle;\n",
       "    }\n",
       "\n",
       "    .dataframe tbody tr th {\n",
       "        vertical-align: top;\n",
       "    }\n",
       "\n",
       "    .dataframe thead th {\n",
       "        text-align: right;\n",
       "    }\n",
       "</style>\n",
       "<table border=\"1\" class=\"dataframe\">\n",
       "  <thead>\n",
       "    <tr style=\"text-align: right;\">\n",
       "      <th></th>\n",
       "      <th>cancelacion</th>\n",
       "      <th>genero</th>\n",
       "      <th>jubilado</th>\n",
       "      <th>en_pareja</th>\n",
       "      <th>dependientes</th>\n",
       "      <th>meses_contrato</th>\n",
       "      <th>servicio_telefonico</th>\n",
       "      <th>multiples_lineas</th>\n",
       "      <th>servicio_internet</th>\n",
       "      <th>seguridad_online</th>\n",
       "      <th>...</th>\n",
       "      <th>proteccion_dispositivo</th>\n",
       "      <th>soporte_efectivo</th>\n",
       "      <th>streaming_TV</th>\n",
       "      <th>streaming_peliculas</th>\n",
       "      <th>tipo_contrato</th>\n",
       "      <th>facturacion_electronica</th>\n",
       "      <th>metodo_pago</th>\n",
       "      <th>cuenta_mensual</th>\n",
       "      <th>cuentas_total</th>\n",
       "      <th>cuentas_diarias</th>\n",
       "    </tr>\n",
       "  </thead>\n",
       "  <tbody>\n",
       "    <tr>\n",
       "      <th>0</th>\n",
       "      <td>0</td>\n",
       "      <td>Femenino</td>\n",
       "      <td>No</td>\n",
       "      <td>Si</td>\n",
       "      <td>Si</td>\n",
       "      <td>9</td>\n",
       "      <td>Si</td>\n",
       "      <td>No</td>\n",
       "      <td>DSL</td>\n",
       "      <td>No</td>\n",
       "      <td>...</td>\n",
       "      <td>No</td>\n",
       "      <td>Si</td>\n",
       "      <td>Si</td>\n",
       "      <td>No</td>\n",
       "      <td>Un year</td>\n",
       "      <td>Si</td>\n",
       "      <td>Cheque por correo</td>\n",
       "      <td>65.6</td>\n",
       "      <td>593.30</td>\n",
       "      <td>0.242963</td>\n",
       "    </tr>\n",
       "    <tr>\n",
       "      <th>1</th>\n",
       "      <td>0</td>\n",
       "      <td>Masculino</td>\n",
       "      <td>No</td>\n",
       "      <td>No</td>\n",
       "      <td>No</td>\n",
       "      <td>9</td>\n",
       "      <td>Si</td>\n",
       "      <td>Yes</td>\n",
       "      <td>DSL</td>\n",
       "      <td>No</td>\n",
       "      <td>...</td>\n",
       "      <td>No</td>\n",
       "      <td>No</td>\n",
       "      <td>No</td>\n",
       "      <td>Si</td>\n",
       "      <td>mes a mes</td>\n",
       "      <td>No</td>\n",
       "      <td>Cheque por correo</td>\n",
       "      <td>59.9</td>\n",
       "      <td>542.40</td>\n",
       "      <td>0.221852</td>\n",
       "    </tr>\n",
       "    <tr>\n",
       "      <th>2</th>\n",
       "      <td>1</td>\n",
       "      <td>Masculino</td>\n",
       "      <td>No</td>\n",
       "      <td>No</td>\n",
       "      <td>No</td>\n",
       "      <td>4</td>\n",
       "      <td>Si</td>\n",
       "      <td>No</td>\n",
       "      <td>Fibra_optica</td>\n",
       "      <td>No</td>\n",
       "      <td>...</td>\n",
       "      <td>Si</td>\n",
       "      <td>No</td>\n",
       "      <td>No</td>\n",
       "      <td>No</td>\n",
       "      <td>mes a mes</td>\n",
       "      <td>Si</td>\n",
       "      <td>Cheque electronico</td>\n",
       "      <td>73.9</td>\n",
       "      <td>280.85</td>\n",
       "      <td>0.615833</td>\n",
       "    </tr>\n",
       "    <tr>\n",
       "      <th>3</th>\n",
       "      <td>1</td>\n",
       "      <td>Masculino</td>\n",
       "      <td>Si</td>\n",
       "      <td>Si</td>\n",
       "      <td>No</td>\n",
       "      <td>13</td>\n",
       "      <td>Si</td>\n",
       "      <td>No</td>\n",
       "      <td>Fibra_optica</td>\n",
       "      <td>No</td>\n",
       "      <td>...</td>\n",
       "      <td>Si</td>\n",
       "      <td>No</td>\n",
       "      <td>Si</td>\n",
       "      <td>Si</td>\n",
       "      <td>mes a mes</td>\n",
       "      <td>Si</td>\n",
       "      <td>Cheque electronico</td>\n",
       "      <td>98.0</td>\n",
       "      <td>1237.85</td>\n",
       "      <td>0.251282</td>\n",
       "    </tr>\n",
       "    <tr>\n",
       "      <th>4</th>\n",
       "      <td>1</td>\n",
       "      <td>Femenino</td>\n",
       "      <td>Si</td>\n",
       "      <td>Si</td>\n",
       "      <td>No</td>\n",
       "      <td>3</td>\n",
       "      <td>Si</td>\n",
       "      <td>No</td>\n",
       "      <td>Fibra_optica</td>\n",
       "      <td>No</td>\n",
       "      <td>...</td>\n",
       "      <td>No</td>\n",
       "      <td>Si</td>\n",
       "      <td>Si</td>\n",
       "      <td>No</td>\n",
       "      <td>mes a mes</td>\n",
       "      <td>Si</td>\n",
       "      <td>Cheque por correo</td>\n",
       "      <td>83.9</td>\n",
       "      <td>267.40</td>\n",
       "      <td>0.932222</td>\n",
       "    </tr>\n",
       "  </tbody>\n",
       "</table>\n",
       "<p>5 rows × 21 columns</p>\n",
       "</div>"
      ],
      "text/plain": [
       "   cancelacion     genero jubilado en_pareja dependientes  meses_contrato  \\\n",
       "0            0   Femenino       No        Si           Si               9   \n",
       "1            0  Masculino       No        No           No               9   \n",
       "2            1  Masculino       No        No           No               4   \n",
       "3            1  Masculino       Si        Si           No              13   \n",
       "4            1   Femenino       Si        Si           No               3   \n",
       "\n",
       "  servicio_telefonico multiples_lineas servicio_internet seguridad_online  \\\n",
       "0                  Si               No               DSL               No   \n",
       "1                  Si              Yes               DSL               No   \n",
       "2                  Si               No      Fibra_optica               No   \n",
       "3                  Si               No      Fibra_optica               No   \n",
       "4                  Si               No      Fibra_optica               No   \n",
       "\n",
       "   ... proteccion_dispositivo soporte_efectivo streaming_TV  \\\n",
       "0  ...                     No               Si           Si   \n",
       "1  ...                     No               No           No   \n",
       "2  ...                     Si               No           No   \n",
       "3  ...                     Si               No           Si   \n",
       "4  ...                     No               Si           Si   \n",
       "\n",
       "  streaming_peliculas tipo_contrato facturacion_electronica  \\\n",
       "0                  No       Un year                      Si   \n",
       "1                  Si     mes a mes                      No   \n",
       "2                  No     mes a mes                      Si   \n",
       "3                  Si     mes a mes                      Si   \n",
       "4                  No     mes a mes                      Si   \n",
       "\n",
       "          metodo_pago cuenta_mensual  cuentas_total  cuentas_diarias  \n",
       "0   Cheque por correo           65.6         593.30         0.242963  \n",
       "1   Cheque por correo           59.9         542.40         0.221852  \n",
       "2  Cheque electronico           73.9         280.85         0.615833  \n",
       "3  Cheque electronico           98.0        1237.85         0.251282  \n",
       "4   Cheque por correo           83.9         267.40         0.932222  \n",
       "\n",
       "[5 rows x 21 columns]"
      ]
     },
     "execution_count": 44,
     "metadata": {},
     "output_type": "execute_result"
    }
   ],
   "source": [
    "df_exp.head()"
   ]
  },
  {
   "cell_type": "code",
   "execution_count": 45,
   "id": "77adfd5a",
   "metadata": {},
   "outputs": [
    {
     "name": "stdout",
     "output_type": "stream",
     "text": [
      "<class 'pandas.core.frame.DataFrame'>\n",
      "Index: 7032 entries, 0 to 7266\n",
      "Data columns (total 21 columns):\n",
      " #   Column                   Non-Null Count  Dtype  \n",
      "---  ------                   --------------  -----  \n",
      " 0   cancelacion              7032 non-null   int64  \n",
      " 1   genero                   7032 non-null   object \n",
      " 2   jubilado                 7032 non-null   object \n",
      " 3   en_pareja                7032 non-null   object \n",
      " 4   dependientes             7032 non-null   object \n",
      " 5   meses_contrato           7032 non-null   int64  \n",
      " 6   servicio_telefonico      7032 non-null   object \n",
      " 7   multiples_lineas         7032 non-null   object \n",
      " 8   servicio_internet        7032 non-null   object \n",
      " 9   seguridad_online         7032 non-null   object \n",
      " 10  respaldo_online          7032 non-null   object \n",
      " 11  proteccion_dispositivo   7032 non-null   object \n",
      " 12  soporte_efectivo         7032 non-null   object \n",
      " 13  streaming_TV             7032 non-null   object \n",
      " 14  streaming_peliculas      7032 non-null   object \n",
      " 15  tipo_contrato            7032 non-null   object \n",
      " 16  facturacion_electronica  7032 non-null   object \n",
      " 17  metodo_pago              7032 non-null   object \n",
      " 18  cuenta_mensual           7032 non-null   float64\n",
      " 19  cuentas_total            7032 non-null   float64\n",
      " 20  cuentas_diarias          7032 non-null   float64\n",
      "dtypes: float64(3), int64(2), object(16)\n",
      "memory usage: 1.2+ MB\n"
     ]
    }
   ],
   "source": [
    "df_exp.info()"
   ]
  },
  {
   "cell_type": "markdown",
   "id": "0eaa7e48",
   "metadata": {},
   "source": [
    "## Carga y Analisis"
   ]
  },
  {
   "cell_type": "markdown",
   "id": "f50b7ecb",
   "metadata": {},
   "source": [
    "### Resumen estadistico de variables categoricas de clientes que cancelan"
   ]
  },
  {
   "cell_type": "code",
   "execution_count": 46,
   "id": "e25f4748",
   "metadata": {},
   "outputs": [
    {
     "data": {
      "text/html": [
       "<div>\n",
       "<style scoped>\n",
       "    .dataframe tbody tr th:only-of-type {\n",
       "        vertical-align: middle;\n",
       "    }\n",
       "\n",
       "    .dataframe tbody tr th {\n",
       "        vertical-align: top;\n",
       "    }\n",
       "\n",
       "    .dataframe thead th {\n",
       "        text-align: right;\n",
       "    }\n",
       "</style>\n",
       "<table border=\"1\" class=\"dataframe\">\n",
       "  <thead>\n",
       "    <tr style=\"text-align: right;\">\n",
       "      <th></th>\n",
       "      <th>count</th>\n",
       "      <th>unique</th>\n",
       "      <th>top</th>\n",
       "      <th>freq</th>\n",
       "      <th>proporcion_top</th>\n",
       "    </tr>\n",
       "  </thead>\n",
       "  <tbody>\n",
       "    <tr>\n",
       "      <th>genero</th>\n",
       "      <td>1869</td>\n",
       "      <td>2</td>\n",
       "      <td>Femenino</td>\n",
       "      <td>939</td>\n",
       "      <td>0.502408</td>\n",
       "    </tr>\n",
       "    <tr>\n",
       "      <th>jubilado</th>\n",
       "      <td>1869</td>\n",
       "      <td>2</td>\n",
       "      <td>No</td>\n",
       "      <td>1393</td>\n",
       "      <td>0.745318</td>\n",
       "    </tr>\n",
       "    <tr>\n",
       "      <th>en_pareja</th>\n",
       "      <td>1869</td>\n",
       "      <td>2</td>\n",
       "      <td>No</td>\n",
       "      <td>1200</td>\n",
       "      <td>0.642055</td>\n",
       "    </tr>\n",
       "    <tr>\n",
       "      <th>dependientes</th>\n",
       "      <td>1869</td>\n",
       "      <td>2</td>\n",
       "      <td>No</td>\n",
       "      <td>1543</td>\n",
       "      <td>0.825575</td>\n",
       "    </tr>\n",
       "    <tr>\n",
       "      <th>servicio_telefonico</th>\n",
       "      <td>1869</td>\n",
       "      <td>2</td>\n",
       "      <td>Si</td>\n",
       "      <td>1699</td>\n",
       "      <td>0.909042</td>\n",
       "    </tr>\n",
       "    <tr>\n",
       "      <th>multiples_lineas</th>\n",
       "      <td>1869</td>\n",
       "      <td>3</td>\n",
       "      <td>Yes</td>\n",
       "      <td>850</td>\n",
       "      <td>0.454789</td>\n",
       "    </tr>\n",
       "    <tr>\n",
       "      <th>servicio_internet</th>\n",
       "      <td>1869</td>\n",
       "      <td>3</td>\n",
       "      <td>Fibra_optica</td>\n",
       "      <td>1297</td>\n",
       "      <td>0.693954</td>\n",
       "    </tr>\n",
       "    <tr>\n",
       "      <th>seguridad_online</th>\n",
       "      <td>1869</td>\n",
       "      <td>3</td>\n",
       "      <td>No</td>\n",
       "      <td>1461</td>\n",
       "      <td>0.781701</td>\n",
       "    </tr>\n",
       "    <tr>\n",
       "      <th>respaldo_online</th>\n",
       "      <td>1869</td>\n",
       "      <td>3</td>\n",
       "      <td>No</td>\n",
       "      <td>1233</td>\n",
       "      <td>0.659711</td>\n",
       "    </tr>\n",
       "    <tr>\n",
       "      <th>proteccion_dispositivo</th>\n",
       "      <td>1869</td>\n",
       "      <td>3</td>\n",
       "      <td>No</td>\n",
       "      <td>1211</td>\n",
       "      <td>0.64794</td>\n",
       "    </tr>\n",
       "    <tr>\n",
       "      <th>soporte_efectivo</th>\n",
       "      <td>1869</td>\n",
       "      <td>3</td>\n",
       "      <td>No</td>\n",
       "      <td>1446</td>\n",
       "      <td>0.773676</td>\n",
       "    </tr>\n",
       "    <tr>\n",
       "      <th>streaming_TV</th>\n",
       "      <td>1869</td>\n",
       "      <td>3</td>\n",
       "      <td>No</td>\n",
       "      <td>942</td>\n",
       "      <td>0.504013</td>\n",
       "    </tr>\n",
       "    <tr>\n",
       "      <th>streaming_peliculas</th>\n",
       "      <td>1869</td>\n",
       "      <td>3</td>\n",
       "      <td>No</td>\n",
       "      <td>938</td>\n",
       "      <td>0.501873</td>\n",
       "    </tr>\n",
       "    <tr>\n",
       "      <th>tipo_contrato</th>\n",
       "      <td>1869</td>\n",
       "      <td>3</td>\n",
       "      <td>mes a mes</td>\n",
       "      <td>1655</td>\n",
       "      <td>0.8855</td>\n",
       "    </tr>\n",
       "    <tr>\n",
       "      <th>facturacion_electronica</th>\n",
       "      <td>1869</td>\n",
       "      <td>2</td>\n",
       "      <td>Si</td>\n",
       "      <td>1400</td>\n",
       "      <td>0.749064</td>\n",
       "    </tr>\n",
       "    <tr>\n",
       "      <th>metodo_pago</th>\n",
       "      <td>1869</td>\n",
       "      <td>4</td>\n",
       "      <td>Cheque electronico</td>\n",
       "      <td>1071</td>\n",
       "      <td>0.573034</td>\n",
       "    </tr>\n",
       "  </tbody>\n",
       "</table>\n",
       "</div>"
      ],
      "text/plain": [
       "                        count unique                 top  freq proporcion_top\n",
       "genero                   1869      2            Femenino   939       0.502408\n",
       "jubilado                 1869      2                  No  1393       0.745318\n",
       "en_pareja                1869      2                  No  1200       0.642055\n",
       "dependientes             1869      2                  No  1543       0.825575\n",
       "servicio_telefonico      1869      2                  Si  1699       0.909042\n",
       "multiples_lineas         1869      3                 Yes   850       0.454789\n",
       "servicio_internet        1869      3        Fibra_optica  1297       0.693954\n",
       "seguridad_online         1869      3                  No  1461       0.781701\n",
       "respaldo_online          1869      3                  No  1233       0.659711\n",
       "proteccion_dispositivo   1869      3                  No  1211        0.64794\n",
       "soporte_efectivo         1869      3                  No  1446       0.773676\n",
       "streaming_TV             1869      3                  No   942       0.504013\n",
       "streaming_peliculas      1869      3                  No   938       0.501873\n",
       "tipo_contrato            1869      3           mes a mes  1655         0.8855\n",
       "facturacion_electronica  1869      2                  Si  1400       0.749064\n",
       "metodo_pago              1869      4  Cheque electronico  1071       0.573034"
      ]
     },
     "execution_count": 46,
     "metadata": {},
     "output_type": "execute_result"
    }
   ],
   "source": [
    "# lista de variables categoricas\n",
    "var_categoricas = df_exp.select_dtypes(include=['object', 'category']).columns\n",
    "\n",
    "# obtener dataframe con variables categoricas mas la variable cancelacion\n",
    "df_c = df_exp[var_categoricas].copy()\n",
    "df_c['cancelacion'] = df_exp['cancelacion'].copy()\n",
    "\n",
    "# seleccionar registros con clientes que cancelaron\n",
    "df_c_cancelaron = df_c[df_c['cancelacion'] == 1]\n",
    "\n",
    "# resumen estadistico de las variables categoricas\n",
    "df_c_cancelaron = df_c_cancelaron.describe(exclude='int')\n",
    "\n",
    "# trasponer filas por columnas\n",
    "df_c_cancelaron = df_c_cancelaron.T\n",
    "\n",
    "# agregar la columna 'proporcion top'\n",
    "df_c_cancelaron['proporcion_top'] = df_c_cancelaron['freq']/df_c_cancelaron['count']\n",
    "df_c_cancelaron"
   ]
  },
  {
   "cell_type": "markdown",
   "id": "a70c200e",
   "metadata": {},
   "source": [
    "> En total, 1869 clientes cancelaron el servicio con la empresa\n",
    "\n",
    "> La proporcion de hombres y mujeres que cancelaron son similares.\n",
    "\n",
    "> 74% de los clientes no son adultos mayores.\n",
    "\n",
    "> 64% de los clientes son solteros.\n",
    "\n",
    "> 82.5% de los clientes no tienen dependientes a su cargo.\n",
    "\n",
    "> 91% tienen servicio telefonico\n",
    "\n",
    "> 45% tiene mas de 1 linea telefonica.\n",
    "\n",
    "> 69% cuenta con servicio de internet a traves de fibra optica\n",
    "\n",
    "> 78% no cuenta con seguridad en linea\n",
    "\n",
    "> 65% no posee respaldo en linea\n",
    "\n",
    "> 64% no cuenta con proteccion de dispositivos.\n",
    "\n",
    "> 77% no tienen soporte tecnico efectivo.\n",
    "\n",
    "> 50% de los clientes no acceden al servicio de streaming TV.\n",
    "\n",
    "> 50% de los clientes no acceden al servicio de streaming de peliculas.\n",
    "\n",
    "> El tipo de contrato preferido por estos clientes es el mes a mes.\n",
    "\n",
    "> La mayoria prefieren facturacion electronica\n",
    "\n",
    "> EL metodo de pago mas utlizado por este grupo es el cheque electronico."
   ]
  },
  {
   "cell_type": "markdown",
   "id": "c0e3e2e8",
   "metadata": {},
   "source": [
    "### Resumen estadistico de variables categoricas de clientes que no cancelan"
   ]
  },
  {
   "cell_type": "code",
   "execution_count": 47,
   "id": "2bf53960",
   "metadata": {},
   "outputs": [
    {
     "data": {
      "text/html": [
       "<div>\n",
       "<style scoped>\n",
       "    .dataframe tbody tr th:only-of-type {\n",
       "        vertical-align: middle;\n",
       "    }\n",
       "\n",
       "    .dataframe tbody tr th {\n",
       "        vertical-align: top;\n",
       "    }\n",
       "\n",
       "    .dataframe thead th {\n",
       "        text-align: right;\n",
       "    }\n",
       "</style>\n",
       "<table border=\"1\" class=\"dataframe\">\n",
       "  <thead>\n",
       "    <tr style=\"text-align: right;\">\n",
       "      <th></th>\n",
       "      <th>count</th>\n",
       "      <th>unique</th>\n",
       "      <th>top</th>\n",
       "      <th>freq</th>\n",
       "      <th>proporcion_top</th>\n",
       "    </tr>\n",
       "  </thead>\n",
       "  <tbody>\n",
       "    <tr>\n",
       "      <th>genero</th>\n",
       "      <td>5163</td>\n",
       "      <td>2</td>\n",
       "      <td>Masculino</td>\n",
       "      <td>2619</td>\n",
       "      <td>0.507263</td>\n",
       "    </tr>\n",
       "    <tr>\n",
       "      <th>jubilado</th>\n",
       "      <td>5163</td>\n",
       "      <td>2</td>\n",
       "      <td>No</td>\n",
       "      <td>4497</td>\n",
       "      <td>0.871005</td>\n",
       "    </tr>\n",
       "    <tr>\n",
       "      <th>en_pareja</th>\n",
       "      <td>5163</td>\n",
       "      <td>2</td>\n",
       "      <td>Si</td>\n",
       "      <td>2724</td>\n",
       "      <td>0.5276</td>\n",
       "    </tr>\n",
       "    <tr>\n",
       "      <th>dependientes</th>\n",
       "      <td>5163</td>\n",
       "      <td>2</td>\n",
       "      <td>No</td>\n",
       "      <td>3390</td>\n",
       "      <td>0.656595</td>\n",
       "    </tr>\n",
       "    <tr>\n",
       "      <th>servicio_telefonico</th>\n",
       "      <td>5163</td>\n",
       "      <td>2</td>\n",
       "      <td>Si</td>\n",
       "      <td>4653</td>\n",
       "      <td>0.90122</td>\n",
       "    </tr>\n",
       "    <tr>\n",
       "      <th>multiples_lineas</th>\n",
       "      <td>5163</td>\n",
       "      <td>3</td>\n",
       "      <td>No</td>\n",
       "      <td>2536</td>\n",
       "      <td>0.491187</td>\n",
       "    </tr>\n",
       "    <tr>\n",
       "      <th>servicio_internet</th>\n",
       "      <td>5163</td>\n",
       "      <td>3</td>\n",
       "      <td>DSL</td>\n",
       "      <td>1957</td>\n",
       "      <td>0.379043</td>\n",
       "    </tr>\n",
       "    <tr>\n",
       "      <th>seguridad_online</th>\n",
       "      <td>5163</td>\n",
       "      <td>3</td>\n",
       "      <td>No</td>\n",
       "      <td>2036</td>\n",
       "      <td>0.394344</td>\n",
       "    </tr>\n",
       "    <tr>\n",
       "      <th>respaldo_online</th>\n",
       "      <td>5163</td>\n",
       "      <td>3</td>\n",
       "      <td>Si</td>\n",
       "      <td>1902</td>\n",
       "      <td>0.36839</td>\n",
       "    </tr>\n",
       "    <tr>\n",
       "      <th>proteccion_dispositivo</th>\n",
       "      <td>5163</td>\n",
       "      <td>3</td>\n",
       "      <td>No</td>\n",
       "      <td>1883</td>\n",
       "      <td>0.36471</td>\n",
       "    </tr>\n",
       "    <tr>\n",
       "      <th>soporte_efectivo</th>\n",
       "      <td>5163</td>\n",
       "      <td>3</td>\n",
       "      <td>No</td>\n",
       "      <td>2026</td>\n",
       "      <td>0.392408</td>\n",
       "    </tr>\n",
       "    <tr>\n",
       "      <th>streaming_TV</th>\n",
       "      <td>5163</td>\n",
       "      <td>3</td>\n",
       "      <td>Si</td>\n",
       "      <td>1889</td>\n",
       "      <td>0.365873</td>\n",
       "    </tr>\n",
       "    <tr>\n",
       "      <th>streaming_peliculas</th>\n",
       "      <td>5163</td>\n",
       "      <td>3</td>\n",
       "      <td>Si</td>\n",
       "      <td>1913</td>\n",
       "      <td>0.370521</td>\n",
       "    </tr>\n",
       "    <tr>\n",
       "      <th>tipo_contrato</th>\n",
       "      <td>5163</td>\n",
       "      <td>3</td>\n",
       "      <td>mes a mes</td>\n",
       "      <td>2220</td>\n",
       "      <td>0.429983</td>\n",
       "    </tr>\n",
       "    <tr>\n",
       "      <th>facturacion_electronica</th>\n",
       "      <td>5163</td>\n",
       "      <td>2</td>\n",
       "      <td>Si</td>\n",
       "      <td>2768</td>\n",
       "      <td>0.536122</td>\n",
       "    </tr>\n",
       "    <tr>\n",
       "      <th>metodo_pago</th>\n",
       "      <td>5163</td>\n",
       "      <td>4</td>\n",
       "      <td>Cheque por correo</td>\n",
       "      <td>1296</td>\n",
       "      <td>0.251017</td>\n",
       "    </tr>\n",
       "  </tbody>\n",
       "</table>\n",
       "</div>"
      ],
      "text/plain": [
       "                        count unique                top  freq proporcion_top\n",
       "genero                   5163      2          Masculino  2619       0.507263\n",
       "jubilado                 5163      2                 No  4497       0.871005\n",
       "en_pareja                5163      2                 Si  2724         0.5276\n",
       "dependientes             5163      2                 No  3390       0.656595\n",
       "servicio_telefonico      5163      2                 Si  4653        0.90122\n",
       "multiples_lineas         5163      3                 No  2536       0.491187\n",
       "servicio_internet        5163      3                DSL  1957       0.379043\n",
       "seguridad_online         5163      3                 No  2036       0.394344\n",
       "respaldo_online          5163      3                 Si  1902        0.36839\n",
       "proteccion_dispositivo   5163      3                 No  1883        0.36471\n",
       "soporte_efectivo         5163      3                 No  2026       0.392408\n",
       "streaming_TV             5163      3                 Si  1889       0.365873\n",
       "streaming_peliculas      5163      3                 Si  1913       0.370521\n",
       "tipo_contrato            5163      3          mes a mes  2220       0.429983\n",
       "facturacion_electronica  5163      2                 Si  2768       0.536122\n",
       "metodo_pago              5163      4  Cheque por correo  1296       0.251017"
      ]
     },
     "execution_count": 47,
     "metadata": {},
     "output_type": "execute_result"
    }
   ],
   "source": [
    "# lista de variables categoricas\n",
    "var_categoricas = df_exp.select_dtypes(include=['object', 'category']).columns\n",
    "\n",
    "# obtener dataframe con variables categoricas mas la variable cancelacion\n",
    "df_c = df_exp[var_categoricas].copy()\n",
    "df_c['cancelacion'] = df_exp['cancelacion'].copy()\n",
    "\n",
    "# seleccionar registros con clientes que  no cancelaron\n",
    "df_c_Nocancelaron = df_c[df_c['cancelacion'] == 0]\n",
    "\n",
    "# resumen estadistico de las variables categoricas\n",
    "df_c_Nocancelaron = df_c_Nocancelaron.describe(exclude='int')\n",
    "\n",
    "# trasponer filas por columnas\n",
    "df_c_Nocancelaron = df_c_Nocancelaron.T\n",
    "\n",
    "# agregar la columna 'proporcion top'\n",
    "df_c_Nocancelaron['proporcion_top'] = df_c_Nocancelaron['freq']/df_c_Nocancelaron['count']\n",
    "df_c_Nocancelaron"
   ]
  },
  {
   "cell_type": "markdown",
   "id": "2c9705b0",
   "metadata": {},
   "source": [
    "> Tenemos 5163 clientes que mantienen el servicio con la empresa\n",
    "\n",
    "> La proporcion entre hombres y mujeres es igual en este grupo de clientes.\n",
    "\n",
    "> 87% de los clientes no son adultos mayores.\n",
    "\n",
    "> 52% estan en pareja.\n",
    "\n",
    "> 65% no tienen dependientes a su cargo.\n",
    "\n",
    "> Mas del 90% de los clientes cuentan con servicio telefonico.\n",
    "\n",
    "> 49% cuentan con al menos 1 linea telefonica.\n",
    "\n",
    "> 38% de los clientes cuentan con servicio de internet a traves de DSL.\n",
    "\n",
    "> 39% no cuenta con seguridad online.\n",
    "\n",
    "> 37% de los clientes cuentan con respaldo online.\n",
    "\n",
    "> 36% no cuentan con proteccion de dispositivos\n",
    "\n",
    "> 39% de los clientes no posee soporte tecnico efectivo.\n",
    "\n",
    "> 36% si cuentan con servicio de streaming TV.\n",
    "\n",
    "> 37% si cuentan con servicio de streaming de peliculas\n",
    "\n",
    "> Solo el 43% de estos clientes prefieren el tipo de contrato es mes a mes.\n",
    "\n",
    "> Mas del 53% reciben facturacion eletronica.\n",
    "\n",
    "> 25.1% de los clientes prefieren el Cheque por correo como metodo de pago. "
   ]
  },
  {
   "cell_type": "markdown",
   "id": "63e3187a",
   "metadata": {},
   "source": [
    "### Resumen estadistico de las variables numericas de clientes que cancelan"
   ]
  },
  {
   "cell_type": "code",
   "execution_count": 48,
   "id": "3b88bd0c",
   "metadata": {},
   "outputs": [
    {
     "data": {
      "text/html": [
       "<div>\n",
       "<style scoped>\n",
       "    .dataframe tbody tr th:only-of-type {\n",
       "        vertical-align: middle;\n",
       "    }\n",
       "\n",
       "    .dataframe tbody tr th {\n",
       "        vertical-align: top;\n",
       "    }\n",
       "\n",
       "    .dataframe thead th {\n",
       "        text-align: right;\n",
       "    }\n",
       "</style>\n",
       "<table border=\"1\" class=\"dataframe\">\n",
       "  <thead>\n",
       "    <tr style=\"text-align: right;\">\n",
       "      <th></th>\n",
       "      <th>count</th>\n",
       "      <th>mean</th>\n",
       "      <th>std</th>\n",
       "      <th>min</th>\n",
       "      <th>25%</th>\n",
       "      <th>50%</th>\n",
       "      <th>75%</th>\n",
       "      <th>max</th>\n",
       "    </tr>\n",
       "  </thead>\n",
       "  <tbody>\n",
       "    <tr>\n",
       "      <th>cancelacion</th>\n",
       "      <td>1869.0</td>\n",
       "      <td>1.000000</td>\n",
       "      <td>0.000000</td>\n",
       "      <td>1.000000</td>\n",
       "      <td>1.00</td>\n",
       "      <td>1.000000</td>\n",
       "      <td>1.0000</td>\n",
       "      <td>1.000</td>\n",
       "    </tr>\n",
       "    <tr>\n",
       "      <th>meses_contrato</th>\n",
       "      <td>1869.0</td>\n",
       "      <td>17.979133</td>\n",
       "      <td>19.531123</td>\n",
       "      <td>1.000000</td>\n",
       "      <td>2.00</td>\n",
       "      <td>10.000000</td>\n",
       "      <td>29.0000</td>\n",
       "      <td>72.000</td>\n",
       "    </tr>\n",
       "    <tr>\n",
       "      <th>cuenta_mensual</th>\n",
       "      <td>1869.0</td>\n",
       "      <td>74.441332</td>\n",
       "      <td>24.666053</td>\n",
       "      <td>18.850000</td>\n",
       "      <td>56.15</td>\n",
       "      <td>79.650000</td>\n",
       "      <td>94.2000</td>\n",
       "      <td>118.350</td>\n",
       "    </tr>\n",
       "    <tr>\n",
       "      <th>cuentas_total</th>\n",
       "      <td>1869.0</td>\n",
       "      <td>1531.796094</td>\n",
       "      <td>1890.822994</td>\n",
       "      <td>18.850000</td>\n",
       "      <td>134.50</td>\n",
       "      <td>703.550000</td>\n",
       "      <td>2331.3000</td>\n",
       "      <td>8684.800</td>\n",
       "    </tr>\n",
       "    <tr>\n",
       "      <th>cuentas_diarias</th>\n",
       "      <td>1869.0</td>\n",
       "      <td>0.637061</td>\n",
       "      <td>0.808238</td>\n",
       "      <td>0.010601</td>\n",
       "      <td>0.09</td>\n",
       "      <td>0.249306</td>\n",
       "      <td>0.8175</td>\n",
       "      <td>3.415</td>\n",
       "    </tr>\n",
       "  </tbody>\n",
       "</table>\n",
       "</div>"
      ],
      "text/plain": [
       "                  count         mean          std        min     25%  \\\n",
       "cancelacion      1869.0     1.000000     0.000000   1.000000    1.00   \n",
       "meses_contrato   1869.0    17.979133    19.531123   1.000000    2.00   \n",
       "cuenta_mensual   1869.0    74.441332    24.666053  18.850000   56.15   \n",
       "cuentas_total    1869.0  1531.796094  1890.822994  18.850000  134.50   \n",
       "cuentas_diarias  1869.0     0.637061     0.808238   0.010601    0.09   \n",
       "\n",
       "                        50%        75%       max  \n",
       "cancelacion        1.000000     1.0000     1.000  \n",
       "meses_contrato    10.000000    29.0000    72.000  \n",
       "cuenta_mensual    79.650000    94.2000   118.350  \n",
       "cuentas_total    703.550000  2331.3000  8684.800  \n",
       "cuentas_diarias    0.249306     0.8175     3.415  "
      ]
     },
     "execution_count": 48,
     "metadata": {},
     "output_type": "execute_result"
    }
   ],
   "source": [
    "df_n_cancelan = df_exp[df_exp['cancelacion'] == 1]\n",
    "df_n_cancelan = df_n_cancelan.describe()\n",
    "df_n_cancelan.T"
   ]
  },
  {
   "cell_type": "markdown",
   "id": "d1ba3538",
   "metadata": {},
   "source": [
    "> En total, hay 1869 clientes que cancelan el servicio con la empresa.\n",
    "\n",
    "> Aunque en promedio los clientes duren 18 meses, la mayoria cancelan el servicio antes de cumplir 1 año (mediana = 10 meses). La alta dispersion (std = 19 meses) indica una gran variabilidad en el tiempo que toman los clientes antes de cancelar.\n",
    "\n",
    "> El rango de la cuenta mensual va desde 18.85 a 118.35 con una media de 74.44. En teoria, para una distribucion normal, la media deberia estar cerca 68.85 lo que evidencia una ligera asimetria hacia la izquierda. Muchos de los clientes que cancelan pagan cuentas mensuales medianamente altas.\n",
    "\n",
    "> La gran diferencia entre la media (1531.79) y la mediana (703.55) en la cuenta total, indica la presencia de outliers, es decir clientes que pagan mucho en cuentas totales. Un valor maximo de 8684.8 y una alta variabilidad (std=1890), reafirma la presencia de valores atipicos.\n",
    "\n",
    "> La media (0.64) y la mediana (0.25) de la cuenta diaria evidencia una distribucion sesgada a la derecha por la presencia de outliers. Lo que quiere decir es que hay pocos clientes que gastan mucho cada dia."
   ]
  },
  {
   "cell_type": "markdown",
   "id": "a77131f8",
   "metadata": {},
   "source": [
    "### Resumen estadistico de las variables numericas de clientes que no cancelan"
   ]
  },
  {
   "cell_type": "code",
   "execution_count": 49,
   "id": "832d8269",
   "metadata": {},
   "outputs": [
    {
     "data": {
      "text/html": [
       "<div>\n",
       "<style scoped>\n",
       "    .dataframe tbody tr th:only-of-type {\n",
       "        vertical-align: middle;\n",
       "    }\n",
       "\n",
       "    .dataframe tbody tr th {\n",
       "        vertical-align: top;\n",
       "    }\n",
       "\n",
       "    .dataframe thead th {\n",
       "        text-align: right;\n",
       "    }\n",
       "</style>\n",
       "<table border=\"1\" class=\"dataframe\">\n",
       "  <thead>\n",
       "    <tr style=\"text-align: right;\">\n",
       "      <th></th>\n",
       "      <th>count</th>\n",
       "      <th>mean</th>\n",
       "      <th>std</th>\n",
       "      <th>min</th>\n",
       "      <th>25%</th>\n",
       "      <th>50%</th>\n",
       "      <th>75%</th>\n",
       "      <th>max</th>\n",
       "    </tr>\n",
       "  </thead>\n",
       "  <tbody>\n",
       "    <tr>\n",
       "      <th>cancelacion</th>\n",
       "      <td>5163.0</td>\n",
       "      <td>0.000000</td>\n",
       "      <td>0.000000</td>\n",
       "      <td>0.000000</td>\n",
       "      <td>0.000000</td>\n",
       "      <td>0.000000</td>\n",
       "      <td>0.000000</td>\n",
       "      <td>0.000</td>\n",
       "    </tr>\n",
       "    <tr>\n",
       "      <th>meses_contrato</th>\n",
       "      <td>5163.0</td>\n",
       "      <td>37.650010</td>\n",
       "      <td>24.076940</td>\n",
       "      <td>1.000000</td>\n",
       "      <td>15.000000</td>\n",
       "      <td>38.000000</td>\n",
       "      <td>61.000000</td>\n",
       "      <td>72.000</td>\n",
       "    </tr>\n",
       "    <tr>\n",
       "      <th>cuenta_mensual</th>\n",
       "      <td>5163.0</td>\n",
       "      <td>61.307408</td>\n",
       "      <td>31.094557</td>\n",
       "      <td>18.250000</td>\n",
       "      <td>25.100000</td>\n",
       "      <td>64.450000</td>\n",
       "      <td>88.475000</td>\n",
       "      <td>118.750</td>\n",
       "    </tr>\n",
       "    <tr>\n",
       "      <th>cuentas_total</th>\n",
       "      <td>5163.0</td>\n",
       "      <td>2555.344141</td>\n",
       "      <td>2329.456984</td>\n",
       "      <td>18.800000</td>\n",
       "      <td>577.825000</td>\n",
       "      <td>1683.600000</td>\n",
       "      <td>4264.125000</td>\n",
       "      <td>8672.450</td>\n",
       "    </tr>\n",
       "    <tr>\n",
       "      <th>cuentas_diarias</th>\n",
       "      <td>5163.0</td>\n",
       "      <td>0.160736</td>\n",
       "      <td>0.328574</td>\n",
       "      <td>0.008935</td>\n",
       "      <td>0.036449</td>\n",
       "      <td>0.055444</td>\n",
       "      <td>0.114517</td>\n",
       "      <td>3.195</td>\n",
       "    </tr>\n",
       "  </tbody>\n",
       "</table>\n",
       "</div>"
      ],
      "text/plain": [
       "                  count         mean          std        min         25%  \\\n",
       "cancelacion      5163.0     0.000000     0.000000   0.000000    0.000000   \n",
       "meses_contrato   5163.0    37.650010    24.076940   1.000000   15.000000   \n",
       "cuenta_mensual   5163.0    61.307408    31.094557  18.250000   25.100000   \n",
       "cuentas_total    5163.0  2555.344141  2329.456984  18.800000  577.825000   \n",
       "cuentas_diarias  5163.0     0.160736     0.328574   0.008935    0.036449   \n",
       "\n",
       "                         50%          75%       max  \n",
       "cancelacion         0.000000     0.000000     0.000  \n",
       "meses_contrato     38.000000    61.000000    72.000  \n",
       "cuenta_mensual     64.450000    88.475000   118.750  \n",
       "cuentas_total    1683.600000  4264.125000  8672.450  \n",
       "cuentas_diarias     0.055444     0.114517     3.195  "
      ]
     },
     "execution_count": 49,
     "metadata": {},
     "output_type": "execute_result"
    }
   ],
   "source": [
    "df_n_Nocancelan = df_exp[df_exp['cancelacion'] == 0]\n",
    "df_n_Nocancelan = df_n_Nocancelan.describe()\n",
    "df_n_Nocancelan.T"
   ]
  },
  {
   "cell_type": "markdown",
   "id": "e25ad879",
   "metadata": {},
   "source": [
    "> En total, 5163 clientes mantienen el servicio con la empresa.\n",
    "\n",
    "> La mitad de los clientes tienen contratos mayores a 38 meses (mediana=38). Se tratan de clientes leales con mas de 3 años en la empresa. Comparados con los que cancelan, estos clientes duran el doble de tiempo.\n",
    "\n",
    "> En promedio, estos clientes pagan cuotas mensuales de 61.31 mucho menos que los clientes que cancelan (74.44)\n",
    "\n",
    "> En promedio los clientes que se mantienen en la empresa gastan mas en cuenta total (2555.34) debido a que llevan mas tiempo con la empresa. 50% de los clientes gastan menos de ese valor total.\n",
    "\n",
    "> A pesar de tener mas tiempo, estos clientes gastan a diario en promedio menos (0.167) que los que cancelan (0.637). Con una mediana baja (0.055) se intuye que muchos tienen planes economicos o uso moderado del servicio."
   ]
  },
  {
   "cell_type": "markdown",
   "id": "4aaa444c",
   "metadata": {},
   "source": [
    "### Hipotesis obtenidas a partir del analisis estadistico"
   ]
  },
  {
   "cell_type": "markdown",
   "id": "d726a463",
   "metadata": {},
   "source": [
    "1. Aproximadamente 26.6% de los clientes han cancelado el servicio. El resto, permanecen activo.\n",
    "\n",
    "2. Los clientes que mantienen el servicio tienen contratos mas largos. Mientras que aquellos que cancelan tienen contrato mas cortos posiblemente porque aun estan en etapas tempranas de uso y no estan del todo satisfecho.\n",
    "\n",
    "3. Clientes con cuentas mensuales altas podrian estar propensos a cancelar el servicio si no ven valor claro.\n",
    "\n",
    "4. Clientes que han pagado mucho y durante mas tiempo estan mas comprometidos.\n",
    "\n",
    "5. Altos cargos diarios puede correlacionarse con cancelacion de clientes que los percibe como excesivo.\n",
    "\n",
    "6. Una mayor tasa de cancelacion podria estar relacionada con clientes que presentan planes mensuales, multiples servicios activos y no cuentan con soporte tecnico."
   ]
  },
  {
   "cell_type": "markdown",
   "id": "669a7775",
   "metadata": {},
   "source": [
    "### Correlacion entre las variables"
   ]
  },
  {
   "cell_type": "code",
   "execution_count": null,
   "id": "19c13599",
   "metadata": {},
   "outputs": [
    {
     "data": {
      "image/png": "[encoded data removed]",
      "text/plain": [
       "<Figure size 1008x720 with 2 Axes>"
      ]
     },
     "metadata": {
      "needs_background": "light"
     },
     "output_type": "display_data"
    },
    {
     "data": {
      "text/plain": [
       "<Figure size 432x288 with 0 Axes>"
      ]
     },
     "metadata": {},
     "output_type": "display_data"
    }
   ],
   "source": [
    "# codificamos las variables categoricas\n",
    "df_encoded = pd.get_dummies(df_exp, drop_first=True)\n",
    "# calculamos la matriz de correlacion\n",
    "corr_matrix = df_encoded.corr()\n",
    "\n",
    "# evita mostrar duplicado en la matriz de correlacion\n",
    "mask = np.triu(np.ones_like(corr_matrix, dtype=bool))\n",
    "\n",
    "# graficamos matriz de correlacion\n",
    "plt.figure(figsize=(14, 10))\n",
    "sns.heatmap(corr_matrix, mask=mask, annot=False, fmt='.2f', cmap='coolwarm', linewidths=0.5, square=True)\n",
    "plt.title('Mapa de Correlación (mitad superior)')\n",
    "# guardar grafico\n",
    "plt.savefig('./data_out/heatmap_corr.png', dpi=300, bbox_inches='tight')\n",
    "plt.show()"
   ]
  },
  {
   "cell_type": "markdown",
   "id": "ca95d8fd",
   "metadata": {},
   "source": [
    "> El heatmap muestra que la variable objetivo 'cancelacion' presenta cierta correlacion directa con las variables 'tipo_contrato mes a mes', 'facturacion_electronica_Si', 'servicio_internet_Fibra_Optica', 'cuentas_total' y 'cuenta_mensual'.\n",
    "\n",
    "> Tambien muestra que la variable 'cancelacion' esta inversamente correlacionada con la variable 'meses_contrato'.\n",
    "\n",
    "En lo que sigue, vamos a analizar a fondo cada una de estas variables y probar las hipotesis obtenidas del analisis descriptivo."
   ]
  },
  {
   "cell_type": "markdown",
   "id": "f53ffefe",
   "metadata": {},
   "source": [
    "### 1.- Proporcion de clientes que cancelan y no cancelan"
   ]
  },
  {
   "cell_type": "code",
   "execution_count": 126,
   "id": "de5c3b57",
   "metadata": {},
   "outputs": [
    {
     "data": {
      "image/png": "[encoded data removed]",
      "text/plain": [
       "<Figure size 360x360 with 1 Axes>"
      ]
     },
     "metadata": {},
     "output_type": "display_data"
    }
   ],
   "source": [
    "# obtener cantidad de clientes que cancelan y no cancelan\n",
    "cancelacion = df_exp['cancelacion'].value_counts()\n",
    "\n",
    "# definir etiquetas\n",
    "etiquetas = ['No cancelan', 'Cancelan']\n",
    "\n",
    "# definir colores para cada clase\n",
    "color = ['#77BEF0', '#3D74B6']\n",
    "\n",
    "# grafico circular\n",
    "fig, ax = plt.subplots(figsize=(5,5))\n",
    "ax.pie(\n",
    "    cancelacion,\n",
    "    autopct='%1.1f%%',\n",
    "    startangle=90,\n",
    "    labels=etiquetas,\n",
    "    colors=color\n",
    "    )\n",
    "\n",
    "# agregar porcentajes al grafico\n",
    "valores_abs = [f'{etiqueta}: {valor:,}' for etiqueta, valor in zip(etiquetas, cancelacion)]\n",
    "ax.legend(valores_abs, title='Estado', loc='center left', bbox_to_anchor=(1, 0.5))\n",
    "\n",
    "# personalizacion del grafico\n",
    "plt.title('Proporcion de clientes que cancelan y no cancelan el servicio', fontsize=14)\n",
    "ax.axis('equal')\n",
    "# guardar grafico\n",
    "plt.savefig('./data_out/prop_clientes.png', dpi=300, bbox_inches='tight')\n",
    "plt.show()"
   ]
  },
  {
   "cell_type": "markdown",
   "id": "a1658ebe",
   "metadata": {},
   "source": [
    "### 2.- Clientes que cancelan basados en el tiempo de permanencia"
   ]
  },
  {
   "cell_type": "code",
   "execution_count": 127,
   "id": "10ac0b90",
   "metadata": {},
   "outputs": [
    {
     "data": {
      "image/png": "[encoded data removed]",
      "text/plain": [
       "<Figure size 864x432 with 1 Axes>"
      ]
     },
     "metadata": {
      "needs_background": "light"
     },
     "output_type": "display_data"
    }
   ],
   "source": [
    "import seaborn as sns\n",
    "\n",
    "# filtrar clientes que cancelaron el servicio y que tienen menos de 12 meses de contrato\n",
    "filtro = df_exp[(df_exp['cancelacion'] == 1) & (df_exp['meses_contrato'] <= 12)]\n",
    "\n",
    "# contar clientes que cancelan para cada mes\n",
    "df_cancelan_meses = filtro['meses_contrato'].value_counts().reset_index()\n",
    "df_cancelan_meses = df_cancelan_meses.sort_values(by='meses_contrato')\n",
    "df_cancelan_meses\n",
    "\n",
    "# grafico de barra\n",
    "plt.figure(figsize=(12, 6))\n",
    "sns.barplot(data=df_cancelan_meses, x='meses_contrato', y='count', color='#3D74B6')\n",
    "sns.despine(top=True, right=True, left=True)\n",
    "\n",
    "# agregar valores sobre cada columna\n",
    "for i, v in enumerate(df_cancelan_meses['count']):\n",
    "    plt.text(i, v+1, str(v), ha='center', color='black', fontsize=10)\n",
    "\n",
    "# personalizacion grafico\n",
    "plt.title('Número de clientes que cancelan por mes', fontsize=14)\n",
    "plt.xlabel('Mes', fontsize=10)\n",
    "plt.ylabel('')\n",
    "plt.grid(axis='y', linestyle='--', alpha=0.7)\n",
    "plt.yticks([])\n",
    "\n",
    "# guardar grafico\n",
    "plt.savefig('./data_out/cancelacion_mes.png', dpi=300, bbox_inches='tight')\n",
    "plt.show()"
   ]
  },
  {
   "cell_type": "code",
   "execution_count": 128,
   "id": "db1f332b",
   "metadata": {},
   "outputs": [
    {
     "data": {
      "image/png": "[encoded data removed]",
      "text/plain": [
       "<Figure size 1008x432 with 1 Axes>"
      ]
     },
     "metadata": {
      "needs_background": "light"
     },
     "output_type": "display_data"
    }
   ],
   "source": [
    "# obtener los meses de contrato de los clientes que cancelan\n",
    "pct_cancelan_meses = df_exp[(df_exp['cancelacion'] == 1)]['meses_contrato'].value_counts().reset_index()\n",
    "# crear nueva columna con el porcentaje por mes del total de clientes\n",
    "pct_cancelan_meses['pct_total'] = round((pct_cancelan_meses['count']/7032)*100, 3)\n",
    "# ordenar dataframe por la cantidad de meses\n",
    "pct_cancelan_meses = pct_cancelan_meses.sort_values(by='meses_contrato')\n",
    "# seleccionar los primeros 12 meses\n",
    "pct_cancelan_meses = pct_cancelan_meses[:12]\n",
    "\n",
    "\n",
    "# Crear grafico de linea\n",
    "fig, ax = plt.subplots(figsize=(14, 6))\n",
    "ax.plot(\n",
    "    pct_cancelan_meses['meses_contrato'].values,\n",
    "    pct_cancelan_meses['pct_total'].values,\n",
    "    color='#3D74B6',\n",
    "    lw=3\n",
    ")\n",
    "\n",
    "# Añadimos porcentajes al graico\n",
    "for x, y in zip(pct_cancelan_meses['meses_contrato'], pct_cancelan_meses['pct_total']):\n",
    "    plt.text(\n",
    "        x, y + 0.1,               # Ligeramente encima del punto\n",
    "        f\"{y:.1f}%\",               # Formato con un decimal\n",
    "        ha='center',\n",
    "        color='black',\n",
    "        fontsize=12\n",
    "    )\n",
    "\n",
    "# persoalizar grafico\n",
    "ax.set_title('Porcentaje del total de clientes que cancelan en los primeros 12 meses',loc='left',fontsize=16,pad=20)\n",
    "ax.set_xlabel('Mes',fontsize=12)\n",
    "# quitar lineas del grafico segun su posicion\n",
    "sns.despine(top=True, right=True, left=True)\n",
    "# Establecer ticks de 1 al 12 en el eje X\n",
    "ax.set_xticks(range(1, 13))\n",
    "ax.set_xticklabels(range(1, 13))\n",
    "# Quita completamente los ticks y sus etiquetas\n",
    "ax.set_yticks([])        \n",
    "\n",
    "# guardar grafico\n",
    "plt.savefig('./data_out/cancelacion_total_mes.png', dpi=300, bbox_inches='tight')\n",
    "plt.show()"
   ]
  },
  {
   "cell_type": "markdown",
   "id": "142350be",
   "metadata": {},
   "source": [
    "### 3.- Distribucion del cargo mensual segun la permanencia de los clientes"
   ]
  },
  {
   "cell_type": "code",
   "execution_count": 131,
   "id": "5034eafa",
   "metadata": {},
   "outputs": [
    {
     "data": {
      "image/png": "[encoded data removed]",
      "text/plain": [
       "<Figure size 576x432 with 1 Axes>"
      ]
     },
     "metadata": {
      "needs_background": "light"
     },
     "output_type": "display_data"
    }
   ],
   "source": [
    "# definir colores para cada clase\n",
    "color = ['#77BEF0', '#3D74B6']\n",
    "\n",
    "# Crear grafico boxpplot\n",
    "fig, ax = plt.subplots(figsize=(8, 6))\n",
    "sns.boxplot(x='cancelacion', y='cuenta_mensual', data=df_exp, palette=color)\n",
    "\n",
    "# personalizar grafico\n",
    "plt.title('Distribución del cargo mensual basado en la permanencia de los clientes', fontsize=12)\n",
    "plt.xlabel('')\n",
    "plt.ylabel('Costo Mensual ($)')\n",
    "ax.set_xticklabels(['No cancelan', 'Cancelan'])\n",
    "\n",
    "# quitar lineas del grafico segun su posicion\n",
    "sns.despine(top=True, right=True)\n",
    "\n",
    "# guardar grafico\n",
    "plt.savefig('./data_out/dist_cargo_mensual.png', dpi=300, bbox_inches='tight')\n",
    "plt.show()"
   ]
  },
  {
   "cell_type": "markdown",
   "id": "85f732d5",
   "metadata": {},
   "source": [
    "### 4.- Distribucion del cargo total basado en la permanencia de los clientes"
   ]
  },
  {
   "cell_type": "code",
   "execution_count": 132,
   "id": "c75daf36",
   "metadata": {},
   "outputs": [
    {
     "data": {
      "image/png": "[encoded data removed]",
      "text/plain": [
       "<Figure size 576x432 with 1 Axes>"
      ]
     },
     "metadata": {
      "needs_background": "light"
     },
     "output_type": "display_data"
    }
   ],
   "source": [
    "# definir colores para cada clase\n",
    "color = ['#77BEF0', '#3D74B6']\n",
    "\n",
    "# Crear grafico boxpplot\n",
    "fig, ax = plt.subplots(figsize=(8, 6))\n",
    "sns.boxplot(x='cancelacion', y='cuentas_total', data=df_exp, palette=color)\n",
    "\n",
    "# personalizar grafico\n",
    "plt.title('Distribución del cargo total basado en la permanencia de los clientes', fontsize=12)\n",
    "plt.xlabel('')\n",
    "plt.ylabel('Costo Total ($)')\n",
    "ax.set_xticklabels(['No cancelan', 'Cancelan'])\n",
    "\n",
    "# quitar lineas del grafico segun su posicion\n",
    "sns.despine(top=True, right=True)\n",
    "\n",
    "# guardar grafico\n",
    "plt.savefig('./data_out/dist_cargo_total.png', dpi=300, bbox_inches='tight')\n",
    "plt.show()"
   ]
  },
  {
   "cell_type": "markdown",
   "id": "051a47c9",
   "metadata": {},
   "source": [
    "### 5.- Analisis de la permanencia del cliente en funcion del servicio de internet."
   ]
  },
  {
   "cell_type": "code",
   "execution_count": 134,
   "id": "ffcd3c11",
   "metadata": {},
   "outputs": [
    {
     "data": {
      "image/png": "[encoded data removed]",
      "text/plain": [
       "<Figure size 864x432 with 1 Axes>"
      ]
     },
     "metadata": {
      "needs_background": "light"
     },
     "output_type": "display_data"
    }
   ],
   "source": [
    "# Calcular proporciones\n",
    "proporciones = []\n",
    "for cancelacion_val in [0, 1]:\n",
    "    subset = df_exp[df_exp['cancelacion'] == cancelacion_val]\n",
    "    proporciones.extend((subset['servicio_internet'].value_counts(normalize=True) * 100).tolist())\n",
    "\n",
    "# ordenar porcentajes de acuerdo a la posicion de las barras\n",
    "proporciones = [37.90, 34.84, 27.25, 24.55, 69.39, 6.04]\n",
    "\n",
    "# definir colores para cada clase\n",
    "color = ['#77BEF0', '#3D74B6']\n",
    "\n",
    "# Grafico de barra\n",
    "plt.figure(figsize=(12, 6))\n",
    "ax = sns.countplot(data=df_exp, x='servicio_internet', hue='cancelacion', palette=color)\n",
    "sns.despine(top=True, right=True)\n",
    "\n",
    "# Cambiar nombres de la leyenda\n",
    "handles, labels = ax.get_legend_handles_labels()\n",
    "ax.legend(handles, ['No cancelan', 'Cancelan'], title='Estado')\n",
    "\n",
    "# Agregar porcentajes sobre las barras \n",
    "for p, porcentaje in zip(ax.patches, proporciones):\n",
    "    x = p.get_x() + p.get_width() / 2\n",
    "    y = p.get_height()\n",
    "    ax.text(x, y + 30, f\"{porcentaje:.1f}%\", ha='center', fontsize=10)\n",
    "\n",
    "# personalizar grafico\n",
    "plt.title('Permanencia del cliente según el tipo de servicio de internet', fontsize=12)\n",
    "plt.xlabel('Servicio de internet')\n",
    "plt.ylabel('Cantidad de clientes')\n",
    "\n",
    "# guardar grafico\n",
    "plt.savefig('./data_out/permanencia_internet.png', dpi=300, bbox_inches='tight')\n",
    "plt.show()\n"
   ]
  },
  {
   "cell_type": "markdown",
   "id": "90c5ed0b",
   "metadata": {},
   "source": [
    "### 6.- Analisis de la permanencia del cliente en funcion del tipo de contrato"
   ]
  },
  {
   "cell_type": "code",
   "execution_count": 135,
   "id": "be8b7c1d",
   "metadata": {},
   "outputs": [
    {
     "data": {
      "image/png": "[encoded data removed]",
      "text/plain": [
       "<Figure size 864x432 with 1 Axes>"
      ]
     },
     "metadata": {
      "needs_background": "light"
     },
     "output_type": "display_data"
    }
   ],
   "source": [
    "# Calcular proporciones\n",
    "proporciones = []\n",
    "for cancelacion_val in [0, 1]:\n",
    "    subset = df_exp[df_exp['cancelacion'] == cancelacion_val]\n",
    "    proporciones.extend((subset['tipo_contrato'].value_counts(normalize=True) * 100).tolist())\n",
    "\n",
    "# ordenar porcentajes de acuerdo a la posicion de las barras\n",
    "proporciones = [25.29, 42.99, 31.70, 8.88, 88.55, 2.56]\n",
    "\n",
    "# definir colores para cada clase\n",
    "color = ['#77BEF0', '#3D74B6']\n",
    "\n",
    "# Grafico de barra\n",
    "plt.figure(figsize=(12, 6))\n",
    "ax = sns.countplot(data=df_exp, x='tipo_contrato', hue='cancelacion', palette=color)\n",
    "sns.despine(top=True, right=True)\n",
    "\n",
    "# Cambiar nombres de la leyenda\n",
    "handles, labels = ax.get_legend_handles_labels()\n",
    "ax.legend(handles, ['No cancelan', 'Cancelan'], title='Estado')\n",
    "\n",
    "# Agregar porcentajes sobre las barras \n",
    "for p, porcentaje in zip(ax.patches, proporciones):\n",
    "    x = p.get_x() + p.get_width() / 2\n",
    "    y = p.get_height()\n",
    "    ax.text(x, y + 30, f\"{porcentaje:.1f}%\", ha='center', fontsize=10)\n",
    "\n",
    "# personalizar grafico\n",
    "plt.title('Permanencia del cliente según el tipo de contrato', fontsize=12)\n",
    "plt.xlabel('Tipo de contrato')\n",
    "plt.ylabel('Cantidad de clientes')\n",
    "\n",
    "# guardar grafico\n",
    "plt.savefig('./data_out/permanencia_tipo_contrato.png', dpi=300, bbox_inches='tight')\n",
    "plt.show()\n"
   ]
  },
  {
   "cell_type": "markdown",
   "id": "c0a0cbcc",
   "metadata": {},
   "source": [
    "### 7.- Analisis de permanencia de clientes en funcion de la facturacion electronica"
   ]
  },
  {
   "cell_type": "code",
   "execution_count": 136,
   "id": "a9bf3335",
   "metadata": {},
   "outputs": [
    {
     "data": {
      "image/png": "[encoded data removed]",
      "text/plain": [
       "<Figure size 864x432 with 1 Axes>"
      ]
     },
     "metadata": {
      "needs_background": "light"
     },
     "output_type": "display_data"
    }
   ],
   "source": [
    "# Calcular proporciones\n",
    "proporciones = []\n",
    "for cancelacion_val in [0, 1]:\n",
    "    subset = df_exp[df_exp['cancelacion'] == cancelacion_val]\n",
    "    proporciones.extend((subset['facturacion_electronica'].value_counts(normalize=True) * 100).tolist())\n",
    "\n",
    "# ordenar porcentajes de acuerdo a la posicion de las barras\n",
    "proporciones = [53.61, 46.38, 74.90, 25.09]\n",
    "\n",
    "# definir colores para cada clase\n",
    "color = ['#77BEF0', '#3D74B6']\n",
    "\n",
    "# Grafico de barra\n",
    "plt.figure(figsize=(12, 6))\n",
    "ax = sns.countplot(data=df_exp, x='facturacion_electronica', hue='cancelacion', palette=color)\n",
    "sns.despine(top=True, right=True)\n",
    "\n",
    "# Cambiar nombres de la leyenda\n",
    "handles, labels = ax.get_legend_handles_labels()\n",
    "ax.legend(handles, ['No cancelan', 'Cancelan'], title='Estado')\n",
    "\n",
    "# Agregar porcentajes sobre las barras \n",
    "for p, porcentaje in zip(ax.patches, proporciones):\n",
    "    x = p.get_x() + p.get_width() / 2\n",
    "    y = p.get_height()\n",
    "    ax.text(x, y + 30, f\"{porcentaje:.1f}%\", ha='center', fontsize=10)\n",
    "\n",
    "# personalizar grafico\n",
    "plt.title('Permanencia del cliente según facturación electrónica', fontsize=12)\n",
    "plt.xlabel('Facturación Electrónica')\n",
    "plt.ylabel('Cantidad de clientes')\n",
    "\n",
    "# guardar grafico\n",
    "plt.savefig('./data_out/permanencia_facturacion_electronica.png', dpi=300, bbox_inches='tight')\n",
    "plt.show()\n"
   ]
  },
  {
   "cell_type": "markdown",
   "id": "833501f6",
   "metadata": {},
   "source": [
    "## Conclusiones"
   ]
  },
  {
   "cell_type": "markdown",
   "id": "dffcb02b",
   "metadata": {},
   "source": [
    "### Variables que no aportan en la permanencia de los clientes"
   ]
  },
  {
   "cell_type": "markdown",
   "id": "710f3beb",
   "metadata": {},
   "source": [
    "A partir del analisis estadistico inicial tanto para los clientes que cancelan y mantienen el servicio deducimos que el Genero no tiene influencia sobre la permanencia de los clientes en la empresa\n",
    "\n",
    "---"
   ]
  },
  {
   "cell_type": "markdown",
   "id": "8f896534",
   "metadata": {},
   "source": [
    "La proporcion de clientes que permanecen con el servicio es casi 3 veces mayor que la proporcion de clientes que cancelan, lo cual podria crear un sesgo al analizar todo el conjunto de datos."
   ]
  },
  {
   "cell_type": "code",
   "execution_count": 139,
   "id": "42a8c0ff",
   "metadata": {},
   "outputs": [
    {
     "data": {
      "image/png": "[encoded data removed]",
      "text/plain": [
       "<IPython.core.display.Image object>"
      ]
     },
     "execution_count": 139,
     "metadata": {
      "image/png": {
       "width": 600
      }
     },
     "output_type": "execute_result"
    }
   ],
   "source": [
    "Image('./data_out/prop_clientes.png',width=600)"
   ]
  },
  {
   "cell_type": "markdown",
   "id": "16250728",
   "metadata": {},
   "source": [
    "---"
   ]
  },
  {
   "cell_type": "markdown",
   "id": "927b5f50",
   "metadata": {},
   "source": []
  }
 ],
 "metadata": {
  "kernelspec": {
   "display_name": "data",
   "language": "python",
   "name": "python3"
  },
  "language_info": {
   "codemirror_mode": {
    "name": "ipython",
    "version": 3
   },
   "file_extension": ".py",
   "mimetype": "text/x-python",
   "name": "python",
   "nbconvert_exporter": "python",
   "pygments_lexer": "ipython3",
   "version": "3.10.8"
  }
 },
 "nbformat": 4,
 "nbformat_minor": 5
}
