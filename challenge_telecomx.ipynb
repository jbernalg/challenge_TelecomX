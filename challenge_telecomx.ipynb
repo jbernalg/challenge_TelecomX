{
 "cells": [
  {
   "cell_type": "markdown",
   "id": "1d3fcb8d",
   "metadata": {},
   "source": [
    "# __Analisis de Evasion de Clientes__"
   ]
  },
  {
   "cell_type": "markdown",
   "id": "3f82470c",
   "metadata": {},
   "source": [
    "## Librerias"
   ]
  },
  {
   "cell_type": "code",
   "execution_count": 1,
   "id": "fc29a7b2",
   "metadata": {},
   "outputs": [],
   "source": [
    "import pandas as pd\n",
    "import numpy as np"
   ]
  },
  {
   "cell_type": "code",
   "execution_count": 2,
   "id": "f9571b5c",
   "metadata": {},
   "outputs": [
    {
     "name": "stdout",
     "output_type": "stream",
     "text": [
      "2.11.0\n"
     ]
    }
   ],
   "source": [
    "import numexpr\n",
    "print(numexpr.__version__)"
   ]
  },
  {
   "cell_type": "markdown",
   "id": "de858c2d",
   "metadata": {},
   "source": [
    "## Extraccion de datos"
   ]
  },
  {
   "cell_type": "markdown",
   "id": "8b35f6aa",
   "metadata": {},
   "source": [
    "### Importar Datos"
   ]
  },
  {
   "cell_type": "code",
   "execution_count": 3,
   "id": "87156f56",
   "metadata": {},
   "outputs": [
    {
     "data": {
      "text/html": [
       "<div>\n",
       "<style scoped>\n",
       "    .dataframe tbody tr th:only-of-type {\n",
       "        vertical-align: middle;\n",
       "    }\n",
       "\n",
       "    .dataframe tbody tr th {\n",
       "        vertical-align: top;\n",
       "    }\n",
       "\n",
       "    .dataframe thead th {\n",
       "        text-align: right;\n",
       "    }\n",
       "</style>\n",
       "<table border=\"1\" class=\"dataframe\">\n",
       "  <thead>\n",
       "    <tr style=\"text-align: right;\">\n",
       "      <th></th>\n",
       "      <th>customerID</th>\n",
       "      <th>Churn</th>\n",
       "      <th>customer</th>\n",
       "      <th>phone</th>\n",
       "      <th>internet</th>\n",
       "      <th>account</th>\n",
       "    </tr>\n",
       "  </thead>\n",
       "  <tbody>\n",
       "    <tr>\n",
       "      <th>0</th>\n",
       "      <td>0002-ORFBO</td>\n",
       "      <td>No</td>\n",
       "      <td>{'gender': 'Female', 'SeniorCitizen': 0, 'Part...</td>\n",
       "      <td>{'PhoneService': 'Yes', 'MultipleLines': 'No'}</td>\n",
       "      <td>{'InternetService': 'DSL', 'OnlineSecurity': '...</td>\n",
       "      <td>{'Contract': 'One year', 'PaperlessBilling': '...</td>\n",
       "    </tr>\n",
       "    <tr>\n",
       "      <th>1</th>\n",
       "      <td>0003-MKNFE</td>\n",
       "      <td>No</td>\n",
       "      <td>{'gender': 'Male', 'SeniorCitizen': 0, 'Partne...</td>\n",
       "      <td>{'PhoneService': 'Yes', 'MultipleLines': 'Yes'}</td>\n",
       "      <td>{'InternetService': 'DSL', 'OnlineSecurity': '...</td>\n",
       "      <td>{'Contract': 'Month-to-month', 'PaperlessBilli...</td>\n",
       "    </tr>\n",
       "    <tr>\n",
       "      <th>2</th>\n",
       "      <td>0004-TLHLJ</td>\n",
       "      <td>Yes</td>\n",
       "      <td>{'gender': 'Male', 'SeniorCitizen': 0, 'Partne...</td>\n",
       "      <td>{'PhoneService': 'Yes', 'MultipleLines': 'No'}</td>\n",
       "      <td>{'InternetService': 'Fiber optic', 'OnlineSecu...</td>\n",
       "      <td>{'Contract': 'Month-to-month', 'PaperlessBilli...</td>\n",
       "    </tr>\n",
       "    <tr>\n",
       "      <th>3</th>\n",
       "      <td>0011-IGKFF</td>\n",
       "      <td>Yes</td>\n",
       "      <td>{'gender': 'Male', 'SeniorCitizen': 1, 'Partne...</td>\n",
       "      <td>{'PhoneService': 'Yes', 'MultipleLines': 'No'}</td>\n",
       "      <td>{'InternetService': 'Fiber optic', 'OnlineSecu...</td>\n",
       "      <td>{'Contract': 'Month-to-month', 'PaperlessBilli...</td>\n",
       "    </tr>\n",
       "    <tr>\n",
       "      <th>4</th>\n",
       "      <td>0013-EXCHZ</td>\n",
       "      <td>Yes</td>\n",
       "      <td>{'gender': 'Female', 'SeniorCitizen': 1, 'Part...</td>\n",
       "      <td>{'PhoneService': 'Yes', 'MultipleLines': 'No'}</td>\n",
       "      <td>{'InternetService': 'Fiber optic', 'OnlineSecu...</td>\n",
       "      <td>{'Contract': 'Month-to-month', 'PaperlessBilli...</td>\n",
       "    </tr>\n",
       "  </tbody>\n",
       "</table>\n",
       "</div>"
      ],
      "text/plain": [
       "   customerID Churn                                           customer  \\\n",
       "0  0002-ORFBO    No  {'gender': 'Female', 'SeniorCitizen': 0, 'Part...   \n",
       "1  0003-MKNFE    No  {'gender': 'Male', 'SeniorCitizen': 0, 'Partne...   \n",
       "2  0004-TLHLJ   Yes  {'gender': 'Male', 'SeniorCitizen': 0, 'Partne...   \n",
       "3  0011-IGKFF   Yes  {'gender': 'Male', 'SeniorCitizen': 1, 'Partne...   \n",
       "4  0013-EXCHZ   Yes  {'gender': 'Female', 'SeniorCitizen': 1, 'Part...   \n",
       "\n",
       "                                             phone  \\\n",
       "0   {'PhoneService': 'Yes', 'MultipleLines': 'No'}   \n",
       "1  {'PhoneService': 'Yes', 'MultipleLines': 'Yes'}   \n",
       "2   {'PhoneService': 'Yes', 'MultipleLines': 'No'}   \n",
       "3   {'PhoneService': 'Yes', 'MultipleLines': 'No'}   \n",
       "4   {'PhoneService': 'Yes', 'MultipleLines': 'No'}   \n",
       "\n",
       "                                            internet  \\\n",
       "0  {'InternetService': 'DSL', 'OnlineSecurity': '...   \n",
       "1  {'InternetService': 'DSL', 'OnlineSecurity': '...   \n",
       "2  {'InternetService': 'Fiber optic', 'OnlineSecu...   \n",
       "3  {'InternetService': 'Fiber optic', 'OnlineSecu...   \n",
       "4  {'InternetService': 'Fiber optic', 'OnlineSecu...   \n",
       "\n",
       "                                             account  \n",
       "0  {'Contract': 'One year', 'PaperlessBilling': '...  \n",
       "1  {'Contract': 'Month-to-month', 'PaperlessBilli...  \n",
       "2  {'Contract': 'Month-to-month', 'PaperlessBilli...  \n",
       "3  {'Contract': 'Month-to-month', 'PaperlessBilli...  \n",
       "4  {'Contract': 'Month-to-month', 'PaperlessBilli...  "
      ]
     },
     "execution_count": 3,
     "metadata": {},
     "output_type": "execute_result"
    }
   ],
   "source": [
    "url = 'https://raw.githubusercontent.com/ingridcristh/challenge2-data-science-LATAM/refs/heads/main/TelecomX_Data.json'\n",
    "\n",
    "df = pd.read_json(url)\n",
    "df.head()"
   ]
  },
  {
   "cell_type": "markdown",
   "id": "a0fe9ebf",
   "metadata": {},
   "source": [
    "Como vemos, hay varias variables que contienen diccionarios en sus valores. Por tanto, debemos expandirlas"
   ]
  },
  {
   "cell_type": "code",
   "execution_count": 4,
   "id": "6c7fe8e6",
   "metadata": {},
   "outputs": [],
   "source": [
    "# expandir cada variable\n",
    "df_customer = pd.json_normalize(df['customer'])\n",
    "df_phone = pd.json_normalize(df['phone'])\n",
    "df_internet = pd.json_normalize(df['internet'])\n",
    "df_account = pd.json_normalize(df['account'])"
   ]
  },
  {
   "cell_type": "code",
   "execution_count": 5,
   "id": "5dee2b8e",
   "metadata": {},
   "outputs": [],
   "source": [
    "# seleccionar variables no expandidas de df\n",
    "df = df[['customerID', 'Churn']]"
   ]
  },
  {
   "cell_type": "code",
   "execution_count": 6,
   "id": "dce81907",
   "metadata": {},
   "outputs": [
    {
     "data": {
      "text/html": [
       "<div>\n",
       "<style scoped>\n",
       "    .dataframe tbody tr th:only-of-type {\n",
       "        vertical-align: middle;\n",
       "    }\n",
       "\n",
       "    .dataframe tbody tr th {\n",
       "        vertical-align: top;\n",
       "    }\n",
       "\n",
       "    .dataframe thead th {\n",
       "        text-align: right;\n",
       "    }\n",
       "</style>\n",
       "<table border=\"1\" class=\"dataframe\">\n",
       "  <thead>\n",
       "    <tr style=\"text-align: right;\">\n",
       "      <th></th>\n",
       "      <th>customerID</th>\n",
       "      <th>Churn</th>\n",
       "      <th>gender</th>\n",
       "      <th>SeniorCitizen</th>\n",
       "      <th>Partner</th>\n",
       "      <th>Dependents</th>\n",
       "      <th>tenure</th>\n",
       "      <th>PhoneService</th>\n",
       "      <th>MultipleLines</th>\n",
       "      <th>InternetService</th>\n",
       "      <th>...</th>\n",
       "      <th>OnlineBackup</th>\n",
       "      <th>DeviceProtection</th>\n",
       "      <th>TechSupport</th>\n",
       "      <th>StreamingTV</th>\n",
       "      <th>StreamingMovies</th>\n",
       "      <th>Contract</th>\n",
       "      <th>PaperlessBilling</th>\n",
       "      <th>PaymentMethod</th>\n",
       "      <th>Charges.Monthly</th>\n",
       "      <th>Charges.Total</th>\n",
       "    </tr>\n",
       "  </thead>\n",
       "  <tbody>\n",
       "    <tr>\n",
       "      <th>0</th>\n",
       "      <td>0002-ORFBO</td>\n",
       "      <td>No</td>\n",
       "      <td>Female</td>\n",
       "      <td>0</td>\n",
       "      <td>Yes</td>\n",
       "      <td>Yes</td>\n",
       "      <td>9</td>\n",
       "      <td>Yes</td>\n",
       "      <td>No</td>\n",
       "      <td>DSL</td>\n",
       "      <td>...</td>\n",
       "      <td>Yes</td>\n",
       "      <td>No</td>\n",
       "      <td>Yes</td>\n",
       "      <td>Yes</td>\n",
       "      <td>No</td>\n",
       "      <td>One year</td>\n",
       "      <td>Yes</td>\n",
       "      <td>Mailed check</td>\n",
       "      <td>65.6</td>\n",
       "      <td>593.3</td>\n",
       "    </tr>\n",
       "    <tr>\n",
       "      <th>1</th>\n",
       "      <td>0003-MKNFE</td>\n",
       "      <td>No</td>\n",
       "      <td>Male</td>\n",
       "      <td>0</td>\n",
       "      <td>No</td>\n",
       "      <td>No</td>\n",
       "      <td>9</td>\n",
       "      <td>Yes</td>\n",
       "      <td>Yes</td>\n",
       "      <td>DSL</td>\n",
       "      <td>...</td>\n",
       "      <td>No</td>\n",
       "      <td>No</td>\n",
       "      <td>No</td>\n",
       "      <td>No</td>\n",
       "      <td>Yes</td>\n",
       "      <td>Month-to-month</td>\n",
       "      <td>No</td>\n",
       "      <td>Mailed check</td>\n",
       "      <td>59.9</td>\n",
       "      <td>542.4</td>\n",
       "    </tr>\n",
       "    <tr>\n",
       "      <th>2</th>\n",
       "      <td>0004-TLHLJ</td>\n",
       "      <td>Yes</td>\n",
       "      <td>Male</td>\n",
       "      <td>0</td>\n",
       "      <td>No</td>\n",
       "      <td>No</td>\n",
       "      <td>4</td>\n",
       "      <td>Yes</td>\n",
       "      <td>No</td>\n",
       "      <td>Fiber optic</td>\n",
       "      <td>...</td>\n",
       "      <td>No</td>\n",
       "      <td>Yes</td>\n",
       "      <td>No</td>\n",
       "      <td>No</td>\n",
       "      <td>No</td>\n",
       "      <td>Month-to-month</td>\n",
       "      <td>Yes</td>\n",
       "      <td>Electronic check</td>\n",
       "      <td>73.9</td>\n",
       "      <td>280.85</td>\n",
       "    </tr>\n",
       "    <tr>\n",
       "      <th>3</th>\n",
       "      <td>0011-IGKFF</td>\n",
       "      <td>Yes</td>\n",
       "      <td>Male</td>\n",
       "      <td>1</td>\n",
       "      <td>Yes</td>\n",
       "      <td>No</td>\n",
       "      <td>13</td>\n",
       "      <td>Yes</td>\n",
       "      <td>No</td>\n",
       "      <td>Fiber optic</td>\n",
       "      <td>...</td>\n",
       "      <td>Yes</td>\n",
       "      <td>Yes</td>\n",
       "      <td>No</td>\n",
       "      <td>Yes</td>\n",
       "      <td>Yes</td>\n",
       "      <td>Month-to-month</td>\n",
       "      <td>Yes</td>\n",
       "      <td>Electronic check</td>\n",
       "      <td>98.0</td>\n",
       "      <td>1237.85</td>\n",
       "    </tr>\n",
       "    <tr>\n",
       "      <th>4</th>\n",
       "      <td>0013-EXCHZ</td>\n",
       "      <td>Yes</td>\n",
       "      <td>Female</td>\n",
       "      <td>1</td>\n",
       "      <td>Yes</td>\n",
       "      <td>No</td>\n",
       "      <td>3</td>\n",
       "      <td>Yes</td>\n",
       "      <td>No</td>\n",
       "      <td>Fiber optic</td>\n",
       "      <td>...</td>\n",
       "      <td>No</td>\n",
       "      <td>No</td>\n",
       "      <td>Yes</td>\n",
       "      <td>Yes</td>\n",
       "      <td>No</td>\n",
       "      <td>Month-to-month</td>\n",
       "      <td>Yes</td>\n",
       "      <td>Mailed check</td>\n",
       "      <td>83.9</td>\n",
       "      <td>267.4</td>\n",
       "    </tr>\n",
       "  </tbody>\n",
       "</table>\n",
       "<p>5 rows × 21 columns</p>\n",
       "</div>"
      ],
      "text/plain": [
       "   customerID Churn  gender  SeniorCitizen Partner Dependents  tenure  \\\n",
       "0  0002-ORFBO    No  Female              0     Yes        Yes       9   \n",
       "1  0003-MKNFE    No    Male              0      No         No       9   \n",
       "2  0004-TLHLJ   Yes    Male              0      No         No       4   \n",
       "3  0011-IGKFF   Yes    Male              1     Yes         No      13   \n",
       "4  0013-EXCHZ   Yes  Female              1     Yes         No       3   \n",
       "\n",
       "  PhoneService MultipleLines InternetService  ... OnlineBackup  \\\n",
       "0          Yes            No             DSL  ...          Yes   \n",
       "1          Yes           Yes             DSL  ...           No   \n",
       "2          Yes            No     Fiber optic  ...           No   \n",
       "3          Yes            No     Fiber optic  ...          Yes   \n",
       "4          Yes            No     Fiber optic  ...           No   \n",
       "\n",
       "  DeviceProtection TechSupport StreamingTV StreamingMovies        Contract  \\\n",
       "0               No         Yes         Yes              No        One year   \n",
       "1               No          No          No             Yes  Month-to-month   \n",
       "2              Yes          No          No              No  Month-to-month   \n",
       "3              Yes          No         Yes             Yes  Month-to-month   \n",
       "4               No         Yes         Yes              No  Month-to-month   \n",
       "\n",
       "  PaperlessBilling     PaymentMethod Charges.Monthly  Charges.Total  \n",
       "0              Yes      Mailed check            65.6          593.3  \n",
       "1               No      Mailed check            59.9          542.4  \n",
       "2              Yes  Electronic check            73.9         280.85  \n",
       "3              Yes  Electronic check            98.0        1237.85  \n",
       "4              Yes      Mailed check            83.9          267.4  \n",
       "\n",
       "[5 rows x 21 columns]"
      ]
     },
     "execution_count": 6,
     "metadata": {},
     "output_type": "execute_result"
    }
   ],
   "source": [
    "# unir todos los dfs en uno\n",
    "df_exp = pd.concat([df, df_customer, df_phone, df_internet, df_account], axis=1)\n",
    "df_exp.head(5)"
   ]
  },
  {
   "cell_type": "markdown",
   "id": "6b1795b7",
   "metadata": {},
   "source": [
    "### Contexto de los datos"
   ]
  },
  {
   "cell_type": "markdown",
   "id": "9b55029b",
   "metadata": {},
   "source": [
    "Se tratan de datos de los clientes de una empresa cuya informacion de cada variable se interpreta como:\n",
    "\n",
    "- _customerID_: número de identificación único de cada cliente\n",
    "- _Churn_: si el cliente dejó o no la empresa\n",
    "- _gender_: género (masculino y femenino)\n",
    "- _SeniorCitizen_: información sobre si un cliente tiene o no una edad igual o mayor a 65 años\n",
    "- _Partner_: si el cliente tiene o no una pareja\n",
    "- _Dependents_: si el cliente tiene o no dependientes\n",
    "- _tenure_: meses de contrato del cliente\n",
    "- _PhoneService_: suscripción al servicio telefónico\n",
    "- _MultipleLines_: suscripción a más de una línea telefónica\n",
    "- _InternetService_: suscripción a un proveedor de internet\n",
    "- _OnlineSecurity_: suscripción adicional de seguridad en línea\n",
    "- _OnlineBackup_: suscripción adicional de respaldo en línea\n",
    "- _DeviceProtection_: suscripción adicional de protección del dispositivo\n",
    "- _TechSupport_: suscripción adicional de soporte técnico, menor tiempo de espera\n",
    "- _StreamingTV_: suscripción de televisión por cable\n",
    "- _StreamingMovies_: suscripción de streaming de películas\n",
    "- _Contract_: tipo de contrato\n",
    "- _PaperlessBilling_: si el cliente prefiere recibir la factura en línea\n",
    "- _PaymentMethod_: forma de pago\n",
    "- _Charges.Monthly_: total de todos los servicios del cliente por mes\n",
    "- _Charges.Total_: total gastado por el cliente"
   ]
  },
  {
   "cell_type": "markdown",
   "id": "4e781488",
   "metadata": {},
   "source": [
    "### Tipo de datos"
   ]
  },
  {
   "cell_type": "code",
   "execution_count": 7,
   "id": "a5a1df3f",
   "metadata": {},
   "outputs": [
    {
     "name": "stdout",
     "output_type": "stream",
     "text": [
      "<class 'pandas.core.frame.DataFrame'>\n",
      "RangeIndex: 7267 entries, 0 to 7266\n",
      "Data columns (total 21 columns):\n",
      " #   Column            Non-Null Count  Dtype  \n",
      "---  ------            --------------  -----  \n",
      " 0   customerID        7267 non-null   object \n",
      " 1   Churn             7267 non-null   object \n",
      " 2   gender            7267 non-null   object \n",
      " 3   SeniorCitizen     7267 non-null   int64  \n",
      " 4   Partner           7267 non-null   object \n",
      " 5   Dependents        7267 non-null   object \n",
      " 6   tenure            7267 non-null   int64  \n",
      " 7   PhoneService      7267 non-null   object \n",
      " 8   MultipleLines     7267 non-null   object \n",
      " 9   InternetService   7267 non-null   object \n",
      " 10  OnlineSecurity    7267 non-null   object \n",
      " 11  OnlineBackup      7267 non-null   object \n",
      " 12  DeviceProtection  7267 non-null   object \n",
      " 13  TechSupport       7267 non-null   object \n",
      " 14  StreamingTV       7267 non-null   object \n",
      " 15  StreamingMovies   7267 non-null   object \n",
      " 16  Contract          7267 non-null   object \n",
      " 17  PaperlessBilling  7267 non-null   object \n",
      " 18  PaymentMethod     7267 non-null   object \n",
      " 19  Charges.Monthly   7267 non-null   float64\n",
      " 20  Charges.Total     7267 non-null   object \n",
      "dtypes: float64(1), int64(2), object(18)\n",
      "memory usage: 1.2+ MB\n"
     ]
    }
   ],
   "source": [
    "df_exp.info()"
   ]
  },
  {
   "cell_type": "markdown",
   "id": "c4835abe",
   "metadata": {},
   "source": [
    "> El conjunto de datos esta conformado por 7267 registros y 21 variables.\n",
    "\n",
    "> Todas las variables tienen 7267 registros lo que indica la ausencia de valores faltantes.\n",
    "\n",
    "> Las variables 'SeniorCitizen' y 'tenure' son de tipo entero, la variable 'Charges.Monthly' es de tipo float y el resto de variables son de tipo object.\n",
    "\n",
    "> La variable 'Charges.Total' y 'Churn' en la practica son de tipo numerico. Sin embargo, Pandas las detecta de tipo object lo que sugiere un problema con la consistencia de los datos."
   ]
  },
  {
   "cell_type": "markdown",
   "id": "b4838283",
   "metadata": {},
   "source": [
    "## Consistencia de los datos"
   ]
  },
  {
   "cell_type": "markdown",
   "id": "f89d0810",
   "metadata": {},
   "source": [
    "### Registros duplicados"
   ]
  },
  {
   "cell_type": "code",
   "execution_count": 8,
   "id": "8f8c32d2",
   "metadata": {},
   "outputs": [
    {
     "data": {
      "text/plain": [
       "0"
      ]
     },
     "execution_count": 8,
     "metadata": {},
     "output_type": "execute_result"
    }
   ],
   "source": [
    "# verificar registros duplicados\n",
    "df_exp.duplicated().sum()"
   ]
  },
  {
   "cell_type": "markdown",
   "id": "6dbdec84",
   "metadata": {},
   "source": [
    "> No hay registros duplicados en el dataframe."
   ]
  },
  {
   "cell_type": "markdown",
   "id": "8bf1a20b",
   "metadata": {},
   "source": [
    "### Tratar valores vacios"
   ]
  },
  {
   "cell_type": "markdown",
   "id": "d1c499f9",
   "metadata": {},
   "source": [
    "Verificamos los valores de 'Churn' y 'Charges.Total'"
   ]
  },
  {
   "cell_type": "code",
   "execution_count": 9,
   "id": "876e0e08",
   "metadata": {},
   "outputs": [
    {
     "name": "stdout",
     "output_type": "stream",
     "text": [
      "Charges.Total:  ['593.3' '542.4' '280.85' ... '742.9' '4627.65' '3707.6']\n",
      "Churn:  ['No' 'Yes' '']\n"
     ]
    }
   ],
   "source": [
    "print('Charges.Total: ',df_exp['Charges.Total'].unique())\n",
    "print('Churn: ',df_exp.Churn.unique())"
   ]
  },
  {
   "cell_type": "markdown",
   "id": "00932870",
   "metadata": {},
   "source": [
    "> Los valores de _Churn_ y _Charges.Total_ presentan valores vacios por lo que procedemos a tratarlos\n",
    "\n",
    "__Churn__"
   ]
  },
  {
   "cell_type": "code",
   "execution_count": 10,
   "id": "4ae5577b",
   "metadata": {},
   "outputs": [
    {
     "data": {
      "text/plain": [
       "(224, 21)"
      ]
     },
     "execution_count": 10,
     "metadata": {},
     "output_type": "execute_result"
    }
   ],
   "source": [
    "# registros con valores vacios en _Churn_\n",
    "df_exp[df_exp['Churn'] == ''].shape"
   ]
  },
  {
   "cell_type": "markdown",
   "id": "af530dc7",
   "metadata": {},
   "source": [
    "> Hay 224 registros con valores vacios en _Churn_ lo que representa el 3% de los registros totales. Como la variable objetivo es _Churn_, sin esta informacion tales registros no aportan al analisis por tanto los eliminamos."
   ]
  },
  {
   "cell_type": "code",
   "execution_count": 11,
   "id": "28d84ef7",
   "metadata": {},
   "outputs": [
    {
     "data": {
      "text/plain": [
       "(7043, 21)"
      ]
     },
     "execution_count": 11,
     "metadata": {},
     "output_type": "execute_result"
    }
   ],
   "source": [
    "# elimina registros con Churn vacios\n",
    "df_exp = df_exp[df_exp['Churn'] != '']\n",
    "df_exp.shape"
   ]
  },
  {
   "cell_type": "code",
   "execution_count": 12,
   "id": "aab3ec7b",
   "metadata": {},
   "outputs": [
    {
     "name": "stdout",
     "output_type": "stream",
     "text": [
      "['No' 'Yes']\n"
     ]
    }
   ],
   "source": [
    "# verificar que Churn este libre de valores vacios\n",
    "print(df_exp.Churn.unique())"
   ]
  },
  {
   "cell_type": "markdown",
   "id": "c8d7dabd",
   "metadata": {},
   "source": [
    "__Charges.Total__"
   ]
  },
  {
   "cell_type": "code",
   "execution_count": 13,
   "id": "ee8cee6e",
   "metadata": {},
   "outputs": [
    {
     "data": {
      "text/html": [
       "<div>\n",
       "<style scoped>\n",
       "    .dataframe tbody tr th:only-of-type {\n",
       "        vertical-align: middle;\n",
       "    }\n",
       "\n",
       "    .dataframe tbody tr th {\n",
       "        vertical-align: top;\n",
       "    }\n",
       "\n",
       "    .dataframe thead th {\n",
       "        text-align: right;\n",
       "    }\n",
       "</style>\n",
       "<table border=\"1\" class=\"dataframe\">\n",
       "  <thead>\n",
       "    <tr style=\"text-align: right;\">\n",
       "      <th></th>\n",
       "      <th>customerID</th>\n",
       "      <th>Churn</th>\n",
       "      <th>gender</th>\n",
       "      <th>SeniorCitizen</th>\n",
       "      <th>Partner</th>\n",
       "      <th>Dependents</th>\n",
       "      <th>tenure</th>\n",
       "      <th>PhoneService</th>\n",
       "      <th>MultipleLines</th>\n",
       "      <th>InternetService</th>\n",
       "      <th>...</th>\n",
       "      <th>OnlineBackup</th>\n",
       "      <th>DeviceProtection</th>\n",
       "      <th>TechSupport</th>\n",
       "      <th>StreamingTV</th>\n",
       "      <th>StreamingMovies</th>\n",
       "      <th>Contract</th>\n",
       "      <th>PaperlessBilling</th>\n",
       "      <th>PaymentMethod</th>\n",
       "      <th>Charges.Monthly</th>\n",
       "      <th>Charges.Total</th>\n",
       "    </tr>\n",
       "  </thead>\n",
       "  <tbody>\n",
       "    <tr>\n",
       "      <th>975</th>\n",
       "      <td>1371-DWPAZ</td>\n",
       "      <td>No</td>\n",
       "      <td>Female</td>\n",
       "      <td>0</td>\n",
       "      <td>Yes</td>\n",
       "      <td>Yes</td>\n",
       "      <td>0</td>\n",
       "      <td>No</td>\n",
       "      <td>No phone service</td>\n",
       "      <td>DSL</td>\n",
       "      <td>...</td>\n",
       "      <td>Yes</td>\n",
       "      <td>Yes</td>\n",
       "      <td>Yes</td>\n",
       "      <td>Yes</td>\n",
       "      <td>No</td>\n",
       "      <td>Two year</td>\n",
       "      <td>No</td>\n",
       "      <td>Credit card (automatic)</td>\n",
       "      <td>56.05</td>\n",
       "      <td></td>\n",
       "    </tr>\n",
       "    <tr>\n",
       "      <th>1775</th>\n",
       "      <td>2520-SGTTA</td>\n",
       "      <td>No</td>\n",
       "      <td>Female</td>\n",
       "      <td>0</td>\n",
       "      <td>Yes</td>\n",
       "      <td>Yes</td>\n",
       "      <td>0</td>\n",
       "      <td>Yes</td>\n",
       "      <td>No</td>\n",
       "      <td>No</td>\n",
       "      <td>...</td>\n",
       "      <td>No internet service</td>\n",
       "      <td>No internet service</td>\n",
       "      <td>No internet service</td>\n",
       "      <td>No internet service</td>\n",
       "      <td>No internet service</td>\n",
       "      <td>Two year</td>\n",
       "      <td>No</td>\n",
       "      <td>Mailed check</td>\n",
       "      <td>20.00</td>\n",
       "      <td></td>\n",
       "    </tr>\n",
       "    <tr>\n",
       "      <th>1955</th>\n",
       "      <td>2775-SEFEE</td>\n",
       "      <td>No</td>\n",
       "      <td>Male</td>\n",
       "      <td>0</td>\n",
       "      <td>No</td>\n",
       "      <td>Yes</td>\n",
       "      <td>0</td>\n",
       "      <td>Yes</td>\n",
       "      <td>Yes</td>\n",
       "      <td>DSL</td>\n",
       "      <td>...</td>\n",
       "      <td>Yes</td>\n",
       "      <td>No</td>\n",
       "      <td>Yes</td>\n",
       "      <td>No</td>\n",
       "      <td>No</td>\n",
       "      <td>Two year</td>\n",
       "      <td>Yes</td>\n",
       "      <td>Bank transfer (automatic)</td>\n",
       "      <td>61.90</td>\n",
       "      <td></td>\n",
       "    </tr>\n",
       "    <tr>\n",
       "      <th>2075</th>\n",
       "      <td>2923-ARZLG</td>\n",
       "      <td>No</td>\n",
       "      <td>Male</td>\n",
       "      <td>0</td>\n",
       "      <td>Yes</td>\n",
       "      <td>Yes</td>\n",
       "      <td>0</td>\n",
       "      <td>Yes</td>\n",
       "      <td>No</td>\n",
       "      <td>No</td>\n",
       "      <td>...</td>\n",
       "      <td>No internet service</td>\n",
       "      <td>No internet service</td>\n",
       "      <td>No internet service</td>\n",
       "      <td>No internet service</td>\n",
       "      <td>No internet service</td>\n",
       "      <td>One year</td>\n",
       "      <td>Yes</td>\n",
       "      <td>Mailed check</td>\n",
       "      <td>19.70</td>\n",
       "      <td></td>\n",
       "    </tr>\n",
       "    <tr>\n",
       "      <th>2232</th>\n",
       "      <td>3115-CZMZD</td>\n",
       "      <td>No</td>\n",
       "      <td>Male</td>\n",
       "      <td>0</td>\n",
       "      <td>No</td>\n",
       "      <td>Yes</td>\n",
       "      <td>0</td>\n",
       "      <td>Yes</td>\n",
       "      <td>No</td>\n",
       "      <td>No</td>\n",
       "      <td>...</td>\n",
       "      <td>No internet service</td>\n",
       "      <td>No internet service</td>\n",
       "      <td>No internet service</td>\n",
       "      <td>No internet service</td>\n",
       "      <td>No internet service</td>\n",
       "      <td>Two year</td>\n",
       "      <td>No</td>\n",
       "      <td>Mailed check</td>\n",
       "      <td>20.25</td>\n",
       "      <td></td>\n",
       "    </tr>\n",
       "    <tr>\n",
       "      <th>2308</th>\n",
       "      <td>3213-VVOLG</td>\n",
       "      <td>No</td>\n",
       "      <td>Male</td>\n",
       "      <td>0</td>\n",
       "      <td>Yes</td>\n",
       "      <td>Yes</td>\n",
       "      <td>0</td>\n",
       "      <td>Yes</td>\n",
       "      <td>Yes</td>\n",
       "      <td>No</td>\n",
       "      <td>...</td>\n",
       "      <td>No internet service</td>\n",
       "      <td>No internet service</td>\n",
       "      <td>No internet service</td>\n",
       "      <td>No internet service</td>\n",
       "      <td>No internet service</td>\n",
       "      <td>Two year</td>\n",
       "      <td>No</td>\n",
       "      <td>Mailed check</td>\n",
       "      <td>25.35</td>\n",
       "      <td></td>\n",
       "    </tr>\n",
       "    <tr>\n",
       "      <th>2930</th>\n",
       "      <td>4075-WKNIU</td>\n",
       "      <td>No</td>\n",
       "      <td>Female</td>\n",
       "      <td>0</td>\n",
       "      <td>Yes</td>\n",
       "      <td>Yes</td>\n",
       "      <td>0</td>\n",
       "      <td>Yes</td>\n",
       "      <td>Yes</td>\n",
       "      <td>DSL</td>\n",
       "      <td>...</td>\n",
       "      <td>Yes</td>\n",
       "      <td>Yes</td>\n",
       "      <td>Yes</td>\n",
       "      <td>Yes</td>\n",
       "      <td>No</td>\n",
       "      <td>Two year</td>\n",
       "      <td>No</td>\n",
       "      <td>Mailed check</td>\n",
       "      <td>73.35</td>\n",
       "      <td></td>\n",
       "    </tr>\n",
       "    <tr>\n",
       "      <th>3134</th>\n",
       "      <td>4367-NUYAO</td>\n",
       "      <td>No</td>\n",
       "      <td>Male</td>\n",
       "      <td>0</td>\n",
       "      <td>Yes</td>\n",
       "      <td>Yes</td>\n",
       "      <td>0</td>\n",
       "      <td>Yes</td>\n",
       "      <td>Yes</td>\n",
       "      <td>No</td>\n",
       "      <td>...</td>\n",
       "      <td>No internet service</td>\n",
       "      <td>No internet service</td>\n",
       "      <td>No internet service</td>\n",
       "      <td>No internet service</td>\n",
       "      <td>No internet service</td>\n",
       "      <td>Two year</td>\n",
       "      <td>No</td>\n",
       "      <td>Mailed check</td>\n",
       "      <td>25.75</td>\n",
       "      <td></td>\n",
       "    </tr>\n",
       "    <tr>\n",
       "      <th>3203</th>\n",
       "      <td>4472-LVYGI</td>\n",
       "      <td>No</td>\n",
       "      <td>Female</td>\n",
       "      <td>0</td>\n",
       "      <td>Yes</td>\n",
       "      <td>Yes</td>\n",
       "      <td>0</td>\n",
       "      <td>No</td>\n",
       "      <td>No phone service</td>\n",
       "      <td>DSL</td>\n",
       "      <td>...</td>\n",
       "      <td>No</td>\n",
       "      <td>Yes</td>\n",
       "      <td>Yes</td>\n",
       "      <td>Yes</td>\n",
       "      <td>No</td>\n",
       "      <td>Two year</td>\n",
       "      <td>Yes</td>\n",
       "      <td>Bank transfer (automatic)</td>\n",
       "      <td>52.55</td>\n",
       "      <td></td>\n",
       "    </tr>\n",
       "    <tr>\n",
       "      <th>4169</th>\n",
       "      <td>5709-LVOEQ</td>\n",
       "      <td>No</td>\n",
       "      <td>Female</td>\n",
       "      <td>0</td>\n",
       "      <td>Yes</td>\n",
       "      <td>Yes</td>\n",
       "      <td>0</td>\n",
       "      <td>Yes</td>\n",
       "      <td>No</td>\n",
       "      <td>DSL</td>\n",
       "      <td>...</td>\n",
       "      <td>Yes</td>\n",
       "      <td>Yes</td>\n",
       "      <td>No</td>\n",
       "      <td>Yes</td>\n",
       "      <td>Yes</td>\n",
       "      <td>Two year</td>\n",
       "      <td>No</td>\n",
       "      <td>Mailed check</td>\n",
       "      <td>80.85</td>\n",
       "      <td></td>\n",
       "    </tr>\n",
       "    <tr>\n",
       "      <th>5599</th>\n",
       "      <td>7644-OMVMY</td>\n",
       "      <td>No</td>\n",
       "      <td>Male</td>\n",
       "      <td>0</td>\n",
       "      <td>Yes</td>\n",
       "      <td>Yes</td>\n",
       "      <td>0</td>\n",
       "      <td>Yes</td>\n",
       "      <td>No</td>\n",
       "      <td>No</td>\n",
       "      <td>...</td>\n",
       "      <td>No internet service</td>\n",
       "      <td>No internet service</td>\n",
       "      <td>No internet service</td>\n",
       "      <td>No internet service</td>\n",
       "      <td>No internet service</td>\n",
       "      <td>Two year</td>\n",
       "      <td>No</td>\n",
       "      <td>Mailed check</td>\n",
       "      <td>19.85</td>\n",
       "      <td></td>\n",
       "    </tr>\n",
       "  </tbody>\n",
       "</table>\n",
       "<p>11 rows × 21 columns</p>\n",
       "</div>"
      ],
      "text/plain": [
       "      customerID Churn  gender  SeniorCitizen Partner Dependents  tenure  \\\n",
       "975   1371-DWPAZ    No  Female              0     Yes        Yes       0   \n",
       "1775  2520-SGTTA    No  Female              0     Yes        Yes       0   \n",
       "1955  2775-SEFEE    No    Male              0      No        Yes       0   \n",
       "2075  2923-ARZLG    No    Male              0     Yes        Yes       0   \n",
       "2232  3115-CZMZD    No    Male              0      No        Yes       0   \n",
       "2308  3213-VVOLG    No    Male              0     Yes        Yes       0   \n",
       "2930  4075-WKNIU    No  Female              0     Yes        Yes       0   \n",
       "3134  4367-NUYAO    No    Male              0     Yes        Yes       0   \n",
       "3203  4472-LVYGI    No  Female              0     Yes        Yes       0   \n",
       "4169  5709-LVOEQ    No  Female              0     Yes        Yes       0   \n",
       "5599  7644-OMVMY    No    Male              0     Yes        Yes       0   \n",
       "\n",
       "     PhoneService     MultipleLines InternetService  ...         OnlineBackup  \\\n",
       "975            No  No phone service             DSL  ...                  Yes   \n",
       "1775          Yes                No              No  ...  No internet service   \n",
       "1955          Yes               Yes             DSL  ...                  Yes   \n",
       "2075          Yes                No              No  ...  No internet service   \n",
       "2232          Yes                No              No  ...  No internet service   \n",
       "2308          Yes               Yes              No  ...  No internet service   \n",
       "2930          Yes               Yes             DSL  ...                  Yes   \n",
       "3134          Yes               Yes              No  ...  No internet service   \n",
       "3203           No  No phone service             DSL  ...                   No   \n",
       "4169          Yes                No             DSL  ...                  Yes   \n",
       "5599          Yes                No              No  ...  No internet service   \n",
       "\n",
       "         DeviceProtection          TechSupport          StreamingTV  \\\n",
       "975                   Yes                  Yes                  Yes   \n",
       "1775  No internet service  No internet service  No internet service   \n",
       "1955                   No                  Yes                   No   \n",
       "2075  No internet service  No internet service  No internet service   \n",
       "2232  No internet service  No internet service  No internet service   \n",
       "2308  No internet service  No internet service  No internet service   \n",
       "2930                  Yes                  Yes                  Yes   \n",
       "3134  No internet service  No internet service  No internet service   \n",
       "3203                  Yes                  Yes                  Yes   \n",
       "4169                  Yes                   No                  Yes   \n",
       "5599  No internet service  No internet service  No internet service   \n",
       "\n",
       "          StreamingMovies  Contract PaperlessBilling  \\\n",
       "975                    No  Two year               No   \n",
       "1775  No internet service  Two year               No   \n",
       "1955                   No  Two year              Yes   \n",
       "2075  No internet service  One year              Yes   \n",
       "2232  No internet service  Two year               No   \n",
       "2308  No internet service  Two year               No   \n",
       "2930                   No  Two year               No   \n",
       "3134  No internet service  Two year               No   \n",
       "3203                   No  Two year              Yes   \n",
       "4169                  Yes  Two year               No   \n",
       "5599  No internet service  Two year               No   \n",
       "\n",
       "                  PaymentMethod Charges.Monthly  Charges.Total  \n",
       "975     Credit card (automatic)           56.05                 \n",
       "1775               Mailed check           20.00                 \n",
       "1955  Bank transfer (automatic)           61.90                 \n",
       "2075               Mailed check           19.70                 \n",
       "2232               Mailed check           20.25                 \n",
       "2308               Mailed check           25.35                 \n",
       "2930               Mailed check           73.35                 \n",
       "3134               Mailed check           25.75                 \n",
       "3203  Bank transfer (automatic)           52.55                 \n",
       "4169               Mailed check           80.85                 \n",
       "5599               Mailed check           19.85                 \n",
       "\n",
       "[11 rows x 21 columns]"
      ]
     },
     "execution_count": 13,
     "metadata": {},
     "output_type": "execute_result"
    }
   ],
   "source": [
    "# registros vacios en Charges.Total\n",
    "df_exp[df_exp['Charges.Total'] == ' ']"
   ]
  },
  {
   "cell_type": "markdown",
   "id": "727de4c6",
   "metadata": {},
   "source": [
    "> Hay 11 registros con valores vacios en Charges.Total lo que representa el 0.1% de los registros totales. Al visualizarlos, nos damos cuenta que corresponden a clientes con contratos largos pero que no tienen ni el primer mes cumplido por lo que no aportan informacion relevante al estudio. Los eliminamos"
   ]
  },
  {
   "cell_type": "code",
   "execution_count": 14,
   "id": "08fd58fe",
   "metadata": {},
   "outputs": [
    {
     "data": {
      "text/plain": [
       "(7032, 21)"
      ]
     },
     "execution_count": 14,
     "metadata": {},
     "output_type": "execute_result"
    }
   ],
   "source": [
    "# elimina registros con Charges.Total vacios\n",
    "df_exp = df_exp[df_exp['Charges.Total'] != ' ']\n",
    "df_exp.shape"
   ]
  },
  {
   "cell_type": "code",
   "execution_count": 15,
   "id": "73d4b94e",
   "metadata": {},
   "outputs": [
    {
     "name": "stdout",
     "output_type": "stream",
     "text": [
      "['593.3' '542.4' '280.85' ... '742.9' '4627.65' '3707.6']\n"
     ]
    }
   ],
   "source": [
    "# verificar que Churn este libre de valores vacios\n",
    "print(df_exp['Charges.Total'].unique())"
   ]
  },
  {
   "cell_type": "code",
   "execution_count": 16,
   "id": "213fc69f",
   "metadata": {},
   "outputs": [
    {
     "name": "stdout",
     "output_type": "stream",
     "text": [
      "<class 'pandas.core.frame.DataFrame'>\n",
      "Index: 7032 entries, 0 to 7266\n",
      "Data columns (total 21 columns):\n",
      " #   Column            Non-Null Count  Dtype  \n",
      "---  ------            --------------  -----  \n",
      " 0   customerID        7032 non-null   object \n",
      " 1   Churn             7032 non-null   object \n",
      " 2   gender            7032 non-null   object \n",
      " 3   SeniorCitizen     7032 non-null   int64  \n",
      " 4   Partner           7032 non-null   object \n",
      " 5   Dependents        7032 non-null   object \n",
      " 6   tenure            7032 non-null   int64  \n",
      " 7   PhoneService      7032 non-null   object \n",
      " 8   MultipleLines     7032 non-null   object \n",
      " 9   InternetService   7032 non-null   object \n",
      " 10  OnlineSecurity    7032 non-null   object \n",
      " 11  OnlineBackup      7032 non-null   object \n",
      " 12  DeviceProtection  7032 non-null   object \n",
      " 13  TechSupport       7032 non-null   object \n",
      " 14  StreamingTV       7032 non-null   object \n",
      " 15  StreamingMovies   7032 non-null   object \n",
      " 16  Contract          7032 non-null   object \n",
      " 17  PaperlessBilling  7032 non-null   object \n",
      " 18  PaymentMethod     7032 non-null   object \n",
      " 19  Charges.Monthly   7032 non-null   float64\n",
      " 20  Charges.Total     7032 non-null   float64\n",
      "dtypes: float64(2), int64(2), object(17)\n",
      "memory usage: 1.2+ MB\n"
     ]
    }
   ],
   "source": [
    "import numpy as np \n",
    "\n",
    "# convertir a tipo entero\n",
    "df_exp['Charges.Total'] = df_exp['Charges.Total'].astype(np.float64)\n",
    "\n",
    "# verificar tipo\n",
    "df_exp.info()"
   ]
  },
  {
   "cell_type": "markdown",
   "id": "92c75409",
   "metadata": {},
   "source": [
    "### Columna de cuentas diarias"
   ]
  },
  {
   "cell_type": "code",
   "execution_count": 17,
   "id": "2d0a303f",
   "metadata": {},
   "outputs": [
    {
     "data": {
      "text/html": [
       "<div>\n",
       "<style scoped>\n",
       "    .dataframe tbody tr th:only-of-type {\n",
       "        vertical-align: middle;\n",
       "    }\n",
       "\n",
       "    .dataframe tbody tr th {\n",
       "        vertical-align: top;\n",
       "    }\n",
       "\n",
       "    .dataframe thead th {\n",
       "        text-align: right;\n",
       "    }\n",
       "</style>\n",
       "<table border=\"1\" class=\"dataframe\">\n",
       "  <thead>\n",
       "    <tr style=\"text-align: right;\">\n",
       "      <th></th>\n",
       "      <th>customerID</th>\n",
       "      <th>Churn</th>\n",
       "      <th>gender</th>\n",
       "      <th>SeniorCitizen</th>\n",
       "      <th>Partner</th>\n",
       "      <th>Dependents</th>\n",
       "      <th>tenure</th>\n",
       "      <th>PhoneService</th>\n",
       "      <th>MultipleLines</th>\n",
       "      <th>InternetService</th>\n",
       "      <th>...</th>\n",
       "      <th>DeviceProtection</th>\n",
       "      <th>TechSupport</th>\n",
       "      <th>StreamingTV</th>\n",
       "      <th>StreamingMovies</th>\n",
       "      <th>Contract</th>\n",
       "      <th>PaperlessBilling</th>\n",
       "      <th>PaymentMethod</th>\n",
       "      <th>Charges.Monthly</th>\n",
       "      <th>Charges.Total</th>\n",
       "      <th>Cuentas_Diarias</th>\n",
       "    </tr>\n",
       "  </thead>\n",
       "  <tbody>\n",
       "    <tr>\n",
       "      <th>0</th>\n",
       "      <td>0002-ORFBO</td>\n",
       "      <td>No</td>\n",
       "      <td>Female</td>\n",
       "      <td>0</td>\n",
       "      <td>Yes</td>\n",
       "      <td>Yes</td>\n",
       "      <td>9</td>\n",
       "      <td>Yes</td>\n",
       "      <td>No</td>\n",
       "      <td>DSL</td>\n",
       "      <td>...</td>\n",
       "      <td>No</td>\n",
       "      <td>Yes</td>\n",
       "      <td>Yes</td>\n",
       "      <td>No</td>\n",
       "      <td>One year</td>\n",
       "      <td>Yes</td>\n",
       "      <td>Mailed check</td>\n",
       "      <td>65.6</td>\n",
       "      <td>593.30</td>\n",
       "      <td>0.242963</td>\n",
       "    </tr>\n",
       "    <tr>\n",
       "      <th>1</th>\n",
       "      <td>0003-MKNFE</td>\n",
       "      <td>No</td>\n",
       "      <td>Male</td>\n",
       "      <td>0</td>\n",
       "      <td>No</td>\n",
       "      <td>No</td>\n",
       "      <td>9</td>\n",
       "      <td>Yes</td>\n",
       "      <td>Yes</td>\n",
       "      <td>DSL</td>\n",
       "      <td>...</td>\n",
       "      <td>No</td>\n",
       "      <td>No</td>\n",
       "      <td>No</td>\n",
       "      <td>Yes</td>\n",
       "      <td>Month-to-month</td>\n",
       "      <td>No</td>\n",
       "      <td>Mailed check</td>\n",
       "      <td>59.9</td>\n",
       "      <td>542.40</td>\n",
       "      <td>0.221852</td>\n",
       "    </tr>\n",
       "    <tr>\n",
       "      <th>2</th>\n",
       "      <td>0004-TLHLJ</td>\n",
       "      <td>Yes</td>\n",
       "      <td>Male</td>\n",
       "      <td>0</td>\n",
       "      <td>No</td>\n",
       "      <td>No</td>\n",
       "      <td>4</td>\n",
       "      <td>Yes</td>\n",
       "      <td>No</td>\n",
       "      <td>Fiber optic</td>\n",
       "      <td>...</td>\n",
       "      <td>Yes</td>\n",
       "      <td>No</td>\n",
       "      <td>No</td>\n",
       "      <td>No</td>\n",
       "      <td>Month-to-month</td>\n",
       "      <td>Yes</td>\n",
       "      <td>Electronic check</td>\n",
       "      <td>73.9</td>\n",
       "      <td>280.85</td>\n",
       "      <td>0.615833</td>\n",
       "    </tr>\n",
       "    <tr>\n",
       "      <th>3</th>\n",
       "      <td>0011-IGKFF</td>\n",
       "      <td>Yes</td>\n",
       "      <td>Male</td>\n",
       "      <td>1</td>\n",
       "      <td>Yes</td>\n",
       "      <td>No</td>\n",
       "      <td>13</td>\n",
       "      <td>Yes</td>\n",
       "      <td>No</td>\n",
       "      <td>Fiber optic</td>\n",
       "      <td>...</td>\n",
       "      <td>Yes</td>\n",
       "      <td>No</td>\n",
       "      <td>Yes</td>\n",
       "      <td>Yes</td>\n",
       "      <td>Month-to-month</td>\n",
       "      <td>Yes</td>\n",
       "      <td>Electronic check</td>\n",
       "      <td>98.0</td>\n",
       "      <td>1237.85</td>\n",
       "      <td>0.251282</td>\n",
       "    </tr>\n",
       "    <tr>\n",
       "      <th>4</th>\n",
       "      <td>0013-EXCHZ</td>\n",
       "      <td>Yes</td>\n",
       "      <td>Female</td>\n",
       "      <td>1</td>\n",
       "      <td>Yes</td>\n",
       "      <td>No</td>\n",
       "      <td>3</td>\n",
       "      <td>Yes</td>\n",
       "      <td>No</td>\n",
       "      <td>Fiber optic</td>\n",
       "      <td>...</td>\n",
       "      <td>No</td>\n",
       "      <td>Yes</td>\n",
       "      <td>Yes</td>\n",
       "      <td>No</td>\n",
       "      <td>Month-to-month</td>\n",
       "      <td>Yes</td>\n",
       "      <td>Mailed check</td>\n",
       "      <td>83.9</td>\n",
       "      <td>267.40</td>\n",
       "      <td>0.932222</td>\n",
       "    </tr>\n",
       "  </tbody>\n",
       "</table>\n",
       "<p>5 rows × 22 columns</p>\n",
       "</div>"
      ],
      "text/plain": [
       "   customerID Churn  gender  SeniorCitizen Partner Dependents  tenure  \\\n",
       "0  0002-ORFBO    No  Female              0     Yes        Yes       9   \n",
       "1  0003-MKNFE    No    Male              0      No         No       9   \n",
       "2  0004-TLHLJ   Yes    Male              0      No         No       4   \n",
       "3  0011-IGKFF   Yes    Male              1     Yes         No      13   \n",
       "4  0013-EXCHZ   Yes  Female              1     Yes         No       3   \n",
       "\n",
       "  PhoneService MultipleLines InternetService  ... DeviceProtection  \\\n",
       "0          Yes            No             DSL  ...               No   \n",
       "1          Yes           Yes             DSL  ...               No   \n",
       "2          Yes            No     Fiber optic  ...              Yes   \n",
       "3          Yes            No     Fiber optic  ...              Yes   \n",
       "4          Yes            No     Fiber optic  ...               No   \n",
       "\n",
       "  TechSupport StreamingTV StreamingMovies        Contract PaperlessBilling  \\\n",
       "0         Yes         Yes              No        One year              Yes   \n",
       "1          No          No             Yes  Month-to-month               No   \n",
       "2          No          No              No  Month-to-month              Yes   \n",
       "3          No         Yes             Yes  Month-to-month              Yes   \n",
       "4         Yes         Yes              No  Month-to-month              Yes   \n",
       "\n",
       "      PaymentMethod Charges.Monthly Charges.Total  Cuentas_Diarias  \n",
       "0      Mailed check            65.6        593.30         0.242963  \n",
       "1      Mailed check            59.9        542.40         0.221852  \n",
       "2  Electronic check            73.9        280.85         0.615833  \n",
       "3  Electronic check            98.0       1237.85         0.251282  \n",
       "4      Mailed check            83.9        267.40         0.932222  \n",
       "\n",
       "[5 rows x 22 columns]"
      ]
     },
     "execution_count": 17,
     "metadata": {},
     "output_type": "execute_result"
    }
   ],
   "source": [
    "# crear columna de gasto diario de cada cliente\n",
    "df_exp['Cuentas_Diarias'] = (df_exp['Charges.Monthly'])/(df_exp['tenure']*30)\n",
    "df_exp.head()"
   ]
  },
  {
   "cell_type": "markdown",
   "id": "5aff3d0f",
   "metadata": {},
   "source": [
    "### Estandarizacion de los datos"
   ]
  },
  {
   "cell_type": "markdown",
   "id": "76ce1b12",
   "metadata": {},
   "source": [
    "Vamos a realizar las conversiones de los valores de las variables necesarias para mejorar la interpretacion de los resultados."
   ]
  },
  {
   "cell_type": "markdown",
   "id": "7f34883b",
   "metadata": {},
   "source": [
    "__Valores Unicos por variable__"
   ]
  },
  {
   "cell_type": "code",
   "execution_count": 18,
   "id": "234a84b1",
   "metadata": {},
   "outputs": [
    {
     "name": "stdout",
     "output_type": "stream",
     "text": [
      "gender:  ['Female' 'Male']\n",
      "SeniorCitizen:  [0 1]\n",
      "Partner:  ['Yes' 'No']\n",
      "Dependents:  ['Yes' 'No']\n",
      "PhoneService:  ['Yes' 'No']\n",
      "MultipleLines:  ['No' 'Yes' 'No phone service']\n",
      "InternetService:  ['DSL' 'Fiber optic' 'No']\n",
      "OnlineSecurity:  ['No' 'Yes' 'No internet service']\n",
      "OnlineBackup:  ['Yes' 'No' 'No internet service']\n",
      "DeviceProtection:  ['No' 'Yes' 'No internet service']\n",
      "TechSupport:  ['Yes' 'No' 'No internet service']\n",
      "StreamingTV:  ['Yes' 'No' 'No internet service']\n",
      "StreamingMovies:  ['No' 'Yes' 'No internet service']\n",
      "Contract:  ['One year' 'Month-to-month' 'Two year']\n",
      "PaperlessBilling:  ['Yes' 'No']\n",
      "PaymentMethod:  ['Mailed check' 'Electronic check' 'Credit card (automatic)'\n",
      " 'Bank transfer (automatic)']\n",
      "Charges.Total:  [ 593.3   542.4   280.85 ...  742.9  4627.65 3707.6 ]\n",
      "Churn:  ['No' 'Yes']\n"
     ]
    }
   ],
   "source": [
    "# verificar valores de variables de tipo object\n",
    "print('gender: ',df_exp.gender.unique())\n",
    "print('SeniorCitizen: ',df_exp.SeniorCitizen.unique())\n",
    "print('Partner: ',df_exp.Partner.unique())\n",
    "print('Dependents: ',df_exp.Dependents.unique())\n",
    "print('PhoneService: ',df_exp.PhoneService.unique())\n",
    "print('MultipleLines: ',df_exp.MultipleLines.unique())\n",
    "print('InternetService: ',df_exp.InternetService.unique())\n",
    "print('OnlineSecurity: ',df_exp.OnlineSecurity.unique())\n",
    "print('OnlineBackup: ',df_exp.OnlineBackup.unique())\n",
    "print('DeviceProtection: ',df_exp.DeviceProtection.unique())\n",
    "print('TechSupport: ',df_exp.TechSupport.unique())\n",
    "print('StreamingTV: ',df_exp.StreamingTV.unique())\n",
    "print('StreamingMovies: ',df_exp.StreamingMovies.unique())\n",
    "print('Contract: ',df_exp.Contract.unique())\n",
    "print('PaperlessBilling: ',df_exp.PaperlessBilling.unique())\n",
    "print('PaymentMethod: ',df_exp.PaymentMethod.unique())\n",
    "print('Charges.Total: ',df_exp['Charges.Total'].unique())\n",
    "print('Churn: ',df_exp.Churn.unique())"
   ]
  },
  {
   "cell_type": "markdown",
   "id": "f06c3eff",
   "metadata": {},
   "source": [
    "__Cambiar nombre de las variables__"
   ]
  },
  {
   "cell_type": "code",
   "execution_count": 19,
   "id": "90d7bccd",
   "metadata": {},
   "outputs": [],
   "source": [
    "nombres_nuevos = {\n",
    "    'Churn': 'cancelacion',\n",
    "    'gender': 'genero',\n",
    "    'SeniorCitizen': 'jubilado',\n",
    "    'Partner': 'en_pareja',\n",
    "    'Dependents': 'dependientes',\n",
    "    'tenure': 'meses_contrato',\n",
    "    'PhoneService': 'servicio_telefonico',\n",
    "    'MultipleLines': 'multiples_lineas',\n",
    "    'InternetService': 'servicio_internet',\n",
    "    'OnlineSecurity': 'seguridad_online',\n",
    "    'OnlineBackup': 'respaldo_online',\n",
    "    'DeviceProtection': 'proteccion_dispositivo',\n",
    "    'TechSupport': 'soporte_efectivo',\n",
    "    'StreamingTV': 'streaming_TV',\n",
    "    'StreamingMovies': 'streaming_peliculas',\n",
    "    'Contract': 'tipo_contrato',\n",
    "    'PaperlessBilling': 'facturacion_electronica',\n",
    "    'Charges.Monthly': 'cuenta_mensual',\n",
    "    'Charges.Total': 'cuentas_total',\n",
    "    'PaymentMethod': 'metodo_pago',\n",
    "    'Cuentas_Diarias': 'cuentas_diarias'\n",
    "}\n",
    "\n",
    "df_exp.rename(columns=nombres_nuevos, inplace=True)"
   ]
  },
  {
   "cell_type": "markdown",
   "id": "c0e42fd4",
   "metadata": {},
   "source": [
    "__customerID__"
   ]
  },
  {
   "cell_type": "markdown",
   "id": "1374dc63",
   "metadata": {},
   "source": [
    "Vamos a omitir customer_ID ya que son identificadores de los clientes que a nivel general no aporta informacion relevante."
   ]
  },
  {
   "cell_type": "code",
   "execution_count": 20,
   "id": "fe0a5205",
   "metadata": {},
   "outputs": [],
   "source": [
    "# eliminar customerID\n",
    "df_exp = df_exp.drop('customerID', axis=1)"
   ]
  },
  {
   "cell_type": "markdown",
   "id": "bcb7a962",
   "metadata": {},
   "source": [
    "__genero__"
   ]
  },
  {
   "cell_type": "code",
   "execution_count": 21,
   "id": "65b1c5f5",
   "metadata": {},
   "outputs": [
    {
     "data": {
      "text/plain": [
       "array(['Femenino', 'Masculino'], dtype=object)"
      ]
     },
     "execution_count": 21,
     "metadata": {},
     "output_type": "execute_result"
    }
   ],
   "source": [
    "# renombrar valores de genero\n",
    "df_exp['genero'] = df_exp['genero'].apply(lambda x: x.replace('Female', 'Femenino').replace('Male', 'Masculino'))\n",
    "df_exp['genero'].unique()"
   ]
  },
  {
   "cell_type": "markdown",
   "id": "8f11ef48",
   "metadata": {},
   "source": [
    "__jubilado__"
   ]
  },
  {
   "cell_type": "code",
   "execution_count": 22,
   "id": "da48f9dc",
   "metadata": {},
   "outputs": [
    {
     "data": {
      "text/plain": [
       "array(['No', 'Si'], dtype=object)"
      ]
     },
     "execution_count": 22,
     "metadata": {},
     "output_type": "execute_result"
    }
   ],
   "source": [
    "df_exp['jubilado'] = df_exp['jubilado'].map({0:'No', 1:'Si'})\n",
    "df_exp['jubilado'].unique()"
   ]
  },
  {
   "cell_type": "markdown",
   "id": "9ce10c76",
   "metadata": {},
   "source": [
    "__cancelacion__"
   ]
  },
  {
   "cell_type": "code",
   "execution_count": 23,
   "id": "f7dc7f90",
   "metadata": {},
   "outputs": [
    {
     "data": {
      "text/plain": [
       "array([0, 1])"
      ]
     },
     "execution_count": 23,
     "metadata": {},
     "output_type": "execute_result"
    }
   ],
   "source": [
    "# convertir valores de churn a binario\n",
    "# 0:No esta con la empresa. 1: Sigue en la empresa\n",
    "df_exp['cancelacion'] = df_exp['cancelacion'].replace({'Yes':'1', 'No':'0'}).astype(np.int64)\n",
    "df_exp['cancelacion'].unique()"
   ]
  },
  {
   "cell_type": "markdown",
   "id": "b5ec08c2",
   "metadata": {},
   "source": [
    "__en_pareja__"
   ]
  },
  {
   "cell_type": "code",
   "execution_count": 24,
   "id": "ebb9a62b",
   "metadata": {},
   "outputs": [
    {
     "data": {
      "text/plain": [
       "array(['Si', 'No'], dtype=object)"
      ]
     },
     "execution_count": 24,
     "metadata": {},
     "output_type": "execute_result"
    }
   ],
   "source": [
    "df_exp['en_pareja'] = df_exp['en_pareja'].map({'Yes':'Si', 'No':'No'})\n",
    "df_exp.en_pareja.unique()"
   ]
  },
  {
   "cell_type": "markdown",
   "id": "857a9406",
   "metadata": {},
   "source": [
    "__dependientes__"
   ]
  },
  {
   "cell_type": "code",
   "execution_count": 25,
   "id": "bd260b0b",
   "metadata": {},
   "outputs": [
    {
     "name": "stdout",
     "output_type": "stream",
     "text": [
      "['Si' 'No']\n"
     ]
    }
   ],
   "source": [
    "df_exp['dependientes'] = df_exp['dependientes'].replace({'Yes':'Si', 'No':'No'})\n",
    "print(df_exp.dependientes.unique())"
   ]
  },
  {
   "cell_type": "markdown",
   "id": "34795d75",
   "metadata": {},
   "source": [
    "__facturacion_electronica__"
   ]
  },
  {
   "cell_type": "code",
   "execution_count": 26,
   "id": "5fe4dfc1",
   "metadata": {},
   "outputs": [
    {
     "name": "stdout",
     "output_type": "stream",
     "text": [
      "['Si' 'No']\n"
     ]
    }
   ],
   "source": [
    "df_exp['facturacion_electronica'] = df_exp['facturacion_electronica'].replace({'Yes':'Si', 'No':'No'})\n",
    "print(df_exp.facturacion_electronica.unique())"
   ]
  },
  {
   "cell_type": "markdown",
   "id": "efe5343d",
   "metadata": {},
   "source": [
    "__servicio_telefonico__"
   ]
  },
  {
   "cell_type": "code",
   "execution_count": 27,
   "id": "db162cd8",
   "metadata": {},
   "outputs": [
    {
     "name": "stdout",
     "output_type": "stream",
     "text": [
      "['Si' 'No']\n"
     ]
    }
   ],
   "source": [
    "df_exp['servicio_telefonico'] = df_exp['servicio_telefonico'].replace({'Yes':'Si', 'No':'No'})\n",
    "print(df_exp.servicio_telefonico.unique())"
   ]
  },
  {
   "cell_type": "markdown",
   "id": "e5336d26",
   "metadata": {},
   "source": [
    "__multiples_lineas__"
   ]
  },
  {
   "cell_type": "code",
   "execution_count": 28,
   "id": "6aba2ecf",
   "metadata": {},
   "outputs": [
    {
     "data": {
      "text/plain": [
       "servicio_telefonico  multiples_lineas\n",
       "No                   No phone service     680\n",
       "Si                   No                  3385\n",
       "                     Yes                 2967\n",
       "dtype: int64"
      ]
     },
     "execution_count": 28,
     "metadata": {},
     "output_type": "execute_result"
    }
   ],
   "source": [
    "# agrupamiento de los valores de servicio_telefonico y multiples_lineas\n",
    "df_exp.groupby(['servicio_telefonico', 'multiples_lineas']).size()"
   ]
  },
  {
   "cell_type": "markdown",
   "id": "125a1416",
   "metadata": {},
   "source": [
    "> Los clientes que tienen servicio telefonico necesariamente tienen al menos 1 linea. Los que no tienen servicio telefonico, no tienen linea telefonica. Por tanto, los datos son consistentes."
   ]
  },
  {
   "cell_type": "markdown",
   "id": "f0eefff4",
   "metadata": {},
   "source": [
    "__servicio_internet__"
   ]
  },
  {
   "cell_type": "code",
   "execution_count": 29,
   "id": "f9c22e63",
   "metadata": {},
   "outputs": [
    {
     "data": {
      "text/plain": [
       "array(['DSL', 'Fibra_optica', 'No'], dtype=object)"
      ]
     },
     "execution_count": 29,
     "metadata": {},
     "output_type": "execute_result"
    }
   ],
   "source": [
    "df_exp['servicio_internet'] = df_exp['servicio_internet'].replace({'Fiber optic':'Fibra_optica'})\n",
    "df_exp['servicio_internet'].unique()"
   ]
  },
  {
   "cell_type": "markdown",
   "id": "8b0ecdfb",
   "metadata": {},
   "source": [
    "__seguridad_online__"
   ]
  },
  {
   "cell_type": "code",
   "execution_count": 30,
   "id": "50dc86b3",
   "metadata": {},
   "outputs": [
    {
     "data": {
      "text/plain": [
       "array(['No', 'Si', 'Sin internet'], dtype=object)"
      ]
     },
     "execution_count": 30,
     "metadata": {},
     "output_type": "execute_result"
    }
   ],
   "source": [
    "df_exp['seguridad_online'] = df_exp['seguridad_online'].replace({'Yes': 'Si', 'No internet service': 'Sin internet'})\n",
    "df_exp.seguridad_online.unique()"
   ]
  },
  {
   "cell_type": "code",
   "execution_count": 31,
   "id": "fd3732a7",
   "metadata": {},
   "outputs": [
    {
     "data": {
      "text/plain": [
       "servicio_internet  seguridad_online\n",
       "DSL                No                  1240\n",
       "                   Si                  1176\n",
       "Fibra_optica       No                  2257\n",
       "                   Si                   839\n",
       "No                 Sin internet        1520\n",
       "dtype: int64"
      ]
     },
     "execution_count": 31,
     "metadata": {},
     "output_type": "execute_result"
    }
   ],
   "source": [
    "df_exp.groupby(['servicio_internet', 'seguridad_online']).size()"
   ]
  },
  {
   "cell_type": "markdown",
   "id": "1f48f77e",
   "metadata": {},
   "source": [
    "Los clientes que no tienen servicio de internet, no cuentan con seguridad online. Esto indica que los datos son consistentes."
   ]
  },
  {
   "cell_type": "markdown",
   "id": "1bc8a7ab",
   "metadata": {},
   "source": [
    "__respaldo_online__"
   ]
  },
  {
   "cell_type": "code",
   "execution_count": 32,
   "id": "67216f2e",
   "metadata": {},
   "outputs": [
    {
     "data": {
      "text/plain": [
       "array(['Si', 'No', 'Sin internet'], dtype=object)"
      ]
     },
     "execution_count": 32,
     "metadata": {},
     "output_type": "execute_result"
    }
   ],
   "source": [
    "df_exp['respaldo_online'] = df_exp['respaldo_online'].replace({'Yes': 'Si', 'No internet service': 'Sin internet'})\n",
    "df_exp.respaldo_online.unique()"
   ]
  },
  {
   "cell_type": "code",
   "execution_count": 33,
   "id": "30b9fa7d",
   "metadata": {},
   "outputs": [
    {
     "data": {
      "text/plain": [
       "servicio_internet  respaldo_online\n",
       "DSL                No                 1334\n",
       "                   Si                 1082\n",
       "Fibra_optica       No                 1753\n",
       "                   Si                 1343\n",
       "No                 Sin internet       1520\n",
       "dtype: int64"
      ]
     },
     "execution_count": 33,
     "metadata": {},
     "output_type": "execute_result"
    }
   ],
   "source": [
    "df_exp.groupby(['servicio_internet', 'respaldo_online']).size()"
   ]
  },
  {
   "cell_type": "markdown",
   "id": "6d47e2f4",
   "metadata": {},
   "source": [
    "Los clientes que no tienen internet, no cuentan con respaldo online lo que implica que ambas variables son consistentes."
   ]
  },
  {
   "cell_type": "markdown",
   "id": "65458eba",
   "metadata": {},
   "source": [
    "__proteccion_dispositivo, soporte_efectivo, streaming_tv, streaming_peliculas__"
   ]
  },
  {
   "cell_type": "markdown",
   "id": "31c317f3",
   "metadata": {},
   "source": [
    "__proteccion_dispositivo__"
   ]
  },
  {
   "cell_type": "code",
   "execution_count": 34,
   "id": "b880d6c0",
   "metadata": {},
   "outputs": [
    {
     "data": {
      "text/plain": [
       "array(['No', 'Si', 'Sin internet'], dtype=object)"
      ]
     },
     "execution_count": 34,
     "metadata": {},
     "output_type": "execute_result"
    }
   ],
   "source": [
    "df_exp['proteccion_dispositivo'] = df_exp['proteccion_dispositivo'].replace({'Yes': 'Si', 'No internet service': 'Sin internet'})\n",
    "df_exp.proteccion_dispositivo.unique()"
   ]
  },
  {
   "cell_type": "code",
   "execution_count": 35,
   "id": "f48f9598",
   "metadata": {},
   "outputs": [
    {
     "data": {
      "text/plain": [
       "servicio_internet  proteccion_dispositivo\n",
       "DSL                No                        1355\n",
       "                   Si                        1061\n",
       "Fibra_optica       No                        1739\n",
       "                   Si                        1357\n",
       "No                 Sin internet              1520\n",
       "dtype: int64"
      ]
     },
     "execution_count": 35,
     "metadata": {},
     "output_type": "execute_result"
    }
   ],
   "source": [
    "df_exp.groupby(['servicio_internet', 'proteccion_dispositivo']).size()"
   ]
  },
  {
   "cell_type": "markdown",
   "id": "b70e6174",
   "metadata": {},
   "source": [
    "Los clientes que no tienen internet, no cuentan con proteccion de dispositivo. Son consistentes los datos."
   ]
  },
  {
   "cell_type": "markdown",
   "id": "e3874b3a",
   "metadata": {},
   "source": [
    "__soporte_efectivo__"
   ]
  },
  {
   "cell_type": "code",
   "execution_count": 36,
   "id": "16a0b611",
   "metadata": {},
   "outputs": [
    {
     "data": {
      "text/plain": [
       "array(['Si', 'No', 'Sin internet'], dtype=object)"
      ]
     },
     "execution_count": 36,
     "metadata": {},
     "output_type": "execute_result"
    }
   ],
   "source": [
    "df_exp['soporte_efectivo'] = df_exp['soporte_efectivo'].replace({'Yes': 'Si', 'No internet service': 'Sin internet'})\n",
    "df_exp.soporte_efectivo.unique()"
   ]
  },
  {
   "cell_type": "code",
   "execution_count": 37,
   "id": "6296a911",
   "metadata": {},
   "outputs": [
    {
     "data": {
      "text/plain": [
       "servicio_internet  soporte_efectivo\n",
       "DSL                No                  1242\n",
       "                   Si                  1174\n",
       "Fibra_optica       No                  2230\n",
       "                   Si                   866\n",
       "No                 Sin internet        1520\n",
       "dtype: int64"
      ]
     },
     "execution_count": 37,
     "metadata": {},
     "output_type": "execute_result"
    }
   ],
   "source": [
    "df_exp.groupby(['servicio_internet', 'soporte_efectivo']).size()"
   ]
  },
  {
   "cell_type": "markdown",
   "id": "728ddb48",
   "metadata": {},
   "source": [
    "Clientes sin internet, no cuentan con soporte efectivo. Se comprueba la consistencia de los datos."
   ]
  },
  {
   "cell_type": "markdown",
   "id": "b2ad7897",
   "metadata": {},
   "source": [
    "__streaming_TV__"
   ]
  },
  {
   "cell_type": "code",
   "execution_count": 38,
   "id": "9de62165",
   "metadata": {},
   "outputs": [
    {
     "data": {
      "text/plain": [
       "array(['Si', 'No', 'Sin internet'], dtype=object)"
      ]
     },
     "execution_count": 38,
     "metadata": {},
     "output_type": "execute_result"
    }
   ],
   "source": [
    "df_exp['streaming_TV'] = df_exp['streaming_TV'].replace({'Yes': 'Si', 'No internet service': 'Sin internet'})\n",
    "df_exp.streaming_TV.unique()"
   ]
  },
  {
   "cell_type": "code",
   "execution_count": 39,
   "id": "a26d806f",
   "metadata": {},
   "outputs": [
    {
     "data": {
      "text/plain": [
       "servicio_internet  soporte_efectivo\n",
       "DSL                No                  1242\n",
       "                   Si                  1174\n",
       "Fibra_optica       No                  2230\n",
       "                   Si                   866\n",
       "No                 Sin internet        1520\n",
       "dtype: int64"
      ]
     },
     "execution_count": 39,
     "metadata": {},
     "output_type": "execute_result"
    }
   ],
   "source": [
    "df_exp.groupby(['servicio_internet', 'soporte_efectivo']).size()"
   ]
  },
  {
   "cell_type": "markdown",
   "id": "ae7ba7d5",
   "metadata": {},
   "source": [
    "Clientes sin internet, no cuentan con streaming de TV. Datos consistentes"
   ]
  },
  {
   "cell_type": "markdown",
   "id": "e484850c",
   "metadata": {},
   "source": [
    "__streaming_peliculas__"
   ]
  },
  {
   "cell_type": "code",
   "execution_count": 40,
   "id": "1eca2eff",
   "metadata": {},
   "outputs": [
    {
     "data": {
      "text/plain": [
       "array(['No', 'Si', 'Sin internet'], dtype=object)"
      ]
     },
     "execution_count": 40,
     "metadata": {},
     "output_type": "execute_result"
    }
   ],
   "source": [
    "\n",
    "\n",
    "df_exp['streaming_peliculas'] = df_exp['streaming_peliculas'].replace({'Yes': 'Si', 'No internet service': 'Sin internet'})\n",
    "df_exp.streaming_peliculas.unique()"
   ]
  },
  {
   "cell_type": "code",
   "execution_count": 41,
   "id": "77d5476e",
   "metadata": {},
   "outputs": [
    {
     "data": {
      "text/plain": [
       "servicio_internet  streaming_peliculas\n",
       "DSL                No                     1436\n",
       "                   Si                      980\n",
       "Fibra_optica       No                     1345\n",
       "                   Si                     1751\n",
       "No                 Sin internet           1520\n",
       "dtype: int64"
      ]
     },
     "execution_count": 41,
     "metadata": {},
     "output_type": "execute_result"
    }
   ],
   "source": [
    "df_exp.groupby(['servicio_internet', 'streaming_peliculas']).size()"
   ]
  },
  {
   "cell_type": "markdown",
   "id": "2f6671aa",
   "metadata": {},
   "source": [
    "Clientes sin internet, no cuentan con streaming de peliculas"
   ]
  },
  {
   "cell_type": "markdown",
   "id": "b0ca7f48",
   "metadata": {},
   "source": [
    "__tipo_contrato__"
   ]
  },
  {
   "cell_type": "code",
   "execution_count": 42,
   "id": "257f1075",
   "metadata": {},
   "outputs": [
    {
     "data": {
      "text/plain": [
       "array(['Un year', 'mes a mes', 'Dos years'], dtype=object)"
      ]
     },
     "execution_count": 42,
     "metadata": {},
     "output_type": "execute_result"
    }
   ],
   "source": [
    "df_exp['tipo_contrato'] = df_exp['tipo_contrato'].replace(\n",
    "    {'One year':'Un year',\n",
    "     'Month-to-month':'mes a mes',\n",
    "     'Two year':'Dos years'\n",
    "     }\n",
    ")\n",
    "\n",
    "df_exp.tipo_contrato.unique()"
   ]
  },
  {
   "cell_type": "markdown",
   "id": "ec51d007",
   "metadata": {},
   "source": [
    "__metodo_pago__"
   ]
  },
  {
   "cell_type": "code",
   "execution_count": 43,
   "id": "6f1e9011",
   "metadata": {},
   "outputs": [
    {
     "data": {
      "text/plain": [
       "array(['Cheque por correo', 'Cheque electronico', 'Tarjeta de credito',\n",
       "       'Transferencia'], dtype=object)"
      ]
     },
     "execution_count": 43,
     "metadata": {},
     "output_type": "execute_result"
    }
   ],
   "source": [
    "df_exp['metodo_pago'] = df_exp['metodo_pago'].replace(\n",
    "    {'Mailed check':'Cheque por correo',\n",
    "     'Electronic check': 'Cheque electronico',\n",
    "     'Credit card (automatic)':'Tarjeta de credito',\n",
    "     'Bank transfer (automatic)':'Transferencia'\n",
    "     }\n",
    "    )\n",
    "\n",
    "df_exp.metodo_pago.unique()"
   ]
  },
  {
   "cell_type": "code",
   "execution_count": 44,
   "id": "b56e1cb5",
   "metadata": {},
   "outputs": [
    {
     "data": {
      "text/html": [
       "<div>\n",
       "<style scoped>\n",
       "    .dataframe tbody tr th:only-of-type {\n",
       "        vertical-align: middle;\n",
       "    }\n",
       "\n",
       "    .dataframe tbody tr th {\n",
       "        vertical-align: top;\n",
       "    }\n",
       "\n",
       "    .dataframe thead th {\n",
       "        text-align: right;\n",
       "    }\n",
       "</style>\n",
       "<table border=\"1\" class=\"dataframe\">\n",
       "  <thead>\n",
       "    <tr style=\"text-align: right;\">\n",
       "      <th></th>\n",
       "      <th>cancelacion</th>\n",
       "      <th>genero</th>\n",
       "      <th>jubilado</th>\n",
       "      <th>en_pareja</th>\n",
       "      <th>dependientes</th>\n",
       "      <th>meses_contrato</th>\n",
       "      <th>servicio_telefonico</th>\n",
       "      <th>multiples_lineas</th>\n",
       "      <th>servicio_internet</th>\n",
       "      <th>seguridad_online</th>\n",
       "      <th>...</th>\n",
       "      <th>proteccion_dispositivo</th>\n",
       "      <th>soporte_efectivo</th>\n",
       "      <th>streaming_TV</th>\n",
       "      <th>streaming_peliculas</th>\n",
       "      <th>tipo_contrato</th>\n",
       "      <th>facturacion_electronica</th>\n",
       "      <th>metodo_pago</th>\n",
       "      <th>cuenta_mensual</th>\n",
       "      <th>cuentas_total</th>\n",
       "      <th>cuentas_diarias</th>\n",
       "    </tr>\n",
       "  </thead>\n",
       "  <tbody>\n",
       "    <tr>\n",
       "      <th>0</th>\n",
       "      <td>0</td>\n",
       "      <td>Femenino</td>\n",
       "      <td>No</td>\n",
       "      <td>Si</td>\n",
       "      <td>Si</td>\n",
       "      <td>9</td>\n",
       "      <td>Si</td>\n",
       "      <td>No</td>\n",
       "      <td>DSL</td>\n",
       "      <td>No</td>\n",
       "      <td>...</td>\n",
       "      <td>No</td>\n",
       "      <td>Si</td>\n",
       "      <td>Si</td>\n",
       "      <td>No</td>\n",
       "      <td>Un year</td>\n",
       "      <td>Si</td>\n",
       "      <td>Cheque por correo</td>\n",
       "      <td>65.6</td>\n",
       "      <td>593.30</td>\n",
       "      <td>0.242963</td>\n",
       "    </tr>\n",
       "    <tr>\n",
       "      <th>1</th>\n",
       "      <td>0</td>\n",
       "      <td>Masculino</td>\n",
       "      <td>No</td>\n",
       "      <td>No</td>\n",
       "      <td>No</td>\n",
       "      <td>9</td>\n",
       "      <td>Si</td>\n",
       "      <td>Yes</td>\n",
       "      <td>DSL</td>\n",
       "      <td>No</td>\n",
       "      <td>...</td>\n",
       "      <td>No</td>\n",
       "      <td>No</td>\n",
       "      <td>No</td>\n",
       "      <td>Si</td>\n",
       "      <td>mes a mes</td>\n",
       "      <td>No</td>\n",
       "      <td>Cheque por correo</td>\n",
       "      <td>59.9</td>\n",
       "      <td>542.40</td>\n",
       "      <td>0.221852</td>\n",
       "    </tr>\n",
       "    <tr>\n",
       "      <th>2</th>\n",
       "      <td>1</td>\n",
       "      <td>Masculino</td>\n",
       "      <td>No</td>\n",
       "      <td>No</td>\n",
       "      <td>No</td>\n",
       "      <td>4</td>\n",
       "      <td>Si</td>\n",
       "      <td>No</td>\n",
       "      <td>Fibra_optica</td>\n",
       "      <td>No</td>\n",
       "      <td>...</td>\n",
       "      <td>Si</td>\n",
       "      <td>No</td>\n",
       "      <td>No</td>\n",
       "      <td>No</td>\n",
       "      <td>mes a mes</td>\n",
       "      <td>Si</td>\n",
       "      <td>Cheque electronico</td>\n",
       "      <td>73.9</td>\n",
       "      <td>280.85</td>\n",
       "      <td>0.615833</td>\n",
       "    </tr>\n",
       "    <tr>\n",
       "      <th>3</th>\n",
       "      <td>1</td>\n",
       "      <td>Masculino</td>\n",
       "      <td>Si</td>\n",
       "      <td>Si</td>\n",
       "      <td>No</td>\n",
       "      <td>13</td>\n",
       "      <td>Si</td>\n",
       "      <td>No</td>\n",
       "      <td>Fibra_optica</td>\n",
       "      <td>No</td>\n",
       "      <td>...</td>\n",
       "      <td>Si</td>\n",
       "      <td>No</td>\n",
       "      <td>Si</td>\n",
       "      <td>Si</td>\n",
       "      <td>mes a mes</td>\n",
       "      <td>Si</td>\n",
       "      <td>Cheque electronico</td>\n",
       "      <td>98.0</td>\n",
       "      <td>1237.85</td>\n",
       "      <td>0.251282</td>\n",
       "    </tr>\n",
       "    <tr>\n",
       "      <th>4</th>\n",
       "      <td>1</td>\n",
       "      <td>Femenino</td>\n",
       "      <td>Si</td>\n",
       "      <td>Si</td>\n",
       "      <td>No</td>\n",
       "      <td>3</td>\n",
       "      <td>Si</td>\n",
       "      <td>No</td>\n",
       "      <td>Fibra_optica</td>\n",
       "      <td>No</td>\n",
       "      <td>...</td>\n",
       "      <td>No</td>\n",
       "      <td>Si</td>\n",
       "      <td>Si</td>\n",
       "      <td>No</td>\n",
       "      <td>mes a mes</td>\n",
       "      <td>Si</td>\n",
       "      <td>Cheque por correo</td>\n",
       "      <td>83.9</td>\n",
       "      <td>267.40</td>\n",
       "      <td>0.932222</td>\n",
       "    </tr>\n",
       "  </tbody>\n",
       "</table>\n",
       "<p>5 rows × 21 columns</p>\n",
       "</div>"
      ],
      "text/plain": [
       "   cancelacion     genero jubilado en_pareja dependientes  meses_contrato  \\\n",
       "0            0   Femenino       No        Si           Si               9   \n",
       "1            0  Masculino       No        No           No               9   \n",
       "2            1  Masculino       No        No           No               4   \n",
       "3            1  Masculino       Si        Si           No              13   \n",
       "4            1   Femenino       Si        Si           No               3   \n",
       "\n",
       "  servicio_telefonico multiples_lineas servicio_internet seguridad_online  \\\n",
       "0                  Si               No               DSL               No   \n",
       "1                  Si              Yes               DSL               No   \n",
       "2                  Si               No      Fibra_optica               No   \n",
       "3                  Si               No      Fibra_optica               No   \n",
       "4                  Si               No      Fibra_optica               No   \n",
       "\n",
       "   ... proteccion_dispositivo soporte_efectivo streaming_TV  \\\n",
       "0  ...                     No               Si           Si   \n",
       "1  ...                     No               No           No   \n",
       "2  ...                     Si               No           No   \n",
       "3  ...                     Si               No           Si   \n",
       "4  ...                     No               Si           Si   \n",
       "\n",
       "  streaming_peliculas tipo_contrato facturacion_electronica  \\\n",
       "0                  No       Un year                      Si   \n",
       "1                  Si     mes a mes                      No   \n",
       "2                  No     mes a mes                      Si   \n",
       "3                  Si     mes a mes                      Si   \n",
       "4                  No     mes a mes                      Si   \n",
       "\n",
       "          metodo_pago cuenta_mensual  cuentas_total  cuentas_diarias  \n",
       "0   Cheque por correo           65.6         593.30         0.242963  \n",
       "1   Cheque por correo           59.9         542.40         0.221852  \n",
       "2  Cheque electronico           73.9         280.85         0.615833  \n",
       "3  Cheque electronico           98.0        1237.85         0.251282  \n",
       "4   Cheque por correo           83.9         267.40         0.932222  \n",
       "\n",
       "[5 rows x 21 columns]"
      ]
     },
     "execution_count": 44,
     "metadata": {},
     "output_type": "execute_result"
    }
   ],
   "source": [
    "df_exp.head()"
   ]
  },
  {
   "cell_type": "code",
   "execution_count": 45,
   "id": "77adfd5a",
   "metadata": {},
   "outputs": [
    {
     "name": "stdout",
     "output_type": "stream",
     "text": [
      "<class 'pandas.core.frame.DataFrame'>\n",
      "Index: 7032 entries, 0 to 7266\n",
      "Data columns (total 21 columns):\n",
      " #   Column                   Non-Null Count  Dtype  \n",
      "---  ------                   --------------  -----  \n",
      " 0   cancelacion              7032 non-null   int64  \n",
      " 1   genero                   7032 non-null   object \n",
      " 2   jubilado                 7032 non-null   object \n",
      " 3   en_pareja                7032 non-null   object \n",
      " 4   dependientes             7032 non-null   object \n",
      " 5   meses_contrato           7032 non-null   int64  \n",
      " 6   servicio_telefonico      7032 non-null   object \n",
      " 7   multiples_lineas         7032 non-null   object \n",
      " 8   servicio_internet        7032 non-null   object \n",
      " 9   seguridad_online         7032 non-null   object \n",
      " 10  respaldo_online          7032 non-null   object \n",
      " 11  proteccion_dispositivo   7032 non-null   object \n",
      " 12  soporte_efectivo         7032 non-null   object \n",
      " 13  streaming_TV             7032 non-null   object \n",
      " 14  streaming_peliculas      7032 non-null   object \n",
      " 15  tipo_contrato            7032 non-null   object \n",
      " 16  facturacion_electronica  7032 non-null   object \n",
      " 17  metodo_pago              7032 non-null   object \n",
      " 18  cuenta_mensual           7032 non-null   float64\n",
      " 19  cuentas_total            7032 non-null   float64\n",
      " 20  cuentas_diarias          7032 non-null   float64\n",
      "dtypes: float64(3), int64(2), object(16)\n",
      "memory usage: 1.2+ MB\n"
     ]
    }
   ],
   "source": [
    "df_exp.info()"
   ]
  },
  {
   "cell_type": "markdown",
   "id": "0eaa7e48",
   "metadata": {},
   "source": [
    "## Carga y Analisis"
   ]
  },
  {
   "cell_type": "markdown",
   "id": "d3b7d610",
   "metadata": {},
   "source": [
    "### Resumen estadistico variables categoricas "
   ]
  },
  {
   "cell_type": "code",
   "execution_count": 75,
   "id": "036bf0b0",
   "metadata": {},
   "outputs": [],
   "source": [
    "# lista de variables categoricas\n",
    "var_categoricas = df_exp.select_dtypes(include=['object', 'category']).columns\n",
    "#  dataframe con el resumen estadistico por variable\n",
    "df_categoricas = df_exp[var_categoricas].describe()\n",
    "# trasponer dataframe\n",
    "df_categoricas = df_categoricas.T"
   ]
  },
  {
   "cell_type": "code",
   "execution_count": 76,
   "id": "a042c472",
   "metadata": {},
   "outputs": [
    {
     "data": {
      "text/html": [
       "<div>\n",
       "<style scoped>\n",
       "    .dataframe tbody tr th:only-of-type {\n",
       "        vertical-align: middle;\n",
       "    }\n",
       "\n",
       "    .dataframe tbody tr th {\n",
       "        vertical-align: top;\n",
       "    }\n",
       "\n",
       "    .dataframe thead th {\n",
       "        text-align: right;\n",
       "    }\n",
       "</style>\n",
       "<table border=\"1\" class=\"dataframe\">\n",
       "  <thead>\n",
       "    <tr style=\"text-align: right;\">\n",
       "      <th></th>\n",
       "      <th>count</th>\n",
       "      <th>unique</th>\n",
       "      <th>top</th>\n",
       "      <th>freq</th>\n",
       "      <th>proporcion_top</th>\n",
       "    </tr>\n",
       "  </thead>\n",
       "  <tbody>\n",
       "    <tr>\n",
       "      <th>genero</th>\n",
       "      <td>7032</td>\n",
       "      <td>2</td>\n",
       "      <td>Masculino</td>\n",
       "      <td>3549</td>\n",
       "      <td>0.504693</td>\n",
       "    </tr>\n",
       "    <tr>\n",
       "      <th>jubilado</th>\n",
       "      <td>7032</td>\n",
       "      <td>2</td>\n",
       "      <td>No</td>\n",
       "      <td>5890</td>\n",
       "      <td>0.8376</td>\n",
       "    </tr>\n",
       "    <tr>\n",
       "      <th>en_pareja</th>\n",
       "      <td>7032</td>\n",
       "      <td>2</td>\n",
       "      <td>No</td>\n",
       "      <td>3639</td>\n",
       "      <td>0.517491</td>\n",
       "    </tr>\n",
       "    <tr>\n",
       "      <th>dependientes</th>\n",
       "      <td>7032</td>\n",
       "      <td>2</td>\n",
       "      <td>No</td>\n",
       "      <td>4933</td>\n",
       "      <td>0.701507</td>\n",
       "    </tr>\n",
       "    <tr>\n",
       "      <th>servicio_telefonico</th>\n",
       "      <td>7032</td>\n",
       "      <td>2</td>\n",
       "      <td>Si</td>\n",
       "      <td>6352</td>\n",
       "      <td>0.903299</td>\n",
       "    </tr>\n",
       "    <tr>\n",
       "      <th>multiples_lineas</th>\n",
       "      <td>7032</td>\n",
       "      <td>3</td>\n",
       "      <td>No</td>\n",
       "      <td>3385</td>\n",
       "      <td>0.481371</td>\n",
       "    </tr>\n",
       "    <tr>\n",
       "      <th>servicio_internet</th>\n",
       "      <td>7032</td>\n",
       "      <td>3</td>\n",
       "      <td>Fibra_optica</td>\n",
       "      <td>3096</td>\n",
       "      <td>0.440273</td>\n",
       "    </tr>\n",
       "    <tr>\n",
       "      <th>seguridad_online</th>\n",
       "      <td>7032</td>\n",
       "      <td>3</td>\n",
       "      <td>No</td>\n",
       "      <td>3497</td>\n",
       "      <td>0.497298</td>\n",
       "    </tr>\n",
       "    <tr>\n",
       "      <th>respaldo_online</th>\n",
       "      <td>7032</td>\n",
       "      <td>3</td>\n",
       "      <td>No</td>\n",
       "      <td>3087</td>\n",
       "      <td>0.438993</td>\n",
       "    </tr>\n",
       "    <tr>\n",
       "      <th>proteccion_dispositivo</th>\n",
       "      <td>7032</td>\n",
       "      <td>3</td>\n",
       "      <td>No</td>\n",
       "      <td>3094</td>\n",
       "      <td>0.439989</td>\n",
       "    </tr>\n",
       "    <tr>\n",
       "      <th>soporte_efectivo</th>\n",
       "      <td>7032</td>\n",
       "      <td>3</td>\n",
       "      <td>No</td>\n",
       "      <td>3472</td>\n",
       "      <td>0.493743</td>\n",
       "    </tr>\n",
       "    <tr>\n",
       "      <th>streaming_TV</th>\n",
       "      <td>7032</td>\n",
       "      <td>3</td>\n",
       "      <td>No</td>\n",
       "      <td>2809</td>\n",
       "      <td>0.39946</td>\n",
       "    </tr>\n",
       "    <tr>\n",
       "      <th>streaming_peliculas</th>\n",
       "      <td>7032</td>\n",
       "      <td>3</td>\n",
       "      <td>No</td>\n",
       "      <td>2781</td>\n",
       "      <td>0.395478</td>\n",
       "    </tr>\n",
       "    <tr>\n",
       "      <th>tipo_contrato</th>\n",
       "      <td>7032</td>\n",
       "      <td>3</td>\n",
       "      <td>mes a mes</td>\n",
       "      <td>3875</td>\n",
       "      <td>0.551052</td>\n",
       "    </tr>\n",
       "    <tr>\n",
       "      <th>facturacion_electronica</th>\n",
       "      <td>7032</td>\n",
       "      <td>2</td>\n",
       "      <td>Si</td>\n",
       "      <td>4168</td>\n",
       "      <td>0.592719</td>\n",
       "    </tr>\n",
       "    <tr>\n",
       "      <th>metodo_pago</th>\n",
       "      <td>7032</td>\n",
       "      <td>4</td>\n",
       "      <td>Cheque electronico</td>\n",
       "      <td>2365</td>\n",
       "      <td>0.33632</td>\n",
       "    </tr>\n",
       "  </tbody>\n",
       "</table>\n",
       "</div>"
      ],
      "text/plain": [
       "                        count unique                 top  freq proporcion_top\n",
       "genero                   7032      2           Masculino  3549       0.504693\n",
       "jubilado                 7032      2                  No  5890         0.8376\n",
       "en_pareja                7032      2                  No  3639       0.517491\n",
       "dependientes             7032      2                  No  4933       0.701507\n",
       "servicio_telefonico      7032      2                  Si  6352       0.903299\n",
       "multiples_lineas         7032      3                  No  3385       0.481371\n",
       "servicio_internet        7032      3        Fibra_optica  3096       0.440273\n",
       "seguridad_online         7032      3                  No  3497       0.497298\n",
       "respaldo_online          7032      3                  No  3087       0.438993\n",
       "proteccion_dispositivo   7032      3                  No  3094       0.439989\n",
       "soporte_efectivo         7032      3                  No  3472       0.493743\n",
       "streaming_TV             7032      3                  No  2809        0.39946\n",
       "streaming_peliculas      7032      3                  No  2781       0.395478\n",
       "tipo_contrato            7032      3           mes a mes  3875       0.551052\n",
       "facturacion_electronica  7032      2                  Si  4168       0.592719\n",
       "metodo_pago              7032      4  Cheque electronico  2365        0.33632"
      ]
     },
     "execution_count": 76,
     "metadata": {},
     "output_type": "execute_result"
    }
   ],
   "source": [
    "# columna con la proporcion del valor top de cada variable\n",
    "df_categoricas['proporcion_top'] = df_categoricas['freq']/df_categoricas['count']\n",
    "df_categoricas"
   ]
  },
  {
   "cell_type": "markdown",
   "id": "09c328a4",
   "metadata": {},
   "source": [
    "> La proporcion entre hombres y mujeres son similares. (50.4% masculino, 50.6% femenino)\n",
    "\n",
    "> EL 83.76% de clientes no son adultos mayores.\n",
    "\n",
    "> La proporcion entre clientes en pareja y solteros son similares\n",
    "\n",
    "> 70.1% de los clientes no tienen dependientes.\n",
    "\n",
    "> 90.33% de los clientes cuentan con servicio telefonico.\n",
    "\n",
    "> 48.1% de los clientes cuentan con una linea teleonica.\n",
    "\n",
    "> 44.03% de los clientes cuentan con internet de tipo fibra optica.\n",
    "\n",
    "> 49.7% de los clientes no cuenta con seguridad online.\n",
    "\n",
    "> Solo el 43.9% de los clientes no tienen respaldo online.\n",
    "\n",
    "> 44% de los clientes no cuentan con proteccion de dispositivo.\n",
    "\n",
    "> 49.3% de los clientes no cuentan con soporte tecnico eectivo.\n",
    "\n",
    "> 40% de los clientes no cuentan con servicio de streaming TV.\n",
    "\n",
    "> 40% de los clientes no cuentan con servicio de streaming de peliculas.\n",
    "\n",
    "> 55.1% de los clientes tienen un tipo de contrato mes a mes\n",
    "\n",
    "> La mayoria de clientes prefieren recibir factura electronica.\n",
    "\n",
    "> El metodo de pago predilecto por los clientes es Cheque Electronico."
   ]
  },
  {
   "cell_type": "markdown",
   "id": "34935015",
   "metadata": {},
   "source": [
    "### Resumen estadistico variables numericas"
   ]
  },
  {
   "cell_type": "code",
   "execution_count": 77,
   "id": "c63ebd03",
   "metadata": {},
   "outputs": [
    {
     "data": {
      "text/html": [
       "<div>\n",
       "<style scoped>\n",
       "    .dataframe tbody tr th:only-of-type {\n",
       "        vertical-align: middle;\n",
       "    }\n",
       "\n",
       "    .dataframe tbody tr th {\n",
       "        vertical-align: top;\n",
       "    }\n",
       "\n",
       "    .dataframe thead th {\n",
       "        text-align: right;\n",
       "    }\n",
       "</style>\n",
       "<table border=\"1\" class=\"dataframe\">\n",
       "  <thead>\n",
       "    <tr style=\"text-align: right;\">\n",
       "      <th></th>\n",
       "      <th>cancelacion</th>\n",
       "      <th>meses_contrato</th>\n",
       "      <th>cuenta_mensual</th>\n",
       "      <th>cuentas_total</th>\n",
       "      <th>cuentas_diarias</th>\n",
       "    </tr>\n",
       "  </thead>\n",
       "  <tbody>\n",
       "    <tr>\n",
       "      <th>count</th>\n",
       "      <td>7032.000000</td>\n",
       "      <td>7032.000000</td>\n",
       "      <td>7032.000000</td>\n",
       "      <td>7032.000000</td>\n",
       "      <td>7032.000000</td>\n",
       "    </tr>\n",
       "    <tr>\n",
       "      <th>mean</th>\n",
       "      <td>0.265785</td>\n",
       "      <td>32.421786</td>\n",
       "      <td>64.798208</td>\n",
       "      <td>2283.300441</td>\n",
       "      <td>0.287336</td>\n",
       "    </tr>\n",
       "    <tr>\n",
       "      <th>std</th>\n",
       "      <td>0.441782</td>\n",
       "      <td>24.545260</td>\n",
       "      <td>30.085974</td>\n",
       "      <td>2266.771362</td>\n",
       "      <td>0.545069</td>\n",
       "    </tr>\n",
       "    <tr>\n",
       "      <th>min</th>\n",
       "      <td>0.000000</td>\n",
       "      <td>1.000000</td>\n",
       "      <td>18.250000</td>\n",
       "      <td>18.800000</td>\n",
       "      <td>0.008935</td>\n",
       "    </tr>\n",
       "    <tr>\n",
       "      <th>25%</th>\n",
       "      <td>0.000000</td>\n",
       "      <td>9.000000</td>\n",
       "      <td>35.587500</td>\n",
       "      <td>401.450000</td>\n",
       "      <td>0.042590</td>\n",
       "    </tr>\n",
       "    <tr>\n",
       "      <th>50%</th>\n",
       "      <td>0.000000</td>\n",
       "      <td>29.000000</td>\n",
       "      <td>70.350000</td>\n",
       "      <td>1397.475000</td>\n",
       "      <td>0.071576</td>\n",
       "    </tr>\n",
       "    <tr>\n",
       "      <th>75%</th>\n",
       "      <td>1.000000</td>\n",
       "      <td>55.000000</td>\n",
       "      <td>89.862500</td>\n",
       "      <td>3794.737500</td>\n",
       "      <td>0.220374</td>\n",
       "    </tr>\n",
       "    <tr>\n",
       "      <th>max</th>\n",
       "      <td>1.000000</td>\n",
       "      <td>72.000000</td>\n",
       "      <td>118.750000</td>\n",
       "      <td>8684.800000</td>\n",
       "      <td>3.415000</td>\n",
       "    </tr>\n",
       "  </tbody>\n",
       "</table>\n",
       "</div>"
      ],
      "text/plain": [
       "       cancelacion  meses_contrato  cuenta_mensual  cuentas_total  \\\n",
       "count  7032.000000     7032.000000     7032.000000    7032.000000   \n",
       "mean      0.265785       32.421786       64.798208    2283.300441   \n",
       "std       0.441782       24.545260       30.085974    2266.771362   \n",
       "min       0.000000        1.000000       18.250000      18.800000   \n",
       "25%       0.000000        9.000000       35.587500     401.450000   \n",
       "50%       0.000000       29.000000       70.350000    1397.475000   \n",
       "75%       1.000000       55.000000       89.862500    3794.737500   \n",
       "max       1.000000       72.000000      118.750000    8684.800000   \n",
       "\n",
       "       cuentas_diarias  \n",
       "count      7032.000000  \n",
       "mean          0.287336  \n",
       "std           0.545069  \n",
       "min           0.008935  \n",
       "25%           0.042590  \n",
       "50%           0.071576  \n",
       "75%           0.220374  \n",
       "max           3.415000  "
      ]
     },
     "execution_count": 77,
     "metadata": {},
     "output_type": "execute_result"
    }
   ],
   "source": [
    "# dataframe con variables numericas\n",
    "var_numericas = df_exp.select_dtypes(include=['number']).columns\n",
    "df_exp[var_numericas].describe()"
   ]
  },
  {
   "cell_type": "markdown",
   "id": "7783a95e",
   "metadata": {},
   "source": [
    "> La mitad de los clientes que mantienen el servicio tienen 38 meses de contrato (mas de 3 años).\n",
    "\n",
    "> La mitad de los clientes que mantienen el servicio pagan una cuota de mas de 60 mensual. Si se compara dicho valor con el valor minimo y maximo nos damos cuenta que es una tarifa alta.\n",
    "\n",
    "> Muchos de estos clientes acumulan gastos totales grandes.\n",
    "\n",
    "> Diariamente, la mayoria de los clientes generan costos de 0.05. Pero tambien hay ciertos clientes con costos diarios de mas de 3."
   ]
  },
  {
   "cell_type": "markdown",
   "id": "eeae534d",
   "metadata": {},
   "source": [
    "### Analisis estadistico variables categoricas"
   ]
  },
  {
   "cell_type": "markdown",
   "id": "1c2086bc",
   "metadata": {},
   "source": [
    "Para las variables categoricas, seleccionamos los registros de los cliente que cancelan y obtenemos el conteo de cada valor."
   ]
  },
  {
   "cell_type": "code",
   "execution_count": null,
   "id": "022d93d8",
   "metadata": {},
   "outputs": [
    {
     "data": {
      "text/html": [
       "<div>\n",
       "<style scoped>\n",
       "    .dataframe tbody tr th:only-of-type {\n",
       "        vertical-align: middle;\n",
       "    }\n",
       "\n",
       "    .dataframe tbody tr th {\n",
       "        vertical-align: top;\n",
       "    }\n",
       "\n",
       "    .dataframe thead th {\n",
       "        text-align: right;\n",
       "    }\n",
       "</style>\n",
       "<table border=\"1\" class=\"dataframe\">\n",
       "  <thead>\n",
       "    <tr style=\"text-align: right;\">\n",
       "      <th></th>\n",
       "      <th>cancelacion</th>\n",
       "      <th>genero</th>\n",
       "      <th>jubilado</th>\n",
       "      <th>en_pareja</th>\n",
       "      <th>dependientes</th>\n",
       "      <th>servicio_telefonico</th>\n",
       "      <th>servicio_internet</th>\n",
       "      <th>seguridad_online</th>\n",
       "      <th>respaldo_online</th>\n",
       "      <th>proteccion_dispositivo</th>\n",
       "      <th>soporte_efectivo</th>\n",
       "      <th>Streaming_TV</th>\n",
       "      <th>Streaming_peliculas</th>\n",
       "      <th>tipo_contrato</th>\n",
       "      <th>facturacion_electronica</th>\n",
       "      <th>metodo_pago</th>\n",
       "    </tr>\n",
       "  </thead>\n",
       "  <tbody>\n",
       "    <tr>\n",
       "      <th>2</th>\n",
       "      <td>1</td>\n",
       "      <td>1</td>\n",
       "      <td>0</td>\n",
       "      <td>0</td>\n",
       "      <td>0</td>\n",
       "      <td>1</td>\n",
       "      <td>1</td>\n",
       "      <td>1</td>\n",
       "      <td>1</td>\n",
       "      <td>2</td>\n",
       "      <td>1</td>\n",
       "      <td>1</td>\n",
       "      <td>1</td>\n",
       "      <td>0</td>\n",
       "      <td>1</td>\n",
       "      <td>Electronic check</td>\n",
       "    </tr>\n",
       "    <tr>\n",
       "      <th>3</th>\n",
       "      <td>1</td>\n",
       "      <td>1</td>\n",
       "      <td>1</td>\n",
       "      <td>1</td>\n",
       "      <td>0</td>\n",
       "      <td>1</td>\n",
       "      <td>1</td>\n",
       "      <td>1</td>\n",
       "      <td>2</td>\n",
       "      <td>2</td>\n",
       "      <td>1</td>\n",
       "      <td>2</td>\n",
       "      <td>2</td>\n",
       "      <td>0</td>\n",
       "      <td>1</td>\n",
       "      <td>Electronic check</td>\n",
       "    </tr>\n",
       "    <tr>\n",
       "      <th>4</th>\n",
       "      <td>1</td>\n",
       "      <td>0</td>\n",
       "      <td>1</td>\n",
       "      <td>1</td>\n",
       "      <td>0</td>\n",
       "      <td>1</td>\n",
       "      <td>1</td>\n",
       "      <td>1</td>\n",
       "      <td>1</td>\n",
       "      <td>1</td>\n",
       "      <td>2</td>\n",
       "      <td>2</td>\n",
       "      <td>1</td>\n",
       "      <td>0</td>\n",
       "      <td>1</td>\n",
       "      <td>Mailed check</td>\n",
       "    </tr>\n",
       "    <tr>\n",
       "      <th>18</th>\n",
       "      <td>1</td>\n",
       "      <td>1</td>\n",
       "      <td>1</td>\n",
       "      <td>0</td>\n",
       "      <td>0</td>\n",
       "      <td>1</td>\n",
       "      <td>1</td>\n",
       "      <td>2</td>\n",
       "      <td>1</td>\n",
       "      <td>2</td>\n",
       "      <td>1</td>\n",
       "      <td>1</td>\n",
       "      <td>2</td>\n",
       "      <td>1</td>\n",
       "      <td>0</td>\n",
       "      <td>Credit card (automatic)</td>\n",
       "    </tr>\n",
       "    <tr>\n",
       "      <th>19</th>\n",
       "      <td>1</td>\n",
       "      <td>1</td>\n",
       "      <td>1</td>\n",
       "      <td>0</td>\n",
       "      <td>0</td>\n",
       "      <td>0</td>\n",
       "      <td>1</td>\n",
       "      <td>1</td>\n",
       "      <td>1</td>\n",
       "      <td>1</td>\n",
       "      <td>1</td>\n",
       "      <td>1</td>\n",
       "      <td>1</td>\n",
       "      <td>0</td>\n",
       "      <td>1</td>\n",
       "      <td>Electronic check</td>\n",
       "    </tr>\n",
       "  </tbody>\n",
       "</table>\n",
       "</div>"
      ],
      "text/plain": [
       "    cancelacion  genero  jubilado  en_pareja  dependientes  \\\n",
       "2             1       1         0          0             0   \n",
       "3             1       1         1          1             0   \n",
       "4             1       0         1          1             0   \n",
       "18            1       1         1          0             0   \n",
       "19            1       1         1          0             0   \n",
       "\n",
       "    servicio_telefonico  servicio_internet  seguridad_online  respaldo_online  \\\n",
       "2                     1                  1                 1                1   \n",
       "3                     1                  1                 1                2   \n",
       "4                     1                  1                 1                1   \n",
       "18                    1                  1                 2                1   \n",
       "19                    0                  1                 1                1   \n",
       "\n",
       "    proteccion_dispositivo  soporte_efectivo  Streaming_TV  \\\n",
       "2                        2                 1             1   \n",
       "3                        2                 1             2   \n",
       "4                        1                 2             2   \n",
       "18                       2                 1             1   \n",
       "19                       1                 1             1   \n",
       "\n",
       "    Streaming_peliculas  tipo_contrato  facturacion_electronica  \\\n",
       "2                     1              0                        1   \n",
       "3                     2              0                        1   \n",
       "4                     1              0                        1   \n",
       "18                    2              1                        0   \n",
       "19                    1              0                        1   \n",
       "\n",
       "                metodo_pago  \n",
       "2          Electronic check  \n",
       "3          Electronic check  \n",
       "4              Mailed check  \n",
       "18  Credit card (automatic)  \n",
       "19         Electronic check  "
      ]
     },
     "execution_count": 39,
     "metadata": {},
     "output_type": "execute_result"
    }
   ],
   "source": [
    "# dataframe de variables categoricas de clientes que cancelan\n",
    "df_bin_1 = df_bin[df_bin['cancelacion'] == 1]\n",
    "df_bin_1.head()"
   ]
  },
  {
   "cell_type": "code",
   "execution_count": null,
   "id": "afdbbf60",
   "metadata": {},
   "outputs": [
    {
     "name": "stdout",
     "output_type": "stream",
     "text": [
      "----------\n",
      "cancelacion\n",
      "1    1.0\n",
      "Name: cancelacion, dtype: float64\n",
      "----------\n",
      "genero\n",
      "0    0.502408\n",
      "1    0.497592\n",
      "Name: genero, dtype: float64\n",
      "----------\n",
      "jubilado\n",
      "0    0.745318\n",
      "1    0.254682\n",
      "Name: jubilado, dtype: float64\n",
      "----------\n",
      "en_pareja\n",
      "0    0.642055\n",
      "1    0.357945\n",
      "Name: en_pareja, dtype: float64\n",
      "----------\n",
      "dependientes\n",
      "0    0.825575\n",
      "1    0.174425\n",
      "Name: dependientes, dtype: float64\n",
      "----------\n",
      "servicio_telefonico\n",
      "1    0.909042\n",
      "0    0.090958\n",
      "Name: servicio_telefonico, dtype: float64\n",
      "----------\n",
      "servicio_internet\n",
      "1    0.93954\n",
      "0    0.06046\n",
      "Name: servicio_internet, dtype: float64\n",
      "----------\n",
      "seguridad_online\n",
      "1    0.781701\n",
      "2    0.157838\n",
      "0    0.060460\n",
      "Name: seguridad_online, dtype: float64\n",
      "----------\n",
      "respaldo_online\n",
      "1    0.659711\n",
      "2    0.279829\n",
      "0    0.060460\n",
      "Name: respaldo_online, dtype: float64\n",
      "----------\n",
      "proteccion_dispositivo\n",
      "1    0.64794\n",
      "2    0.29160\n",
      "0    0.06046\n",
      "Name: proteccion_dispositivo, dtype: float64\n",
      "----------\n",
      "soporte_efectivo\n",
      "1    0.773676\n",
      "2    0.165864\n",
      "0    0.060460\n",
      "Name: soporte_efectivo, dtype: float64\n",
      "----------\n",
      "Streaming_TV\n",
      "1    0.504013\n",
      "2    0.435527\n",
      "0    0.060460\n",
      "Name: Streaming_TV, dtype: float64\n",
      "----------\n",
      "Streaming_peliculas\n",
      "1    0.501873\n",
      "2    0.437667\n",
      "0    0.060460\n",
      "Name: Streaming_peliculas, dtype: float64\n",
      "----------\n",
      "tipo_contrato\n",
      "0    0.885500\n",
      "1    0.088818\n",
      "2    0.025682\n",
      "Name: tipo_contrato, dtype: float64\n",
      "----------\n",
      "facturacion_electronica\n",
      "1    0.749064\n",
      "0    0.250936\n",
      "Name: facturacion_electronica, dtype: float64\n",
      "----------\n",
      "metodo_pago\n",
      "Electronic check             0.573034\n",
      "Mailed check                 0.164794\n",
      "Bank transfer (automatic)    0.138042\n",
      "Credit card (automatic)      0.124131\n",
      "Name: metodo_pago, dtype: float64\n"
     ]
    }
   ],
   "source": [
    "# conteo de valores de cada variable categorica\n",
    "for col in df_bin_1.columns:\n",
    "    print('-'*10)\n",
    "    print(col)\n",
    "    print(df_bin_1[col].value_counts(normalize=True))"
   ]
  },
  {
   "cell_type": "markdown",
   "id": "3523f283",
   "metadata": {},
   "source": [
    "> Hay 1869 clientes que cancelan el servicio con la empresa.\n",
    "\n",
    "> Presentan similares proporciones entre hombre y mujeres.\n",
    "\n",
    "> 74% no son jubilados.\n",
    "\n",
    "> La mayoria son solteros (64%).\n",
    "\n",
    "> El 82% no poseen dependientes.\n",
    "\n",
    "> El 90% cuenta con servicio telefonico.\n",
    "\n",
    "> El 93% cuenta con servicion de internet.\n",
    "\n",
    "> El 78% no cuenta con seguridad en linea.\n",
    "\n",
    "> La mayoria tampoco no cuenta con respaldo en linea (66%)\n",
    "\n",
    "> La mayoria no esta suscrito a proteccion del dispositivo (65%)\n",
    "\n",
    "> La mayoria no cuentan con un soporte mejorado (77%)\n",
    "\n",
    "> La proporcion entre los que cuentan con servicio de TV por cable y los que no es muy similar. Tambien ocurre lo mismo con el servicio de streaming de peliculas.\n",
    "\n",
    "> El 88% tienen un contrato de tipo mes a mes.\n",
    "\n",
    "> La mayoria prefiere recibir la factura electronica.\n",
    "\n",
    "> El metodo de pago preferido por este grupo es Cheque Electronico.\n",
    "\n"
   ]
  },
  {
   "cell_type": "markdown",
   "id": "2b32c4fd",
   "metadata": {},
   "source": [
    "Ahora, procedemos a obtener la misma estadistica para clientes que mantienen el servicio con la empresa."
   ]
  },
  {
   "cell_type": "code",
   "execution_count": null,
   "id": "4661b688",
   "metadata": {},
   "outputs": [
    {
     "data": {
      "text/html": [
       "<div>\n",
       "<style scoped>\n",
       "    .dataframe tbody tr th:only-of-type {\n",
       "        vertical-align: middle;\n",
       "    }\n",
       "\n",
       "    .dataframe tbody tr th {\n",
       "        vertical-align: top;\n",
       "    }\n",
       "\n",
       "    .dataframe thead th {\n",
       "        text-align: right;\n",
       "    }\n",
       "</style>\n",
       "<table border=\"1\" class=\"dataframe\">\n",
       "  <thead>\n",
       "    <tr style=\"text-align: right;\">\n",
       "      <th></th>\n",
       "      <th>cancelacion</th>\n",
       "      <th>genero</th>\n",
       "      <th>jubilado</th>\n",
       "      <th>en_pareja</th>\n",
       "      <th>dependientes</th>\n",
       "      <th>servicio_telefonico</th>\n",
       "      <th>servicio_internet</th>\n",
       "      <th>seguridad_online</th>\n",
       "      <th>respaldo_online</th>\n",
       "      <th>proteccion_dispositivo</th>\n",
       "      <th>soporte_efectivo</th>\n",
       "      <th>Streaming_TV</th>\n",
       "      <th>Streaming_peliculas</th>\n",
       "      <th>tipo_contrato</th>\n",
       "      <th>facturacion_electronica</th>\n",
       "      <th>metodo_pago</th>\n",
       "    </tr>\n",
       "  </thead>\n",
       "  <tbody>\n",
       "    <tr>\n",
       "      <th>0</th>\n",
       "      <td>0</td>\n",
       "      <td>0</td>\n",
       "      <td>0</td>\n",
       "      <td>1</td>\n",
       "      <td>1</td>\n",
       "      <td>1</td>\n",
       "      <td>1</td>\n",
       "      <td>1</td>\n",
       "      <td>2</td>\n",
       "      <td>1</td>\n",
       "      <td>2</td>\n",
       "      <td>2</td>\n",
       "      <td>1</td>\n",
       "      <td>1</td>\n",
       "      <td>1</td>\n",
       "      <td>Mailed check</td>\n",
       "    </tr>\n",
       "    <tr>\n",
       "      <th>1</th>\n",
       "      <td>0</td>\n",
       "      <td>1</td>\n",
       "      <td>0</td>\n",
       "      <td>0</td>\n",
       "      <td>0</td>\n",
       "      <td>1</td>\n",
       "      <td>1</td>\n",
       "      <td>1</td>\n",
       "      <td>1</td>\n",
       "      <td>1</td>\n",
       "      <td>1</td>\n",
       "      <td>1</td>\n",
       "      <td>2</td>\n",
       "      <td>0</td>\n",
       "      <td>0</td>\n",
       "      <td>Mailed check</td>\n",
       "    </tr>\n",
       "    <tr>\n",
       "      <th>5</th>\n",
       "      <td>0</td>\n",
       "      <td>0</td>\n",
       "      <td>0</td>\n",
       "      <td>0</td>\n",
       "      <td>1</td>\n",
       "      <td>1</td>\n",
       "      <td>1</td>\n",
       "      <td>1</td>\n",
       "      <td>1</td>\n",
       "      <td>1</td>\n",
       "      <td>2</td>\n",
       "      <td>2</td>\n",
       "      <td>2</td>\n",
       "      <td>0</td>\n",
       "      <td>1</td>\n",
       "      <td>Credit card (automatic)</td>\n",
       "    </tr>\n",
       "    <tr>\n",
       "      <th>6</th>\n",
       "      <td>0</td>\n",
       "      <td>0</td>\n",
       "      <td>1</td>\n",
       "      <td>1</td>\n",
       "      <td>0</td>\n",
       "      <td>1</td>\n",
       "      <td>1</td>\n",
       "      <td>2</td>\n",
       "      <td>2</td>\n",
       "      <td>2</td>\n",
       "      <td>2</td>\n",
       "      <td>2</td>\n",
       "      <td>2</td>\n",
       "      <td>2</td>\n",
       "      <td>1</td>\n",
       "      <td>Bank transfer (automatic)</td>\n",
       "    </tr>\n",
       "    <tr>\n",
       "      <th>7</th>\n",
       "      <td>0</td>\n",
       "      <td>1</td>\n",
       "      <td>0</td>\n",
       "      <td>1</td>\n",
       "      <td>0</td>\n",
       "      <td>1</td>\n",
       "      <td>1</td>\n",
       "      <td>2</td>\n",
       "      <td>1</td>\n",
       "      <td>1</td>\n",
       "      <td>2</td>\n",
       "      <td>1</td>\n",
       "      <td>1</td>\n",
       "      <td>2</td>\n",
       "      <td>1</td>\n",
       "      <td>Credit card (automatic)</td>\n",
       "    </tr>\n",
       "  </tbody>\n",
       "</table>\n",
       "</div>"
      ],
      "text/plain": [
       "   cancelacion  genero  jubilado  en_pareja  dependientes  \\\n",
       "0            0       0         0          1             1   \n",
       "1            0       1         0          0             0   \n",
       "5            0       0         0          0             1   \n",
       "6            0       0         1          1             0   \n",
       "7            0       1         0          1             0   \n",
       "\n",
       "   servicio_telefonico  servicio_internet  seguridad_online  respaldo_online  \\\n",
       "0                    1                  1                 1                2   \n",
       "1                    1                  1                 1                1   \n",
       "5                    1                  1                 1                1   \n",
       "6                    1                  1                 2                2   \n",
       "7                    1                  1                 2                1   \n",
       "\n",
       "   proteccion_dispositivo  soporte_efectivo  Streaming_TV  \\\n",
       "0                       1                 2             2   \n",
       "1                       1                 1             1   \n",
       "5                       1                 2             2   \n",
       "6                       2                 2             2   \n",
       "7                       1                 2             1   \n",
       "\n",
       "   Streaming_peliculas  tipo_contrato  facturacion_electronica  \\\n",
       "0                    1              1                        1   \n",
       "1                    2              0                        0   \n",
       "5                    2              0                        1   \n",
       "6                    2              2                        1   \n",
       "7                    1              2                        1   \n",
       "\n",
       "                 metodo_pago  \n",
       "0               Mailed check  \n",
       "1               Mailed check  \n",
       "5    Credit card (automatic)  \n",
       "6  Bank transfer (automatic)  \n",
       "7    Credit card (automatic)  "
      ]
     },
     "execution_count": 41,
     "metadata": {},
     "output_type": "execute_result"
    }
   ],
   "source": [
    "# dataframe de variables categoricas de clientes que cancelan\n",
    "df_bin_0 = df_bin[df_bin['cancelacion'] == 0]\n",
    "df_bin_0.head()"
   ]
  },
  {
   "cell_type": "code",
   "execution_count": null,
   "id": "6e0ea9ad",
   "metadata": {},
   "outputs": [
    {
     "name": "stdout",
     "output_type": "stream",
     "text": [
      "----------\n",
      "cancelacion\n",
      "0    1.0\n",
      "Name: cancelacion, dtype: float64\n",
      "----------\n",
      "genero\n",
      "1    0.507263\n",
      "0    0.492737\n",
      "Name: genero, dtype: float64\n",
      "----------\n",
      "jubilado\n",
      "0    0.871005\n",
      "1    0.128995\n",
      "Name: jubilado, dtype: float64\n",
      "----------\n",
      "en_pareja\n",
      "1    0.5276\n",
      "0    0.4724\n",
      "Name: en_pareja, dtype: float64\n",
      "----------\n",
      "dependientes\n",
      "0    0.656595\n",
      "1    0.343405\n",
      "Name: dependientes, dtype: float64\n",
      "----------\n",
      "servicio_telefonico\n",
      "1    0.90122\n",
      "0    0.09878\n",
      "Name: servicio_telefonico, dtype: float64\n",
      "----------\n",
      "servicio_internet\n",
      "1    0.727484\n",
      "0    0.272516\n",
      "Name: servicio_internet, dtype: float64\n",
      "----------\n",
      "seguridad_online\n",
      "1    0.394344\n",
      "2    0.333140\n",
      "0    0.272516\n",
      "Name: seguridad_online, dtype: float64\n",
      "----------\n",
      "respaldo_online\n",
      "2    0.368390\n",
      "1    0.359094\n",
      "0    0.272516\n",
      "Name: respaldo_online, dtype: float64\n",
      "----------\n",
      "proteccion_dispositivo\n",
      "1    0.364710\n",
      "2    0.362774\n",
      "0    0.272516\n",
      "Name: proteccion_dispositivo, dtype: float64\n",
      "----------\n",
      "soporte_efectivo\n",
      "1    0.392408\n",
      "2    0.335077\n",
      "0    0.272516\n",
      "Name: soporte_efectivo, dtype: float64\n",
      "----------\n",
      "Streaming_TV\n",
      "2    0.365873\n",
      "1    0.361611\n",
      "0    0.272516\n",
      "Name: Streaming_TV, dtype: float64\n",
      "----------\n",
      "Streaming_peliculas\n",
      "2    0.370521\n",
      "1    0.356963\n",
      "0    0.272516\n",
      "Name: Streaming_peliculas, dtype: float64\n",
      "----------\n",
      "tipo_contrato\n",
      "0    0.429983\n",
      "2    0.317064\n",
      "1    0.252954\n",
      "Name: tipo_contrato, dtype: float64\n",
      "----------\n",
      "facturacion_electronica\n",
      "1    0.536122\n",
      "0    0.463878\n",
      "Name: facturacion_electronica, dtype: float64\n",
      "----------\n",
      "metodo_pago\n",
      "Mailed check                 0.251017\n",
      "Electronic check             0.250629\n",
      "Credit card (automatic)      0.249661\n",
      "Bank transfer (automatic)    0.248693\n",
      "Name: metodo_pago, dtype: float64\n"
     ]
    }
   ],
   "source": [
    "# conteo de valores de cada variable categorica\n",
    "for col in df_bin_0.columns:\n",
    "    print('-'*10)\n",
    "    print(col)\n",
    "    print(df_bin_0[col].value_counts(normalize=True))"
   ]
  },
  {
   "cell_type": "markdown",
   "id": "de4d99c0",
   "metadata": {},
   "source": [
    "> La proporcion en cuanto al genero son similares.\n",
    "\n",
    "> La mayoria no son jubilados.\n",
    "\n",
    "> La proporcion entre solteros y en pareja son similares.\n",
    "\n",
    "> El 65% no tiene dependientes.\n",
    "\n",
    "> La mayoria tiene servicio telefonico (90%)\n",
    "\n",
    "> El 72% tiene servicio de internet.\n",
    "\n",
    "> La cantidad de clientes que no tienen seguridad en linea es ligeramente mayor de los que si tienen (39%-33%)\n",
    "\n",
    "> La proporcion de los que tienen respaldo online de los que no es muy similar. Lo mismo ocurre para proteccion del dispositivo, Streaming TV y streaming de peliculas.\n",
    "\n",
    "> La cantidad de clientes que no tienen soporte mejorado es ligeramente mayor de los que si tiene (39%-33%)\n",
    "\n",
    "> La mayoria tienen un tipo de contrato mes a mes.\n",
    "\n",
    "> El 53% prefieren factura electronica.\n",
    "\n",
    "> La proporcion en cuanto a los metodos de pagos son muy similares."
   ]
  },
  {
   "cell_type": "markdown",
   "id": "09cacd1f",
   "metadata": {},
   "source": [
    "Para entender visualmente las conclusiones obtenidas a partir de la estadistica descriptiva, vamos a crear graficos tanto para las variables numericas como para las categoricas."
   ]
  },
  {
   "cell_type": "markdown",
   "id": "08c59b53",
   "metadata": {},
   "source": [
    "### Visualizacion variables numericas"
   ]
  },
  {
   "cell_type": "code",
   "execution_count": null,
   "id": "d2484742",
   "metadata": {},
   "outputs": [
    {
     "data": {
      "text/plain": [
       "10.0"
      ]
     },
     "execution_count": 43,
     "metadata": {},
     "output_type": "execute_result"
    }
   ],
   "source": [
    "df_num[df_num['cancelacion'] == 1]['meses_contrato'].median()"
   ]
  },
  {
   "cell_type": "code",
   "execution_count": null,
   "id": "19de4be2",
   "metadata": {},
   "outputs": [
    {
     "data": {
      "text/plain": [
       "38.0"
      ]
     },
     "execution_count": 44,
     "metadata": {},
     "output_type": "execute_result"
    }
   ],
   "source": [
    "df_num[df_num['cancelacion'] == 0]['meses_contrato'].median()"
   ]
  },
  {
   "cell_type": "code",
   "execution_count": null,
   "id": "0ea341b2",
   "metadata": {},
   "outputs": [],
   "source": [
    "cols = ['cuenta_mensual', 'cuentas_total', 'cuentas_diarias']\n",
    "\n",
    "\n",
    "def resumen_estadistico(df, columnas):\n",
    "    \n",
    "    stats = []\n",
    "\n",
    "    for col in columnas:\n",
    "        cancelan = df[df['cancelacion'] == 1][col]\n",
    "        no_cancelan = df[df['cancelacion'] == 0][col]\n",
    "\n",
    "        stats.append(['Media', col, 'Cancelaron', cancelan.mean()])\n",
    "        stats.append(['Media', col, 'No cancelaron', no_cancelan.mean()])\n",
    "        stats.append(['Mediana', col, 'Cancelaron', cancelan.median()])\n",
    "        stats.append(['Mediana', col, 'No cancelaron', no_cancelan.median()])\n",
    "\n",
    "    new_df = pd.DataFrame(stats, columns=['estadistico', 'variable', 'grupo', 'valor'])\n",
    "    return new_df"
   ]
  },
  {
   "cell_type": "code",
   "execution_count": null,
   "id": "86227aa8",
   "metadata": {},
   "outputs": [],
   "source": [
    "df_resumen = resumen_estadistico(df_num, cols)"
   ]
  },
  {
   "cell_type": "code",
   "execution_count": null,
   "id": "c7307cf0",
   "metadata": {},
   "outputs": [
    {
     "data": {
      "text/html": [
       "<div>\n",
       "<style scoped>\n",
       "    .dataframe tbody tr th:only-of-type {\n",
       "        vertical-align: middle;\n",
       "    }\n",
       "\n",
       "    .dataframe tbody tr th {\n",
       "        vertical-align: top;\n",
       "    }\n",
       "\n",
       "    .dataframe thead th {\n",
       "        text-align: right;\n",
       "    }\n",
       "</style>\n",
       "<table border=\"1\" class=\"dataframe\">\n",
       "  <thead>\n",
       "    <tr style=\"text-align: right;\">\n",
       "      <th></th>\n",
       "      <th>estadistico</th>\n",
       "      <th>variable</th>\n",
       "      <th>grupo</th>\n",
       "      <th>valor</th>\n",
       "    </tr>\n",
       "  </thead>\n",
       "  <tbody>\n",
       "    <tr>\n",
       "      <th>0</th>\n",
       "      <td>Media</td>\n",
       "      <td>cuenta_mensual</td>\n",
       "      <td>Cancelaron</td>\n",
       "      <td>74.441332</td>\n",
       "    </tr>\n",
       "    <tr>\n",
       "      <th>1</th>\n",
       "      <td>Media</td>\n",
       "      <td>cuenta_mensual</td>\n",
       "      <td>No cancelaron</td>\n",
       "      <td>61.307408</td>\n",
       "    </tr>\n",
       "    <tr>\n",
       "      <th>2</th>\n",
       "      <td>Mediana</td>\n",
       "      <td>cuenta_mensual</td>\n",
       "      <td>Cancelaron</td>\n",
       "      <td>79.650000</td>\n",
       "    </tr>\n",
       "    <tr>\n",
       "      <th>3</th>\n",
       "      <td>Mediana</td>\n",
       "      <td>cuenta_mensual</td>\n",
       "      <td>No cancelaron</td>\n",
       "      <td>64.450000</td>\n",
       "    </tr>\n",
       "    <tr>\n",
       "      <th>4</th>\n",
       "      <td>Media</td>\n",
       "      <td>cuentas_total</td>\n",
       "      <td>Cancelaron</td>\n",
       "      <td>1531.796094</td>\n",
       "    </tr>\n",
       "    <tr>\n",
       "      <th>5</th>\n",
       "      <td>Media</td>\n",
       "      <td>cuentas_total</td>\n",
       "      <td>No cancelaron</td>\n",
       "      <td>2555.344141</td>\n",
       "    </tr>\n",
       "    <tr>\n",
       "      <th>6</th>\n",
       "      <td>Mediana</td>\n",
       "      <td>cuentas_total</td>\n",
       "      <td>Cancelaron</td>\n",
       "      <td>703.550000</td>\n",
       "    </tr>\n",
       "    <tr>\n",
       "      <th>7</th>\n",
       "      <td>Mediana</td>\n",
       "      <td>cuentas_total</td>\n",
       "      <td>No cancelaron</td>\n",
       "      <td>1683.600000</td>\n",
       "    </tr>\n",
       "    <tr>\n",
       "      <th>8</th>\n",
       "      <td>Media</td>\n",
       "      <td>cuentas_diarias</td>\n",
       "      <td>Cancelaron</td>\n",
       "      <td>0.637061</td>\n",
       "    </tr>\n",
       "    <tr>\n",
       "      <th>9</th>\n",
       "      <td>Media</td>\n",
       "      <td>cuentas_diarias</td>\n",
       "      <td>No cancelaron</td>\n",
       "      <td>0.160736</td>\n",
       "    </tr>\n",
       "    <tr>\n",
       "      <th>10</th>\n",
       "      <td>Mediana</td>\n",
       "      <td>cuentas_diarias</td>\n",
       "      <td>Cancelaron</td>\n",
       "      <td>0.249306</td>\n",
       "    </tr>\n",
       "    <tr>\n",
       "      <th>11</th>\n",
       "      <td>Mediana</td>\n",
       "      <td>cuentas_diarias</td>\n",
       "      <td>No cancelaron</td>\n",
       "      <td>0.055444</td>\n",
       "    </tr>\n",
       "  </tbody>\n",
       "</table>\n",
       "</div>"
      ],
      "text/plain": [
       "   estadistico         variable          grupo        valor\n",
       "0        Media   cuenta_mensual     Cancelaron    74.441332\n",
       "1        Media   cuenta_mensual  No cancelaron    61.307408\n",
       "2      Mediana   cuenta_mensual     Cancelaron    79.650000\n",
       "3      Mediana   cuenta_mensual  No cancelaron    64.450000\n",
       "4        Media    cuentas_total     Cancelaron  1531.796094\n",
       "5        Media    cuentas_total  No cancelaron  2555.344141\n",
       "6      Mediana    cuentas_total     Cancelaron   703.550000\n",
       "7      Mediana    cuentas_total  No cancelaron  1683.600000\n",
       "8        Media  cuentas_diarias     Cancelaron     0.637061\n",
       "9        Media  cuentas_diarias  No cancelaron     0.160736\n",
       "10     Mediana  cuentas_diarias     Cancelaron     0.249306\n",
       "11     Mediana  cuentas_diarias  No cancelaron     0.055444"
      ]
     },
     "execution_count": 47,
     "metadata": {},
     "output_type": "execute_result"
    }
   ],
   "source": [
    "df_resumen"
   ]
  },
  {
   "cell_type": "code",
   "execution_count": null,
   "id": "249136e2",
   "metadata": {},
   "outputs": [],
   "source": []
  }
 ],
 "metadata": {
  "kernelspec": {
   "display_name": "data",
   "language": "python",
   "name": "python3"
  },
  "language_info": {
   "codemirror_mode": {
    "name": "ipython",
    "version": 3
   },
   "file_extension": ".py",
   "mimetype": "text/x-python",
   "name": "python",
   "nbconvert_exporter": "python",
   "pygments_lexer": "ipython3",
   "version": "3.10.8"
  }
 },
 "nbformat": 4,
 "nbformat_minor": 5
}
